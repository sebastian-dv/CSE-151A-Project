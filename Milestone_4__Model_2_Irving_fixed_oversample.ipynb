{
  "nbformat": 4,
  "nbformat_minor": 0,
  "metadata": {
    "colab": {
      "provenance": [],
      "include_colab_link": true
    },
    "kernelspec": {
      "name": "python3",
      "display_name": "Python 3"
    },
    "language_info": {
      "name": "python"
    }
  },
  "cells": [
    {
      "cell_type": "markdown",
      "metadata": {
        "id": "view-in-github",
        "colab_type": "text"
      },
      "source": [
        "<a href=\"https://colab.research.google.com/github/sebastian-dv/CSE-151A-Project/blob/main/Milestone_4__Model_2_Irving_fixed_oversample.ipynb\" target=\"_parent\"><img src=\"https://colab.research.google.com/assets/colab-badge.svg\" alt=\"Open In Colab\"/></a>"
      ]
    },
    {
      "cell_type": "markdown",
      "source": [
        "# CSE 151A Group Project\n",
        "# Names\n",
        "\n",
        "- Pranav Prabu\n",
        "- Sebastian Diaz\n",
        "- Jou-Chih Chang\n",
        "- Juan Yin\n",
        "- Irving Zhao\n",
        "- Xianzhe Guo\n",
        "- Tiankuo Li"
      ],
      "metadata": {
        "id": "G3tWZU7XYbbH"
      }
    },
    {
      "cell_type": "code",
      "execution_count": 16,
      "metadata": {
        "id": "WNCLyGw_YTCi"
      },
      "outputs": [],
      "source": [
        "import pandas as pd\n",
        "import numpy as np\n",
        "import matplotlib.pyplot as plt\n",
        "import seaborn as sns\n",
        "from sklearn import datasets\n",
        "from sklearn.model_selection import cross_val_score, train_test_split\n",
        "from sklearn.linear_model import LinearRegression\n",
        "from sklearn.metrics import mean_squared_error\n",
        "from sklearn.preprocessing import OneHotEncoder\n",
        "from sklearn.preprocessing import MinMaxScaler\n",
        "from sklearn.linear_model import LogisticRegression\n",
        "from sklearn.metrics import classification_report\n",
        "from imblearn.over_sampling import SMOTE"
      ]
    },
    {
      "cell_type": "code",
      "source": [
        "df = pd.read_csv('https://archive.ics.uci.edu/static/public/880/data.csv')\n",
        "\n",
        "df = df[['age','sex','death','dzgroup','scoma','race','sps','aps','diabetes','dementia','meanbp','wblc','hrt','resp','temp','pafi','alb','bili','crea','sod','ph']]"
      ],
      "metadata": {
        "id": "2kF85YodYqZH"
      },
      "execution_count": 2,
      "outputs": []
    },
    {
      "cell_type": "markdown",
      "source": [
        "## Initial Preprocessing"
      ],
      "metadata": {
        "id": "mq0vRe0-j5iv"
      }
    },
    {
      "cell_type": "code",
      "source": [
        "# one hot encoding race\n",
        "ohe = pd.get_dummies(df[['race']])\n",
        "df = df.drop(['race'], axis = 1)\n",
        "df = pd.concat([df, ohe], axis = 1)\n",
        "\n",
        "# dropping nan values\n",
        "df = df.dropna(axis = 0, how = 'any')\n",
        "\n",
        "# encoding sex\n",
        "df['sex'].replace('female', 0, inplace=True)\n",
        "df['sex'].replace('male', 1, inplace=True)\n",
        "\n",
        "# one hot encoding dzgroup\n",
        "ohe = pd.get_dummies(df[['dzgroup']])\n",
        "df = df.drop(['dzgroup'], axis = 1)\n",
        "\n",
        "X = df.copy()\n",
        "y = ohe.copy()\n",
        "df = pd.concat([df, ohe], axis = 1)\n",
        "\n",
        "# scaling data\n",
        "scaler = MinMaxScaler()\n",
        "X = pd.DataFrame(scaler.fit_transform(X), columns = X.columns)"
      ],
      "metadata": {
        "id": "eERN0WTRhqaJ"
      },
      "execution_count": 3,
      "outputs": []
    },
    {
      "cell_type": "code",
      "source": [
        "X.head()"
      ],
      "metadata": {
        "id": "FAzTXGu_43o2",
        "outputId": "6824ba70-eb59-4b39-c56e-2d8f53378e26",
        "colab": {
          "base_uri": "https://localhost:8080/",
          "height": 256
        }
      },
      "execution_count": 4,
      "outputs": [
        {
          "output_type": "execute_result",
          "data": {
            "text/plain": [
              "        age  sex  death  scoma       sps       aps  diabetes  dementia  \\\n",
              "0  0.544507  1.0    0.0   0.00  0.333700  0.139860       0.0       0.0   \n",
              "1  0.538672  1.0    1.0   0.00  0.164275  0.321678       0.0       0.0   \n",
              "2  0.554409  0.0    1.0   0.26  0.398999  0.405594       0.0       0.0   \n",
              "3  0.383276  0.0    0.0   0.00  0.311257  0.293706       0.0       0.0   \n",
              "4  0.434763  1.0    1.0   0.00  0.132662  0.111888       0.0       0.0   \n",
              "\n",
              "     meanbp      wblc  ...       alb      bili      crea       sod        ph  \\\n",
              "0  0.538889  0.046591  ...  0.048945  0.001590  0.060112  0.476923  0.675213   \n",
              "1  0.433333  0.090846  ...  0.153840  0.004769  0.081967  0.338462  0.699633   \n",
              "2  0.383333  0.233711  ...  0.087410  0.220986  0.153014  0.307692  0.661783   \n",
              "3  0.372222  0.085416  ...  0.055945  0.063587  0.027324  0.307692  0.599511   \n",
              "4  0.744444  0.060566  ...  0.118875  0.006359  0.038251  0.476923  0.575091   \n",
              "\n",
              "   race_asian  race_black  race_hispanic  race_other  race_white  \n",
              "0         0.0         0.0            0.0         1.0         0.0  \n",
              "1         0.0         0.0            0.0         0.0         1.0  \n",
              "2         0.0         0.0            0.0         0.0         1.0  \n",
              "3         0.0         0.0            0.0         0.0         1.0  \n",
              "4         0.0         0.0            0.0         0.0         1.0  \n",
              "\n",
              "[5 rows x 24 columns]"
            ],
            "text/html": [
              "\n",
              "  <div id=\"df-132ab282-852c-4f79-bdf7-e920f35d15c8\" class=\"colab-df-container\">\n",
              "    <div>\n",
              "<style scoped>\n",
              "    .dataframe tbody tr th:only-of-type {\n",
              "        vertical-align: middle;\n",
              "    }\n",
              "\n",
              "    .dataframe tbody tr th {\n",
              "        vertical-align: top;\n",
              "    }\n",
              "\n",
              "    .dataframe thead th {\n",
              "        text-align: right;\n",
              "    }\n",
              "</style>\n",
              "<table border=\"1\" class=\"dataframe\">\n",
              "  <thead>\n",
              "    <tr style=\"text-align: right;\">\n",
              "      <th></th>\n",
              "      <th>age</th>\n",
              "      <th>sex</th>\n",
              "      <th>death</th>\n",
              "      <th>scoma</th>\n",
              "      <th>sps</th>\n",
              "      <th>aps</th>\n",
              "      <th>diabetes</th>\n",
              "      <th>dementia</th>\n",
              "      <th>meanbp</th>\n",
              "      <th>wblc</th>\n",
              "      <th>...</th>\n",
              "      <th>alb</th>\n",
              "      <th>bili</th>\n",
              "      <th>crea</th>\n",
              "      <th>sod</th>\n",
              "      <th>ph</th>\n",
              "      <th>race_asian</th>\n",
              "      <th>race_black</th>\n",
              "      <th>race_hispanic</th>\n",
              "      <th>race_other</th>\n",
              "      <th>race_white</th>\n",
              "    </tr>\n",
              "  </thead>\n",
              "  <tbody>\n",
              "    <tr>\n",
              "      <th>0</th>\n",
              "      <td>0.544507</td>\n",
              "      <td>1.0</td>\n",
              "      <td>0.0</td>\n",
              "      <td>0.00</td>\n",
              "      <td>0.333700</td>\n",
              "      <td>0.139860</td>\n",
              "      <td>0.0</td>\n",
              "      <td>0.0</td>\n",
              "      <td>0.538889</td>\n",
              "      <td>0.046591</td>\n",
              "      <td>...</td>\n",
              "      <td>0.048945</td>\n",
              "      <td>0.001590</td>\n",
              "      <td>0.060112</td>\n",
              "      <td>0.476923</td>\n",
              "      <td>0.675213</td>\n",
              "      <td>0.0</td>\n",
              "      <td>0.0</td>\n",
              "      <td>0.0</td>\n",
              "      <td>1.0</td>\n",
              "      <td>0.0</td>\n",
              "    </tr>\n",
              "    <tr>\n",
              "      <th>1</th>\n",
              "      <td>0.538672</td>\n",
              "      <td>1.0</td>\n",
              "      <td>1.0</td>\n",
              "      <td>0.00</td>\n",
              "      <td>0.164275</td>\n",
              "      <td>0.321678</td>\n",
              "      <td>0.0</td>\n",
              "      <td>0.0</td>\n",
              "      <td>0.433333</td>\n",
              "      <td>0.090846</td>\n",
              "      <td>...</td>\n",
              "      <td>0.153840</td>\n",
              "      <td>0.004769</td>\n",
              "      <td>0.081967</td>\n",
              "      <td>0.338462</td>\n",
              "      <td>0.699633</td>\n",
              "      <td>0.0</td>\n",
              "      <td>0.0</td>\n",
              "      <td>0.0</td>\n",
              "      <td>0.0</td>\n",
              "      <td>1.0</td>\n",
              "    </tr>\n",
              "    <tr>\n",
              "      <th>2</th>\n",
              "      <td>0.554409</td>\n",
              "      <td>0.0</td>\n",
              "      <td>1.0</td>\n",
              "      <td>0.26</td>\n",
              "      <td>0.398999</td>\n",
              "      <td>0.405594</td>\n",
              "      <td>0.0</td>\n",
              "      <td>0.0</td>\n",
              "      <td>0.383333</td>\n",
              "      <td>0.233711</td>\n",
              "      <td>...</td>\n",
              "      <td>0.087410</td>\n",
              "      <td>0.220986</td>\n",
              "      <td>0.153014</td>\n",
              "      <td>0.307692</td>\n",
              "      <td>0.661783</td>\n",
              "      <td>0.0</td>\n",
              "      <td>0.0</td>\n",
              "      <td>0.0</td>\n",
              "      <td>0.0</td>\n",
              "      <td>1.0</td>\n",
              "    </tr>\n",
              "    <tr>\n",
              "      <th>3</th>\n",
              "      <td>0.383276</td>\n",
              "      <td>0.0</td>\n",
              "      <td>0.0</td>\n",
              "      <td>0.00</td>\n",
              "      <td>0.311257</td>\n",
              "      <td>0.293706</td>\n",
              "      <td>0.0</td>\n",
              "      <td>0.0</td>\n",
              "      <td>0.372222</td>\n",
              "      <td>0.085416</td>\n",
              "      <td>...</td>\n",
              "      <td>0.055945</td>\n",
              "      <td>0.063587</td>\n",
              "      <td>0.027324</td>\n",
              "      <td>0.307692</td>\n",
              "      <td>0.599511</td>\n",
              "      <td>0.0</td>\n",
              "      <td>0.0</td>\n",
              "      <td>0.0</td>\n",
              "      <td>0.0</td>\n",
              "      <td>1.0</td>\n",
              "    </tr>\n",
              "    <tr>\n",
              "      <th>4</th>\n",
              "      <td>0.434763</td>\n",
              "      <td>1.0</td>\n",
              "      <td>1.0</td>\n",
              "      <td>0.00</td>\n",
              "      <td>0.132662</td>\n",
              "      <td>0.111888</td>\n",
              "      <td>0.0</td>\n",
              "      <td>0.0</td>\n",
              "      <td>0.744444</td>\n",
              "      <td>0.060566</td>\n",
              "      <td>...</td>\n",
              "      <td>0.118875</td>\n",
              "      <td>0.006359</td>\n",
              "      <td>0.038251</td>\n",
              "      <td>0.476923</td>\n",
              "      <td>0.575091</td>\n",
              "      <td>0.0</td>\n",
              "      <td>0.0</td>\n",
              "      <td>0.0</td>\n",
              "      <td>0.0</td>\n",
              "      <td>1.0</td>\n",
              "    </tr>\n",
              "  </tbody>\n",
              "</table>\n",
              "<p>5 rows × 24 columns</p>\n",
              "</div>\n",
              "    <div class=\"colab-df-buttons\">\n",
              "\n",
              "  <div class=\"colab-df-container\">\n",
              "    <button class=\"colab-df-convert\" onclick=\"convertToInteractive('df-132ab282-852c-4f79-bdf7-e920f35d15c8')\"\n",
              "            title=\"Convert this dataframe to an interactive table.\"\n",
              "            style=\"display:none;\">\n",
              "\n",
              "  <svg xmlns=\"http://www.w3.org/2000/svg\" height=\"24px\" viewBox=\"0 -960 960 960\">\n",
              "    <path d=\"M120-120v-720h720v720H120Zm60-500h600v-160H180v160Zm220 220h160v-160H400v160Zm0 220h160v-160H400v160ZM180-400h160v-160H180v160Zm440 0h160v-160H620v160ZM180-180h160v-160H180v160Zm440 0h160v-160H620v160Z\"/>\n",
              "  </svg>\n",
              "    </button>\n",
              "\n",
              "  <style>\n",
              "    .colab-df-container {\n",
              "      display:flex;\n",
              "      gap: 12px;\n",
              "    }\n",
              "\n",
              "    .colab-df-convert {\n",
              "      background-color: #E8F0FE;\n",
              "      border: none;\n",
              "      border-radius: 50%;\n",
              "      cursor: pointer;\n",
              "      display: none;\n",
              "      fill: #1967D2;\n",
              "      height: 32px;\n",
              "      padding: 0 0 0 0;\n",
              "      width: 32px;\n",
              "    }\n",
              "\n",
              "    .colab-df-convert:hover {\n",
              "      background-color: #E2EBFA;\n",
              "      box-shadow: 0px 1px 2px rgba(60, 64, 67, 0.3), 0px 1px 3px 1px rgba(60, 64, 67, 0.15);\n",
              "      fill: #174EA6;\n",
              "    }\n",
              "\n",
              "    .colab-df-buttons div {\n",
              "      margin-bottom: 4px;\n",
              "    }\n",
              "\n",
              "    [theme=dark] .colab-df-convert {\n",
              "      background-color: #3B4455;\n",
              "      fill: #D2E3FC;\n",
              "    }\n",
              "\n",
              "    [theme=dark] .colab-df-convert:hover {\n",
              "      background-color: #434B5C;\n",
              "      box-shadow: 0px 1px 3px 1px rgba(0, 0, 0, 0.15);\n",
              "      filter: drop-shadow(0px 1px 2px rgba(0, 0, 0, 0.3));\n",
              "      fill: #FFFFFF;\n",
              "    }\n",
              "  </style>\n",
              "\n",
              "    <script>\n",
              "      const buttonEl =\n",
              "        document.querySelector('#df-132ab282-852c-4f79-bdf7-e920f35d15c8 button.colab-df-convert');\n",
              "      buttonEl.style.display =\n",
              "        google.colab.kernel.accessAllowed ? 'block' : 'none';\n",
              "\n",
              "      async function convertToInteractive(key) {\n",
              "        const element = document.querySelector('#df-132ab282-852c-4f79-bdf7-e920f35d15c8');\n",
              "        const dataTable =\n",
              "          await google.colab.kernel.invokeFunction('convertToInteractive',\n",
              "                                                    [key], {});\n",
              "        if (!dataTable) return;\n",
              "\n",
              "        const docLinkHtml = 'Like what you see? Visit the ' +\n",
              "          '<a target=\"_blank\" href=https://colab.research.google.com/notebooks/data_table.ipynb>data table notebook</a>'\n",
              "          + ' to learn more about interactive tables.';\n",
              "        element.innerHTML = '';\n",
              "        dataTable['output_type'] = 'display_data';\n",
              "        await google.colab.output.renderOutput(dataTable, element);\n",
              "        const docLink = document.createElement('div');\n",
              "        docLink.innerHTML = docLinkHtml;\n",
              "        element.appendChild(docLink);\n",
              "      }\n",
              "    </script>\n",
              "  </div>\n",
              "\n",
              "\n",
              "<div id=\"df-5e1a007c-8742-4ade-b980-3e64f09af18a\">\n",
              "  <button class=\"colab-df-quickchart\" onclick=\"quickchart('df-5e1a007c-8742-4ade-b980-3e64f09af18a')\"\n",
              "            title=\"Suggest charts\"\n",
              "            style=\"display:none;\">\n",
              "\n",
              "<svg xmlns=\"http://www.w3.org/2000/svg\" height=\"24px\"viewBox=\"0 0 24 24\"\n",
              "     width=\"24px\">\n",
              "    <g>\n",
              "        <path d=\"M19 3H5c-1.1 0-2 .9-2 2v14c0 1.1.9 2 2 2h14c1.1 0 2-.9 2-2V5c0-1.1-.9-2-2-2zM9 17H7v-7h2v7zm4 0h-2V7h2v10zm4 0h-2v-4h2v4z\"/>\n",
              "    </g>\n",
              "</svg>\n",
              "  </button>\n",
              "\n",
              "<style>\n",
              "  .colab-df-quickchart {\n",
              "      --bg-color: #E8F0FE;\n",
              "      --fill-color: #1967D2;\n",
              "      --hover-bg-color: #E2EBFA;\n",
              "      --hover-fill-color: #174EA6;\n",
              "      --disabled-fill-color: #AAA;\n",
              "      --disabled-bg-color: #DDD;\n",
              "  }\n",
              "\n",
              "  [theme=dark] .colab-df-quickchart {\n",
              "      --bg-color: #3B4455;\n",
              "      --fill-color: #D2E3FC;\n",
              "      --hover-bg-color: #434B5C;\n",
              "      --hover-fill-color: #FFFFFF;\n",
              "      --disabled-bg-color: #3B4455;\n",
              "      --disabled-fill-color: #666;\n",
              "  }\n",
              "\n",
              "  .colab-df-quickchart {\n",
              "    background-color: var(--bg-color);\n",
              "    border: none;\n",
              "    border-radius: 50%;\n",
              "    cursor: pointer;\n",
              "    display: none;\n",
              "    fill: var(--fill-color);\n",
              "    height: 32px;\n",
              "    padding: 0;\n",
              "    width: 32px;\n",
              "  }\n",
              "\n",
              "  .colab-df-quickchart:hover {\n",
              "    background-color: var(--hover-bg-color);\n",
              "    box-shadow: 0 1px 2px rgba(60, 64, 67, 0.3), 0 1px 3px 1px rgba(60, 64, 67, 0.15);\n",
              "    fill: var(--button-hover-fill-color);\n",
              "  }\n",
              "\n",
              "  .colab-df-quickchart-complete:disabled,\n",
              "  .colab-df-quickchart-complete:disabled:hover {\n",
              "    background-color: var(--disabled-bg-color);\n",
              "    fill: var(--disabled-fill-color);\n",
              "    box-shadow: none;\n",
              "  }\n",
              "\n",
              "  .colab-df-spinner {\n",
              "    border: 2px solid var(--fill-color);\n",
              "    border-color: transparent;\n",
              "    border-bottom-color: var(--fill-color);\n",
              "    animation:\n",
              "      spin 1s steps(1) infinite;\n",
              "  }\n",
              "\n",
              "  @keyframes spin {\n",
              "    0% {\n",
              "      border-color: transparent;\n",
              "      border-bottom-color: var(--fill-color);\n",
              "      border-left-color: var(--fill-color);\n",
              "    }\n",
              "    20% {\n",
              "      border-color: transparent;\n",
              "      border-left-color: var(--fill-color);\n",
              "      border-top-color: var(--fill-color);\n",
              "    }\n",
              "    30% {\n",
              "      border-color: transparent;\n",
              "      border-left-color: var(--fill-color);\n",
              "      border-top-color: var(--fill-color);\n",
              "      border-right-color: var(--fill-color);\n",
              "    }\n",
              "    40% {\n",
              "      border-color: transparent;\n",
              "      border-right-color: var(--fill-color);\n",
              "      border-top-color: var(--fill-color);\n",
              "    }\n",
              "    60% {\n",
              "      border-color: transparent;\n",
              "      border-right-color: var(--fill-color);\n",
              "    }\n",
              "    80% {\n",
              "      border-color: transparent;\n",
              "      border-right-color: var(--fill-color);\n",
              "      border-bottom-color: var(--fill-color);\n",
              "    }\n",
              "    90% {\n",
              "      border-color: transparent;\n",
              "      border-bottom-color: var(--fill-color);\n",
              "    }\n",
              "  }\n",
              "</style>\n",
              "\n",
              "  <script>\n",
              "    async function quickchart(key) {\n",
              "      const quickchartButtonEl =\n",
              "        document.querySelector('#' + key + ' button');\n",
              "      quickchartButtonEl.disabled = true;  // To prevent multiple clicks.\n",
              "      quickchartButtonEl.classList.add('colab-df-spinner');\n",
              "      try {\n",
              "        const charts = await google.colab.kernel.invokeFunction(\n",
              "            'suggestCharts', [key], {});\n",
              "      } catch (error) {\n",
              "        console.error('Error during call to suggestCharts:', error);\n",
              "      }\n",
              "      quickchartButtonEl.classList.remove('colab-df-spinner');\n",
              "      quickchartButtonEl.classList.add('colab-df-quickchart-complete');\n",
              "    }\n",
              "    (() => {\n",
              "      let quickchartButtonEl =\n",
              "        document.querySelector('#df-5e1a007c-8742-4ade-b980-3e64f09af18a button');\n",
              "      quickchartButtonEl.style.display =\n",
              "        google.colab.kernel.accessAllowed ? 'block' : 'none';\n",
              "    })();\n",
              "  </script>\n",
              "</div>\n",
              "\n",
              "    </div>\n",
              "  </div>\n"
            ],
            "application/vnd.google.colaboratory.intrinsic+json": {
              "type": "dataframe",
              "variable_name": "X"
            }
          },
          "metadata": {},
          "execution_count": 4
        }
      ]
    },
    {
      "cell_type": "code",
      "source": [
        "y.head()"
      ],
      "metadata": {
        "id": "6iaoAtLE4-Gb",
        "outputId": "53806e77-7488-4aa6-ce20-1d70c3d018b8",
        "colab": {
          "base_uri": "https://localhost:8080/",
          "height": 206
        }
      },
      "execution_count": 5,
      "outputs": [
        {
          "output_type": "execute_result",
          "data": {
            "text/plain": [
              "    dzgroup_ARF/MOSF w/Sepsis  dzgroup_CHF  dzgroup_COPD  dzgroup_Cirrhosis  \\\n",
              "0                           0            0             0                  0   \n",
              "6                           0            1             0                  0   \n",
              "17                          1            0             0                  0   \n",
              "22                          1            0             0                  0   \n",
              "25                          0            0             1                  0   \n",
              "\n",
              "    dzgroup_Colon Cancer  dzgroup_Coma  dzgroup_Lung Cancer  \\\n",
              "0                      0             0                    1   \n",
              "6                      0             0                    0   \n",
              "17                     0             0                    0   \n",
              "22                     0             0                    0   \n",
              "25                     0             0                    0   \n",
              "\n",
              "    dzgroup_MOSF w/Malig  \n",
              "0                      0  \n",
              "6                      0  \n",
              "17                     0  \n",
              "22                     0  \n",
              "25                     0  "
            ],
            "text/html": [
              "\n",
              "  <div id=\"df-5b89dc81-1eb0-4ddc-9ba1-c649b64b2372\" class=\"colab-df-container\">\n",
              "    <div>\n",
              "<style scoped>\n",
              "    .dataframe tbody tr th:only-of-type {\n",
              "        vertical-align: middle;\n",
              "    }\n",
              "\n",
              "    .dataframe tbody tr th {\n",
              "        vertical-align: top;\n",
              "    }\n",
              "\n",
              "    .dataframe thead th {\n",
              "        text-align: right;\n",
              "    }\n",
              "</style>\n",
              "<table border=\"1\" class=\"dataframe\">\n",
              "  <thead>\n",
              "    <tr style=\"text-align: right;\">\n",
              "      <th></th>\n",
              "      <th>dzgroup_ARF/MOSF w/Sepsis</th>\n",
              "      <th>dzgroup_CHF</th>\n",
              "      <th>dzgroup_COPD</th>\n",
              "      <th>dzgroup_Cirrhosis</th>\n",
              "      <th>dzgroup_Colon Cancer</th>\n",
              "      <th>dzgroup_Coma</th>\n",
              "      <th>dzgroup_Lung Cancer</th>\n",
              "      <th>dzgroup_MOSF w/Malig</th>\n",
              "    </tr>\n",
              "  </thead>\n",
              "  <tbody>\n",
              "    <tr>\n",
              "      <th>0</th>\n",
              "      <td>0</td>\n",
              "      <td>0</td>\n",
              "      <td>0</td>\n",
              "      <td>0</td>\n",
              "      <td>0</td>\n",
              "      <td>0</td>\n",
              "      <td>1</td>\n",
              "      <td>0</td>\n",
              "    </tr>\n",
              "    <tr>\n",
              "      <th>6</th>\n",
              "      <td>0</td>\n",
              "      <td>1</td>\n",
              "      <td>0</td>\n",
              "      <td>0</td>\n",
              "      <td>0</td>\n",
              "      <td>0</td>\n",
              "      <td>0</td>\n",
              "      <td>0</td>\n",
              "    </tr>\n",
              "    <tr>\n",
              "      <th>17</th>\n",
              "      <td>1</td>\n",
              "      <td>0</td>\n",
              "      <td>0</td>\n",
              "      <td>0</td>\n",
              "      <td>0</td>\n",
              "      <td>0</td>\n",
              "      <td>0</td>\n",
              "      <td>0</td>\n",
              "    </tr>\n",
              "    <tr>\n",
              "      <th>22</th>\n",
              "      <td>1</td>\n",
              "      <td>0</td>\n",
              "      <td>0</td>\n",
              "      <td>0</td>\n",
              "      <td>0</td>\n",
              "      <td>0</td>\n",
              "      <td>0</td>\n",
              "      <td>0</td>\n",
              "    </tr>\n",
              "    <tr>\n",
              "      <th>25</th>\n",
              "      <td>0</td>\n",
              "      <td>0</td>\n",
              "      <td>1</td>\n",
              "      <td>0</td>\n",
              "      <td>0</td>\n",
              "      <td>0</td>\n",
              "      <td>0</td>\n",
              "      <td>0</td>\n",
              "    </tr>\n",
              "  </tbody>\n",
              "</table>\n",
              "</div>\n",
              "    <div class=\"colab-df-buttons\">\n",
              "\n",
              "  <div class=\"colab-df-container\">\n",
              "    <button class=\"colab-df-convert\" onclick=\"convertToInteractive('df-5b89dc81-1eb0-4ddc-9ba1-c649b64b2372')\"\n",
              "            title=\"Convert this dataframe to an interactive table.\"\n",
              "            style=\"display:none;\">\n",
              "\n",
              "  <svg xmlns=\"http://www.w3.org/2000/svg\" height=\"24px\" viewBox=\"0 -960 960 960\">\n",
              "    <path d=\"M120-120v-720h720v720H120Zm60-500h600v-160H180v160Zm220 220h160v-160H400v160Zm0 220h160v-160H400v160ZM180-400h160v-160H180v160Zm440 0h160v-160H620v160ZM180-180h160v-160H180v160Zm440 0h160v-160H620v160Z\"/>\n",
              "  </svg>\n",
              "    </button>\n",
              "\n",
              "  <style>\n",
              "    .colab-df-container {\n",
              "      display:flex;\n",
              "      gap: 12px;\n",
              "    }\n",
              "\n",
              "    .colab-df-convert {\n",
              "      background-color: #E8F0FE;\n",
              "      border: none;\n",
              "      border-radius: 50%;\n",
              "      cursor: pointer;\n",
              "      display: none;\n",
              "      fill: #1967D2;\n",
              "      height: 32px;\n",
              "      padding: 0 0 0 0;\n",
              "      width: 32px;\n",
              "    }\n",
              "\n",
              "    .colab-df-convert:hover {\n",
              "      background-color: #E2EBFA;\n",
              "      box-shadow: 0px 1px 2px rgba(60, 64, 67, 0.3), 0px 1px 3px 1px rgba(60, 64, 67, 0.15);\n",
              "      fill: #174EA6;\n",
              "    }\n",
              "\n",
              "    .colab-df-buttons div {\n",
              "      margin-bottom: 4px;\n",
              "    }\n",
              "\n",
              "    [theme=dark] .colab-df-convert {\n",
              "      background-color: #3B4455;\n",
              "      fill: #D2E3FC;\n",
              "    }\n",
              "\n",
              "    [theme=dark] .colab-df-convert:hover {\n",
              "      background-color: #434B5C;\n",
              "      box-shadow: 0px 1px 3px 1px rgba(0, 0, 0, 0.15);\n",
              "      filter: drop-shadow(0px 1px 2px rgba(0, 0, 0, 0.3));\n",
              "      fill: #FFFFFF;\n",
              "    }\n",
              "  </style>\n",
              "\n",
              "    <script>\n",
              "      const buttonEl =\n",
              "        document.querySelector('#df-5b89dc81-1eb0-4ddc-9ba1-c649b64b2372 button.colab-df-convert');\n",
              "      buttonEl.style.display =\n",
              "        google.colab.kernel.accessAllowed ? 'block' : 'none';\n",
              "\n",
              "      async function convertToInteractive(key) {\n",
              "        const element = document.querySelector('#df-5b89dc81-1eb0-4ddc-9ba1-c649b64b2372');\n",
              "        const dataTable =\n",
              "          await google.colab.kernel.invokeFunction('convertToInteractive',\n",
              "                                                    [key], {});\n",
              "        if (!dataTable) return;\n",
              "\n",
              "        const docLinkHtml = 'Like what you see? Visit the ' +\n",
              "          '<a target=\"_blank\" href=https://colab.research.google.com/notebooks/data_table.ipynb>data table notebook</a>'\n",
              "          + ' to learn more about interactive tables.';\n",
              "        element.innerHTML = '';\n",
              "        dataTable['output_type'] = 'display_data';\n",
              "        await google.colab.output.renderOutput(dataTable, element);\n",
              "        const docLink = document.createElement('div');\n",
              "        docLink.innerHTML = docLinkHtml;\n",
              "        element.appendChild(docLink);\n",
              "      }\n",
              "    </script>\n",
              "  </div>\n",
              "\n",
              "\n",
              "<div id=\"df-07ae393e-2b51-4ccb-8b82-21bb79ab0666\">\n",
              "  <button class=\"colab-df-quickchart\" onclick=\"quickchart('df-07ae393e-2b51-4ccb-8b82-21bb79ab0666')\"\n",
              "            title=\"Suggest charts\"\n",
              "            style=\"display:none;\">\n",
              "\n",
              "<svg xmlns=\"http://www.w3.org/2000/svg\" height=\"24px\"viewBox=\"0 0 24 24\"\n",
              "     width=\"24px\">\n",
              "    <g>\n",
              "        <path d=\"M19 3H5c-1.1 0-2 .9-2 2v14c0 1.1.9 2 2 2h14c1.1 0 2-.9 2-2V5c0-1.1-.9-2-2-2zM9 17H7v-7h2v7zm4 0h-2V7h2v10zm4 0h-2v-4h2v4z\"/>\n",
              "    </g>\n",
              "</svg>\n",
              "  </button>\n",
              "\n",
              "<style>\n",
              "  .colab-df-quickchart {\n",
              "      --bg-color: #E8F0FE;\n",
              "      --fill-color: #1967D2;\n",
              "      --hover-bg-color: #E2EBFA;\n",
              "      --hover-fill-color: #174EA6;\n",
              "      --disabled-fill-color: #AAA;\n",
              "      --disabled-bg-color: #DDD;\n",
              "  }\n",
              "\n",
              "  [theme=dark] .colab-df-quickchart {\n",
              "      --bg-color: #3B4455;\n",
              "      --fill-color: #D2E3FC;\n",
              "      --hover-bg-color: #434B5C;\n",
              "      --hover-fill-color: #FFFFFF;\n",
              "      --disabled-bg-color: #3B4455;\n",
              "      --disabled-fill-color: #666;\n",
              "  }\n",
              "\n",
              "  .colab-df-quickchart {\n",
              "    background-color: var(--bg-color);\n",
              "    border: none;\n",
              "    border-radius: 50%;\n",
              "    cursor: pointer;\n",
              "    display: none;\n",
              "    fill: var(--fill-color);\n",
              "    height: 32px;\n",
              "    padding: 0;\n",
              "    width: 32px;\n",
              "  }\n",
              "\n",
              "  .colab-df-quickchart:hover {\n",
              "    background-color: var(--hover-bg-color);\n",
              "    box-shadow: 0 1px 2px rgba(60, 64, 67, 0.3), 0 1px 3px 1px rgba(60, 64, 67, 0.15);\n",
              "    fill: var(--button-hover-fill-color);\n",
              "  }\n",
              "\n",
              "  .colab-df-quickchart-complete:disabled,\n",
              "  .colab-df-quickchart-complete:disabled:hover {\n",
              "    background-color: var(--disabled-bg-color);\n",
              "    fill: var(--disabled-fill-color);\n",
              "    box-shadow: none;\n",
              "  }\n",
              "\n",
              "  .colab-df-spinner {\n",
              "    border: 2px solid var(--fill-color);\n",
              "    border-color: transparent;\n",
              "    border-bottom-color: var(--fill-color);\n",
              "    animation:\n",
              "      spin 1s steps(1) infinite;\n",
              "  }\n",
              "\n",
              "  @keyframes spin {\n",
              "    0% {\n",
              "      border-color: transparent;\n",
              "      border-bottom-color: var(--fill-color);\n",
              "      border-left-color: var(--fill-color);\n",
              "    }\n",
              "    20% {\n",
              "      border-color: transparent;\n",
              "      border-left-color: var(--fill-color);\n",
              "      border-top-color: var(--fill-color);\n",
              "    }\n",
              "    30% {\n",
              "      border-color: transparent;\n",
              "      border-left-color: var(--fill-color);\n",
              "      border-top-color: var(--fill-color);\n",
              "      border-right-color: var(--fill-color);\n",
              "    }\n",
              "    40% {\n",
              "      border-color: transparent;\n",
              "      border-right-color: var(--fill-color);\n",
              "      border-top-color: var(--fill-color);\n",
              "    }\n",
              "    60% {\n",
              "      border-color: transparent;\n",
              "      border-right-color: var(--fill-color);\n",
              "    }\n",
              "    80% {\n",
              "      border-color: transparent;\n",
              "      border-right-color: var(--fill-color);\n",
              "      border-bottom-color: var(--fill-color);\n",
              "    }\n",
              "    90% {\n",
              "      border-color: transparent;\n",
              "      border-bottom-color: var(--fill-color);\n",
              "    }\n",
              "  }\n",
              "</style>\n",
              "\n",
              "  <script>\n",
              "    async function quickchart(key) {\n",
              "      const quickchartButtonEl =\n",
              "        document.querySelector('#' + key + ' button');\n",
              "      quickchartButtonEl.disabled = true;  // To prevent multiple clicks.\n",
              "      quickchartButtonEl.classList.add('colab-df-spinner');\n",
              "      try {\n",
              "        const charts = await google.colab.kernel.invokeFunction(\n",
              "            'suggestCharts', [key], {});\n",
              "      } catch (error) {\n",
              "        console.error('Error during call to suggestCharts:', error);\n",
              "      }\n",
              "      quickchartButtonEl.classList.remove('colab-df-spinner');\n",
              "      quickchartButtonEl.classList.add('colab-df-quickchart-complete');\n",
              "    }\n",
              "    (() => {\n",
              "      let quickchartButtonEl =\n",
              "        document.querySelector('#df-07ae393e-2b51-4ccb-8b82-21bb79ab0666 button');\n",
              "      quickchartButtonEl.style.display =\n",
              "        google.colab.kernel.accessAllowed ? 'block' : 'none';\n",
              "    })();\n",
              "  </script>\n",
              "</div>\n",
              "\n",
              "    </div>\n",
              "  </div>\n"
            ],
            "application/vnd.google.colaboratory.intrinsic+json": {
              "type": "dataframe",
              "variable_name": "y",
              "summary": "{\n  \"name\": \"y\",\n  \"rows\": 3840,\n  \"fields\": [\n    {\n      \"column\": \"dzgroup_ARF/MOSF w/Sepsis\",\n      \"properties\": {\n        \"dtype\": \"uint8\",\n        \"num_unique_values\": 2,\n        \"samples\": [\n          1,\n          0\n        ],\n        \"semantic_type\": \"\",\n        \"description\": \"\"\n      }\n    },\n    {\n      \"column\": \"dzgroup_CHF\",\n      \"properties\": {\n        \"dtype\": \"uint8\",\n        \"num_unique_values\": 2,\n        \"samples\": [\n          1,\n          0\n        ],\n        \"semantic_type\": \"\",\n        \"description\": \"\"\n      }\n    },\n    {\n      \"column\": \"dzgroup_COPD\",\n      \"properties\": {\n        \"dtype\": \"uint8\",\n        \"num_unique_values\": 2,\n        \"samples\": [\n          1,\n          0\n        ],\n        \"semantic_type\": \"\",\n        \"description\": \"\"\n      }\n    },\n    {\n      \"column\": \"dzgroup_Cirrhosis\",\n      \"properties\": {\n        \"dtype\": \"uint8\",\n        \"num_unique_values\": 2,\n        \"samples\": [\n          1,\n          0\n        ],\n        \"semantic_type\": \"\",\n        \"description\": \"\"\n      }\n    },\n    {\n      \"column\": \"dzgroup_Colon Cancer\",\n      \"properties\": {\n        \"dtype\": \"uint8\",\n        \"num_unique_values\": 2,\n        \"samples\": [\n          1,\n          0\n        ],\n        \"semantic_type\": \"\",\n        \"description\": \"\"\n      }\n    },\n    {\n      \"column\": \"dzgroup_Coma\",\n      \"properties\": {\n        \"dtype\": \"uint8\",\n        \"num_unique_values\": 2,\n        \"samples\": [\n          1,\n          0\n        ],\n        \"semantic_type\": \"\",\n        \"description\": \"\"\n      }\n    },\n    {\n      \"column\": \"dzgroup_Lung Cancer\",\n      \"properties\": {\n        \"dtype\": \"uint8\",\n        \"num_unique_values\": 2,\n        \"samples\": [\n          0,\n          1\n        ],\n        \"semantic_type\": \"\",\n        \"description\": \"\"\n      }\n    },\n    {\n      \"column\": \"dzgroup_MOSF w/Malig\",\n      \"properties\": {\n        \"dtype\": \"uint8\",\n        \"num_unique_values\": 2,\n        \"samples\": [\n          1,\n          0\n        ],\n        \"semantic_type\": \"\",\n        \"description\": \"\"\n      }\n    }\n  ]\n}"
            }
          },
          "metadata": {},
          "execution_count": 5
        }
      ]
    },
    {
      "cell_type": "code",
      "source": [
        "X.shape"
      ],
      "metadata": {
        "id": "ZKWTVNIeB0SC",
        "colab": {
          "base_uri": "https://localhost:8080/"
        },
        "outputId": "645b8b43-ee27-4df6-961e-c4aa31b28f0c"
      },
      "execution_count": 6,
      "outputs": [
        {
          "output_type": "execute_result",
          "data": {
            "text/plain": [
              "(3840, 24)"
            ]
          },
          "metadata": {},
          "execution_count": 6
        }
      ]
    },
    {
      "cell_type": "markdown",
      "source": [
        "# Model 2\n",
        "## Building the Base Model"
      ],
      "metadata": {
        "id": "VWnla0cJsaGs"
      }
    },
    {
      "cell_type": "code",
      "source": [
        "from keras.optimizers import SGD\n",
        "from keras.models import Sequential\n",
        "from keras.layers import Dense\n",
        "from sklearn.model_selection import RepeatedKFold, cross_val_score"
      ],
      "metadata": {
        "id": "GsKJ8W61G222"
      },
      "execution_count": 7,
      "outputs": []
    },
    {
      "cell_type": "code",
      "source": [
        "!pip install keras-tuner -q"
      ],
      "metadata": {
        "id": "c7a_wSlR6WDf",
        "colab": {
          "base_uri": "https://localhost:8080/"
        },
        "outputId": "b75cbe81-0656-4aad-894c-0a9aa8ca34b7"
      },
      "execution_count": 8,
      "outputs": [
        {
          "output_type": "stream",
          "name": "stdout",
          "text": [
            "\u001b[?25l     \u001b[90m━━━━━━━━━━━━━━━━━━━━━━━━━━━━━━━━━━━━━━━━\u001b[0m \u001b[32m0.0/129.1 kB\u001b[0m \u001b[31m?\u001b[0m eta \u001b[36m-:--:--\u001b[0m\r\u001b[2K     \u001b[91m━━━\u001b[0m\u001b[90m╺\u001b[0m\u001b[90m━━━━━━━━━━━━━━━━━━━━━━━━━━━━━━━━━━━━\u001b[0m \u001b[32m10.2/129.1 kB\u001b[0m \u001b[31m?\u001b[0m eta \u001b[36m-:--:--\u001b[0m\r\u001b[2K     \u001b[91m━━━━━━━━━━━━\u001b[0m\u001b[91m╸\u001b[0m\u001b[90m━━━━━━━━━━━━━━━━━━━━━━━━━━━\u001b[0m \u001b[32m41.0/129.1 kB\u001b[0m \u001b[31m488.2 kB/s\u001b[0m eta \u001b[36m0:00:01\u001b[0m\r\u001b[2K     \u001b[90m━━━━━━━━━━━━━━━━━━━━━━━━━━━━━━━━━━━━━━━━\u001b[0m \u001b[32m129.1/129.1 kB\u001b[0m \u001b[31m1.2 MB/s\u001b[0m eta \u001b[36m0:00:00\u001b[0m\n",
            "\u001b[?25h"
          ]
        }
      ]
    },
    {
      "cell_type": "code",
      "source": [
        "X_train, X_test, y_train, y_test = train_test_split(X, y, test_size=0.2, random_state = 0)"
      ],
      "metadata": {
        "id": "yc4rm3dZCcon"
      },
      "execution_count": 9,
      "outputs": []
    },
    {
      "cell_type": "code",
      "source": [
        "def buildmodel():\n",
        "    model = Sequential([\n",
        "        Dense(units = 72, activation = 'tanh', input_dim = 24),\n",
        "        Dense(units = 42, activation = 'tanh'),\n",
        "        Dense(units = 42, activation = 'tanh'),\n",
        "        Dense(units = 42, activation = 'tanh'),\n",
        "        Dense(units = 8, activation = 'softmax')\n",
        "    ])\n",
        "    model.compile(optimizer ='SGD', loss='categorical_crossentropy')\n",
        "    return(model)"
      ],
      "metadata": {
        "id": "0fib5AU9GpXB"
      },
      "execution_count": 10,
      "outputs": []
    },
    {
      "cell_type": "code",
      "source": [
        "classifier = buildmodel()\n",
        "history = classifier.fit(X_train.astype(float), y_train, batch_size = 20, validation_split=0.1, epochs = 100, verbose = 0)\n",
        "yhat_test = classifier.predict(X_test.astype(float))\n",
        "yhat_test"
      ],
      "metadata": {
        "colab": {
          "base_uri": "https://localhost:8080/",
          "height": 347
        },
        "id": "KXTu01LmGuN3",
        "outputId": "2eda1f19-578f-4fc3-c377-efbf11255665"
      },
      "execution_count": 11,
      "outputs": [
        {
          "output_type": "error",
          "ename": "KeyboardInterrupt",
          "evalue": "",
          "traceback": [
            "\u001b[0;31m---------------------------------------------------------------------------\u001b[0m",
            "\u001b[0;31mKeyboardInterrupt\u001b[0m                         Traceback (most recent call last)",
            "\u001b[0;32m<ipython-input-11-e8df16caf5af>\u001b[0m in \u001b[0;36m<cell line: 2>\u001b[0;34m()\u001b[0m\n\u001b[1;32m      1\u001b[0m \u001b[0mclassifier\u001b[0m \u001b[0;34m=\u001b[0m \u001b[0mbuildmodel\u001b[0m\u001b[0;34m(\u001b[0m\u001b[0;34m)\u001b[0m\u001b[0;34m\u001b[0m\u001b[0;34m\u001b[0m\u001b[0m\n\u001b[0;32m----> 2\u001b[0;31m \u001b[0mhistory\u001b[0m \u001b[0;34m=\u001b[0m \u001b[0mclassifier\u001b[0m\u001b[0;34m.\u001b[0m\u001b[0mfit\u001b[0m\u001b[0;34m(\u001b[0m\u001b[0mX_train\u001b[0m\u001b[0;34m.\u001b[0m\u001b[0mastype\u001b[0m\u001b[0;34m(\u001b[0m\u001b[0mfloat\u001b[0m\u001b[0;34m)\u001b[0m\u001b[0;34m,\u001b[0m \u001b[0my_train\u001b[0m\u001b[0;34m,\u001b[0m \u001b[0mbatch_size\u001b[0m \u001b[0;34m=\u001b[0m \u001b[0;36m20\u001b[0m\u001b[0;34m,\u001b[0m \u001b[0mvalidation_split\u001b[0m\u001b[0;34m=\u001b[0m\u001b[0;36m0.1\u001b[0m\u001b[0;34m,\u001b[0m \u001b[0mepochs\u001b[0m \u001b[0;34m=\u001b[0m \u001b[0;36m100\u001b[0m\u001b[0;34m,\u001b[0m \u001b[0mverbose\u001b[0m \u001b[0;34m=\u001b[0m \u001b[0;36m0\u001b[0m\u001b[0;34m)\u001b[0m\u001b[0;34m\u001b[0m\u001b[0;34m\u001b[0m\u001b[0m\n\u001b[0m\u001b[1;32m      3\u001b[0m \u001b[0myhat_test\u001b[0m \u001b[0;34m=\u001b[0m \u001b[0mclassifier\u001b[0m\u001b[0;34m.\u001b[0m\u001b[0mpredict\u001b[0m\u001b[0;34m(\u001b[0m\u001b[0mX_test\u001b[0m\u001b[0;34m.\u001b[0m\u001b[0mastype\u001b[0m\u001b[0;34m(\u001b[0m\u001b[0mfloat\u001b[0m\u001b[0;34m)\u001b[0m\u001b[0;34m)\u001b[0m\u001b[0;34m\u001b[0m\u001b[0;34m\u001b[0m\u001b[0m\n\u001b[1;32m      4\u001b[0m \u001b[0myhat_test\u001b[0m\u001b[0;34m\u001b[0m\u001b[0;34m\u001b[0m\u001b[0m\n",
            "\u001b[0;32m/usr/local/lib/python3.10/dist-packages/keras/src/utils/traceback_utils.py\u001b[0m in \u001b[0;36merror_handler\u001b[0;34m(*args, **kwargs)\u001b[0m\n\u001b[1;32m     63\u001b[0m         \u001b[0mfiltered_tb\u001b[0m \u001b[0;34m=\u001b[0m \u001b[0;32mNone\u001b[0m\u001b[0;34m\u001b[0m\u001b[0;34m\u001b[0m\u001b[0m\n\u001b[1;32m     64\u001b[0m         \u001b[0;32mtry\u001b[0m\u001b[0;34m:\u001b[0m\u001b[0;34m\u001b[0m\u001b[0;34m\u001b[0m\u001b[0m\n\u001b[0;32m---> 65\u001b[0;31m             \u001b[0;32mreturn\u001b[0m \u001b[0mfn\u001b[0m\u001b[0;34m(\u001b[0m\u001b[0;34m*\u001b[0m\u001b[0margs\u001b[0m\u001b[0;34m,\u001b[0m \u001b[0;34m**\u001b[0m\u001b[0mkwargs\u001b[0m\u001b[0;34m)\u001b[0m\u001b[0;34m\u001b[0m\u001b[0;34m\u001b[0m\u001b[0m\n\u001b[0m\u001b[1;32m     66\u001b[0m         \u001b[0;32mexcept\u001b[0m \u001b[0mException\u001b[0m \u001b[0;32mas\u001b[0m \u001b[0me\u001b[0m\u001b[0;34m:\u001b[0m\u001b[0;34m\u001b[0m\u001b[0;34m\u001b[0m\u001b[0m\n\u001b[1;32m     67\u001b[0m             \u001b[0mfiltered_tb\u001b[0m \u001b[0;34m=\u001b[0m \u001b[0m_process_traceback_frames\u001b[0m\u001b[0;34m(\u001b[0m\u001b[0me\u001b[0m\u001b[0;34m.\u001b[0m\u001b[0m__traceback__\u001b[0m\u001b[0;34m)\u001b[0m\u001b[0;34m\u001b[0m\u001b[0;34m\u001b[0m\u001b[0m\n",
            "\u001b[0;32m/usr/local/lib/python3.10/dist-packages/keras/src/engine/training.py\u001b[0m in \u001b[0;36mfit\u001b[0;34m(self, x, y, batch_size, epochs, verbose, callbacks, validation_split, validation_data, shuffle, class_weight, sample_weight, initial_epoch, steps_per_epoch, validation_steps, validation_batch_size, validation_freq, max_queue_size, workers, use_multiprocessing)\u001b[0m\n\u001b[1;32m   1805\u001b[0m                         ):\n\u001b[1;32m   1806\u001b[0m                             \u001b[0mcallbacks\u001b[0m\u001b[0;34m.\u001b[0m\u001b[0mon_train_batch_begin\u001b[0m\u001b[0;34m(\u001b[0m\u001b[0mstep\u001b[0m\u001b[0;34m)\u001b[0m\u001b[0;34m\u001b[0m\u001b[0;34m\u001b[0m\u001b[0m\n\u001b[0;32m-> 1807\u001b[0;31m                             \u001b[0mtmp_logs\u001b[0m \u001b[0;34m=\u001b[0m \u001b[0mself\u001b[0m\u001b[0;34m.\u001b[0m\u001b[0mtrain_function\u001b[0m\u001b[0;34m(\u001b[0m\u001b[0miterator\u001b[0m\u001b[0;34m)\u001b[0m\u001b[0;34m\u001b[0m\u001b[0;34m\u001b[0m\u001b[0m\n\u001b[0m\u001b[1;32m   1808\u001b[0m                             \u001b[0;32mif\u001b[0m \u001b[0mdata_handler\u001b[0m\u001b[0;34m.\u001b[0m\u001b[0mshould_sync\u001b[0m\u001b[0;34m:\u001b[0m\u001b[0;34m\u001b[0m\u001b[0;34m\u001b[0m\u001b[0m\n\u001b[1;32m   1809\u001b[0m                                 \u001b[0mcontext\u001b[0m\u001b[0;34m.\u001b[0m\u001b[0masync_wait\u001b[0m\u001b[0;34m(\u001b[0m\u001b[0;34m)\u001b[0m\u001b[0;34m\u001b[0m\u001b[0;34m\u001b[0m\u001b[0m\n",
            "\u001b[0;32m/usr/local/lib/python3.10/dist-packages/tensorflow/python/util/traceback_utils.py\u001b[0m in \u001b[0;36merror_handler\u001b[0;34m(*args, **kwargs)\u001b[0m\n\u001b[1;32m    148\u001b[0m     \u001b[0mfiltered_tb\u001b[0m \u001b[0;34m=\u001b[0m \u001b[0;32mNone\u001b[0m\u001b[0;34m\u001b[0m\u001b[0;34m\u001b[0m\u001b[0m\n\u001b[1;32m    149\u001b[0m     \u001b[0;32mtry\u001b[0m\u001b[0;34m:\u001b[0m\u001b[0;34m\u001b[0m\u001b[0;34m\u001b[0m\u001b[0m\n\u001b[0;32m--> 150\u001b[0;31m       \u001b[0;32mreturn\u001b[0m \u001b[0mfn\u001b[0m\u001b[0;34m(\u001b[0m\u001b[0;34m*\u001b[0m\u001b[0margs\u001b[0m\u001b[0;34m,\u001b[0m \u001b[0;34m**\u001b[0m\u001b[0mkwargs\u001b[0m\u001b[0;34m)\u001b[0m\u001b[0;34m\u001b[0m\u001b[0;34m\u001b[0m\u001b[0m\n\u001b[0m\u001b[1;32m    151\u001b[0m     \u001b[0;32mexcept\u001b[0m \u001b[0mException\u001b[0m \u001b[0;32mas\u001b[0m \u001b[0me\u001b[0m\u001b[0;34m:\u001b[0m\u001b[0;34m\u001b[0m\u001b[0;34m\u001b[0m\u001b[0m\n\u001b[1;32m    152\u001b[0m       \u001b[0mfiltered_tb\u001b[0m \u001b[0;34m=\u001b[0m \u001b[0m_process_traceback_frames\u001b[0m\u001b[0;34m(\u001b[0m\u001b[0me\u001b[0m\u001b[0;34m.\u001b[0m\u001b[0m__traceback__\u001b[0m\u001b[0;34m)\u001b[0m\u001b[0;34m\u001b[0m\u001b[0;34m\u001b[0m\u001b[0m\n",
            "\u001b[0;32m/usr/local/lib/python3.10/dist-packages/tensorflow/python/eager/polymorphic_function/polymorphic_function.py\u001b[0m in \u001b[0;36m__call__\u001b[0;34m(self, *args, **kwds)\u001b[0m\n\u001b[1;32m    830\u001b[0m \u001b[0;34m\u001b[0m\u001b[0m\n\u001b[1;32m    831\u001b[0m       \u001b[0;32mwith\u001b[0m \u001b[0mOptionalXlaContext\u001b[0m\u001b[0;34m(\u001b[0m\u001b[0mself\u001b[0m\u001b[0;34m.\u001b[0m\u001b[0m_jit_compile\u001b[0m\u001b[0;34m)\u001b[0m\u001b[0;34m:\u001b[0m\u001b[0;34m\u001b[0m\u001b[0;34m\u001b[0m\u001b[0m\n\u001b[0;32m--> 832\u001b[0;31m         \u001b[0mresult\u001b[0m \u001b[0;34m=\u001b[0m \u001b[0mself\u001b[0m\u001b[0;34m.\u001b[0m\u001b[0m_call\u001b[0m\u001b[0;34m(\u001b[0m\u001b[0;34m*\u001b[0m\u001b[0margs\u001b[0m\u001b[0;34m,\u001b[0m \u001b[0;34m**\u001b[0m\u001b[0mkwds\u001b[0m\u001b[0;34m)\u001b[0m\u001b[0;34m\u001b[0m\u001b[0;34m\u001b[0m\u001b[0m\n\u001b[0m\u001b[1;32m    833\u001b[0m \u001b[0;34m\u001b[0m\u001b[0m\n\u001b[1;32m    834\u001b[0m       \u001b[0mnew_tracing_count\u001b[0m \u001b[0;34m=\u001b[0m \u001b[0mself\u001b[0m\u001b[0;34m.\u001b[0m\u001b[0mexperimental_get_tracing_count\u001b[0m\u001b[0;34m(\u001b[0m\u001b[0;34m)\u001b[0m\u001b[0;34m\u001b[0m\u001b[0;34m\u001b[0m\u001b[0m\n",
            "\u001b[0;32m/usr/local/lib/python3.10/dist-packages/tensorflow/python/eager/polymorphic_function/polymorphic_function.py\u001b[0m in \u001b[0;36m_call\u001b[0;34m(self, *args, **kwds)\u001b[0m\n\u001b[1;32m    866\u001b[0m       \u001b[0;31m# In this case we have created variables on the first call, so we run the\u001b[0m\u001b[0;34m\u001b[0m\u001b[0;34m\u001b[0m\u001b[0m\n\u001b[1;32m    867\u001b[0m       \u001b[0;31m# defunned version which is guaranteed to never create variables.\u001b[0m\u001b[0;34m\u001b[0m\u001b[0;34m\u001b[0m\u001b[0m\n\u001b[0;32m--> 868\u001b[0;31m       return tracing_compilation.call_function(\n\u001b[0m\u001b[1;32m    869\u001b[0m           \u001b[0margs\u001b[0m\u001b[0;34m,\u001b[0m \u001b[0mkwds\u001b[0m\u001b[0;34m,\u001b[0m \u001b[0mself\u001b[0m\u001b[0;34m.\u001b[0m\u001b[0m_no_variable_creation_config\u001b[0m\u001b[0;34m\u001b[0m\u001b[0;34m\u001b[0m\u001b[0m\n\u001b[1;32m    870\u001b[0m       )\n",
            "\u001b[0;32m/usr/local/lib/python3.10/dist-packages/tensorflow/python/eager/polymorphic_function/tracing_compilation.py\u001b[0m in \u001b[0;36mcall_function\u001b[0;34m(args, kwargs, tracing_options)\u001b[0m\n\u001b[1;32m    137\u001b[0m   \u001b[0mbound_args\u001b[0m \u001b[0;34m=\u001b[0m \u001b[0mfunction\u001b[0m\u001b[0;34m.\u001b[0m\u001b[0mfunction_type\u001b[0m\u001b[0;34m.\u001b[0m\u001b[0mbind\u001b[0m\u001b[0;34m(\u001b[0m\u001b[0;34m*\u001b[0m\u001b[0margs\u001b[0m\u001b[0;34m,\u001b[0m \u001b[0;34m**\u001b[0m\u001b[0mkwargs\u001b[0m\u001b[0;34m)\u001b[0m\u001b[0;34m\u001b[0m\u001b[0;34m\u001b[0m\u001b[0m\n\u001b[1;32m    138\u001b[0m   \u001b[0mflat_inputs\u001b[0m \u001b[0;34m=\u001b[0m \u001b[0mfunction\u001b[0m\u001b[0;34m.\u001b[0m\u001b[0mfunction_type\u001b[0m\u001b[0;34m.\u001b[0m\u001b[0munpack_inputs\u001b[0m\u001b[0;34m(\u001b[0m\u001b[0mbound_args\u001b[0m\u001b[0;34m)\u001b[0m\u001b[0;34m\u001b[0m\u001b[0;34m\u001b[0m\u001b[0m\n\u001b[0;32m--> 139\u001b[0;31m   return function._call_flat(  # pylint: disable=protected-access\n\u001b[0m\u001b[1;32m    140\u001b[0m       \u001b[0mflat_inputs\u001b[0m\u001b[0;34m,\u001b[0m \u001b[0mcaptured_inputs\u001b[0m\u001b[0;34m=\u001b[0m\u001b[0mfunction\u001b[0m\u001b[0;34m.\u001b[0m\u001b[0mcaptured_inputs\u001b[0m\u001b[0;34m\u001b[0m\u001b[0;34m\u001b[0m\u001b[0m\n\u001b[1;32m    141\u001b[0m   )\n",
            "\u001b[0;32m/usr/local/lib/python3.10/dist-packages/tensorflow/python/eager/polymorphic_function/concrete_function.py\u001b[0m in \u001b[0;36m_call_flat\u001b[0;34m(self, tensor_inputs, captured_inputs)\u001b[0m\n\u001b[1;32m   1321\u001b[0m         and executing_eagerly):\n\u001b[1;32m   1322\u001b[0m       \u001b[0;31m# No tape is watching; skip to running the function.\u001b[0m\u001b[0;34m\u001b[0m\u001b[0;34m\u001b[0m\u001b[0m\n\u001b[0;32m-> 1323\u001b[0;31m       \u001b[0;32mreturn\u001b[0m \u001b[0mself\u001b[0m\u001b[0;34m.\u001b[0m\u001b[0m_inference_function\u001b[0m\u001b[0;34m.\u001b[0m\u001b[0mcall_preflattened\u001b[0m\u001b[0;34m(\u001b[0m\u001b[0margs\u001b[0m\u001b[0;34m)\u001b[0m\u001b[0;34m\u001b[0m\u001b[0;34m\u001b[0m\u001b[0m\n\u001b[0m\u001b[1;32m   1324\u001b[0m     forward_backward = self._select_forward_and_backward_functions(\n\u001b[1;32m   1325\u001b[0m         \u001b[0margs\u001b[0m\u001b[0;34m,\u001b[0m\u001b[0;34m\u001b[0m\u001b[0;34m\u001b[0m\u001b[0m\n",
            "\u001b[0;32m/usr/local/lib/python3.10/dist-packages/tensorflow/python/eager/polymorphic_function/atomic_function.py\u001b[0m in \u001b[0;36mcall_preflattened\u001b[0;34m(self, args)\u001b[0m\n\u001b[1;32m    214\u001b[0m   \u001b[0;32mdef\u001b[0m \u001b[0mcall_preflattened\u001b[0m\u001b[0;34m(\u001b[0m\u001b[0mself\u001b[0m\u001b[0;34m,\u001b[0m \u001b[0margs\u001b[0m\u001b[0;34m:\u001b[0m \u001b[0mSequence\u001b[0m\u001b[0;34m[\u001b[0m\u001b[0mcore\u001b[0m\u001b[0;34m.\u001b[0m\u001b[0mTensor\u001b[0m\u001b[0;34m]\u001b[0m\u001b[0;34m)\u001b[0m \u001b[0;34m->\u001b[0m \u001b[0mAny\u001b[0m\u001b[0;34m:\u001b[0m\u001b[0;34m\u001b[0m\u001b[0;34m\u001b[0m\u001b[0m\n\u001b[1;32m    215\u001b[0m     \u001b[0;34m\"\"\"Calls with flattened tensor inputs and returns the structured output.\"\"\"\u001b[0m\u001b[0;34m\u001b[0m\u001b[0;34m\u001b[0m\u001b[0m\n\u001b[0;32m--> 216\u001b[0;31m     \u001b[0mflat_outputs\u001b[0m \u001b[0;34m=\u001b[0m \u001b[0mself\u001b[0m\u001b[0;34m.\u001b[0m\u001b[0mcall_flat\u001b[0m\u001b[0;34m(\u001b[0m\u001b[0;34m*\u001b[0m\u001b[0margs\u001b[0m\u001b[0;34m)\u001b[0m\u001b[0;34m\u001b[0m\u001b[0;34m\u001b[0m\u001b[0m\n\u001b[0m\u001b[1;32m    217\u001b[0m     \u001b[0;32mreturn\u001b[0m \u001b[0mself\u001b[0m\u001b[0;34m.\u001b[0m\u001b[0mfunction_type\u001b[0m\u001b[0;34m.\u001b[0m\u001b[0mpack_output\u001b[0m\u001b[0;34m(\u001b[0m\u001b[0mflat_outputs\u001b[0m\u001b[0;34m)\u001b[0m\u001b[0;34m\u001b[0m\u001b[0;34m\u001b[0m\u001b[0m\n\u001b[1;32m    218\u001b[0m \u001b[0;34m\u001b[0m\u001b[0m\n",
            "\u001b[0;32m/usr/local/lib/python3.10/dist-packages/tensorflow/python/eager/polymorphic_function/atomic_function.py\u001b[0m in \u001b[0;36mcall_flat\u001b[0;34m(self, *args)\u001b[0m\n\u001b[1;32m    249\u001b[0m         \u001b[0;32mwith\u001b[0m \u001b[0mrecord\u001b[0m\u001b[0;34m.\u001b[0m\u001b[0mstop_recording\u001b[0m\u001b[0;34m(\u001b[0m\u001b[0;34m)\u001b[0m\u001b[0;34m:\u001b[0m\u001b[0;34m\u001b[0m\u001b[0;34m\u001b[0m\u001b[0m\n\u001b[1;32m    250\u001b[0m           \u001b[0;32mif\u001b[0m \u001b[0mself\u001b[0m\u001b[0;34m.\u001b[0m\u001b[0m_bound_context\u001b[0m\u001b[0;34m.\u001b[0m\u001b[0mexecuting_eagerly\u001b[0m\u001b[0;34m(\u001b[0m\u001b[0;34m)\u001b[0m\u001b[0;34m:\u001b[0m\u001b[0;34m\u001b[0m\u001b[0;34m\u001b[0m\u001b[0m\n\u001b[0;32m--> 251\u001b[0;31m             outputs = self._bound_context.call_function(\n\u001b[0m\u001b[1;32m    252\u001b[0m                 \u001b[0mself\u001b[0m\u001b[0;34m.\u001b[0m\u001b[0mname\u001b[0m\u001b[0;34m,\u001b[0m\u001b[0;34m\u001b[0m\u001b[0;34m\u001b[0m\u001b[0m\n\u001b[1;32m    253\u001b[0m                 \u001b[0mlist\u001b[0m\u001b[0;34m(\u001b[0m\u001b[0margs\u001b[0m\u001b[0;34m)\u001b[0m\u001b[0;34m,\u001b[0m\u001b[0;34m\u001b[0m\u001b[0;34m\u001b[0m\u001b[0m\n",
            "\u001b[0;32m/usr/local/lib/python3.10/dist-packages/tensorflow/python/eager/context.py\u001b[0m in \u001b[0;36mcall_function\u001b[0;34m(self, name, tensor_inputs, num_outputs)\u001b[0m\n\u001b[1;32m   1484\u001b[0m     \u001b[0mcancellation_context\u001b[0m \u001b[0;34m=\u001b[0m \u001b[0mcancellation\u001b[0m\u001b[0;34m.\u001b[0m\u001b[0mcontext\u001b[0m\u001b[0;34m(\u001b[0m\u001b[0;34m)\u001b[0m\u001b[0;34m\u001b[0m\u001b[0;34m\u001b[0m\u001b[0m\n\u001b[1;32m   1485\u001b[0m     \u001b[0;32mif\u001b[0m \u001b[0mcancellation_context\u001b[0m \u001b[0;32mis\u001b[0m \u001b[0;32mNone\u001b[0m\u001b[0;34m:\u001b[0m\u001b[0;34m\u001b[0m\u001b[0;34m\u001b[0m\u001b[0m\n\u001b[0;32m-> 1486\u001b[0;31m       outputs = execute.execute(\n\u001b[0m\u001b[1;32m   1487\u001b[0m           \u001b[0mname\u001b[0m\u001b[0;34m.\u001b[0m\u001b[0mdecode\u001b[0m\u001b[0;34m(\u001b[0m\u001b[0;34m\"utf-8\"\u001b[0m\u001b[0;34m)\u001b[0m\u001b[0;34m,\u001b[0m\u001b[0;34m\u001b[0m\u001b[0;34m\u001b[0m\u001b[0m\n\u001b[1;32m   1488\u001b[0m           \u001b[0mnum_outputs\u001b[0m\u001b[0;34m=\u001b[0m\u001b[0mnum_outputs\u001b[0m\u001b[0;34m,\u001b[0m\u001b[0;34m\u001b[0m\u001b[0;34m\u001b[0m\u001b[0m\n",
            "\u001b[0;32m/usr/local/lib/python3.10/dist-packages/tensorflow/python/eager/execute.py\u001b[0m in \u001b[0;36mquick_execute\u001b[0;34m(op_name, num_outputs, inputs, attrs, ctx, name)\u001b[0m\n\u001b[1;32m     51\u001b[0m   \u001b[0;32mtry\u001b[0m\u001b[0;34m:\u001b[0m\u001b[0;34m\u001b[0m\u001b[0;34m\u001b[0m\u001b[0m\n\u001b[1;32m     52\u001b[0m     \u001b[0mctx\u001b[0m\u001b[0;34m.\u001b[0m\u001b[0mensure_initialized\u001b[0m\u001b[0;34m(\u001b[0m\u001b[0;34m)\u001b[0m\u001b[0;34m\u001b[0m\u001b[0;34m\u001b[0m\u001b[0m\n\u001b[0;32m---> 53\u001b[0;31m     tensors = pywrap_tfe.TFE_Py_Execute(ctx._handle, device_name, op_name,\n\u001b[0m\u001b[1;32m     54\u001b[0m                                         inputs, attrs, num_outputs)\n\u001b[1;32m     55\u001b[0m   \u001b[0;32mexcept\u001b[0m \u001b[0mcore\u001b[0m\u001b[0;34m.\u001b[0m\u001b[0m_NotOkStatusException\u001b[0m \u001b[0;32mas\u001b[0m \u001b[0me\u001b[0m\u001b[0;34m:\u001b[0m\u001b[0;34m\u001b[0m\u001b[0;34m\u001b[0m\u001b[0m\n",
            "\u001b[0;31mKeyboardInterrupt\u001b[0m: "
          ]
        }
      ]
    },
    {
      "cell_type": "code",
      "source": [
        "y_label = y_test.to_numpy()\n",
        "actual = np.argmax(y_label, axis=1)\n",
        "pred = np.argmax(yhat_test, axis=1)\n",
        "print(classification_report(actual,pred))"
      ],
      "metadata": {
        "colab": {
          "base_uri": "https://localhost:8080/"
        },
        "id": "1Sn60IYHHBqC",
        "outputId": "0852b1e7-d085-4847-ba21-f2ce9a00fcb4"
      },
      "execution_count": null,
      "outputs": [
        {
          "output_type": "stream",
          "name": "stdout",
          "text": [
            "              precision    recall  f1-score   support\n",
            "\n",
            "           0       0.63      0.73      0.67       344\n",
            "           1       0.41      0.36      0.38       103\n",
            "           2       0.32      0.43      0.37        84\n",
            "           3       0.44      0.10      0.16        41\n",
            "           4       0.00      0.00      0.00        16\n",
            "           5       0.69      0.55      0.62        65\n",
            "           6       0.32      0.52      0.39        46\n",
            "           7       0.42      0.16      0.23        69\n",
            "\n",
            "    accuracy                           0.52       768\n",
            "   macro avg       0.40      0.36      0.35       768\n",
            "weighted avg       0.51      0.52      0.50       768\n",
            "\n"
          ]
        }
      ]
    },
    {
      "cell_type": "code",
      "source": [
        "import matplotlib.pyplot as plt\n",
        "plt.plot(history.history['loss'])\n",
        "plt.plot(history.history['val_loss'])\n",
        "plt.title('Loss/Metric')\n",
        "plt.ylabel('Loss')\n",
        "plt.xlabel('Epoch')\n",
        "plt.legend(['Train', 'Validation'], loc='upper left')\n",
        "plt.show()"
      ],
      "metadata": {
        "colab": {
          "base_uri": "https://localhost:8080/",
          "height": 472
        },
        "id": "SA5wC3BEHceM",
        "outputId": "cf6b4dae-c270-4d31-ba3f-8b4689cd2a85"
      },
      "execution_count": null,
      "outputs": [
        {
          "output_type": "display_data",
          "data": {
            "text/plain": [
              "<Figure size 640x480 with 1 Axes>"
            ],
            "image/png": "[encoded data removed]"
          },
          "metadata": {}
        }
      ]
    },
    {
      "cell_type": "markdown",
      "source": [
        "## K-Fold Cross-Validation"
      ],
      "metadata": {
        "id": "643YH9bHKtN6"
      }
    },
    {
      "cell_type": "code",
      "source": [
        "!pip install scikeras"
      ],
      "metadata": {
        "colab": {
          "base_uri": "https://localhost:8080/"
        },
        "id": "09Iu-49nLErU",
        "outputId": "419280c8-f759-492d-dd4c-d74d70d5a059"
      },
      "execution_count": null,
      "outputs": [
        {
          "output_type": "stream",
          "name": "stdout",
          "text": [
            "Collecting scikeras\n",
            "  Downloading scikeras-0.12.0-py3-none-any.whl (27 kB)\n",
            "Requirement already satisfied: packaging>=0.21 in /usr/local/lib/python3.10/dist-packages (from scikeras) (23.2)\n",
            "Requirement already satisfied: scikit-learn>=1.0.0 in /usr/local/lib/python3.10/dist-packages (from scikeras) (1.2.2)\n",
            "Requirement already satisfied: numpy>=1.17.3 in /usr/local/lib/python3.10/dist-packages (from scikit-learn>=1.0.0->scikeras) (1.25.2)\n",
            "Requirement already satisfied: scipy>=1.3.2 in /usr/local/lib/python3.10/dist-packages (from scikit-learn>=1.0.0->scikeras) (1.11.4)\n",
            "Requirement already satisfied: joblib>=1.1.1 in /usr/local/lib/python3.10/dist-packages (from scikit-learn>=1.0.0->scikeras) (1.3.2)\n",
            "Requirement already satisfied: threadpoolctl>=2.0.0 in /usr/local/lib/python3.10/dist-packages (from scikit-learn>=1.0.0->scikeras) (3.3.0)\n",
            "Installing collected packages: scikeras\n",
            "Successfully installed scikeras-0.12.0\n"
          ]
        }
      ]
    },
    {
      "cell_type": "code",
      "source": [
        "from scikeras.wrappers import KerasClassifier\n",
        "from sklearn.model_selection import RepeatedKFold, cross_val_score, cross_validate\n",
        "import keras\n",
        "import keras_tuner\n",
        "from keras import layers\n",
        "from keras.models import Sequential\n",
        "from keras.layers import Dense\n",
        "from keras.optimizers import SGD"
      ],
      "metadata": {
        "id": "_QeCVRDvLBIU"
      },
      "execution_count": null,
      "outputs": []
    },
    {
      "cell_type": "code",
      "source": [
        "def buildmodel():\n",
        "    model = Sequential([\n",
        "      Dense(units = 72, activation = 'tanh', input_dim = 24),\n",
        "        Dense(units = 42, activation = 'tanh'),\n",
        "        Dense(units = 42, activation = 'tanh'),\n",
        "        Dense(units = 42, activation = 'tanh'),\n",
        "        Dense(units = 8, activation = 'softmax')\n",
        "    ])\n",
        "    model.compile(optimizer='SGD', loss='categorical_crossentropy', metrics=['mse','accuracy'])\n",
        "    return(model)\n",
        "\n",
        "#epochs are the number of iterative training steps we do on the entire dataset, and each iteration is a step. batch_size is the number of datapoints we select per batch. total obs = batch_size * batches\n",
        "estimator = KerasClassifier(model=buildmodel, epochs=50, batch_size=20, verbose=0) # before submitting please set verbose = 0, and rerun. If not grading will be no bueno!\n",
        "kfold = RepeatedKFold(n_splits = 10, n_repeats = 5)\n",
        "results = cross_val_score(estimator, X_train, y_train, cv=kfold, n_jobs = 1,scoring = 'accuracy')"
      ],
      "metadata": {
        "id": "yrZO9iFOLXnl"
      },
      "execution_count": null,
      "outputs": []
    },
    {
      "cell_type": "code",
      "source": [
        "avg_acc = results.mean()\n",
        "avg_acc"
      ],
      "metadata": {
        "colab": {
          "base_uri": "https://localhost:8080/"
        },
        "id": "yYA2nTB5LoRB",
        "outputId": "725d0985-4c11-4537-86f7-9d8d58b8dff6"
      },
      "execution_count": null,
      "outputs": [
        {
          "output_type": "execute_result",
          "data": {
            "text/plain": [
              "0.5262466686408055"
            ]
          },
          "metadata": {},
          "execution_count": 16
        }
      ]
    },
    {
      "cell_type": "markdown",
      "source": [
        "## Hyperparameter Tuning"
      ],
      "metadata": {
        "id": "kuxzxPnufvkn"
      }
    },
    {
      "cell_type": "code",
      "source": [
        "import tensorflow as tf\n",
        "early_stopping = tf.keras.callbacks.EarlyStopping(\n",
        "    monitor='val_loss',\n",
        "    min_delta=0,\n",
        "    patience=10,\n",
        "    verbose=0,\n",
        "    mode='auto',\n",
        "    baseline=None,\n",
        "    restore_best_weights=False,\n",
        "    start_from_epoch=0\n",
        ")"
      ],
      "metadata": {
        "id": "abkmLP0kgfrx"
      },
      "execution_count": null,
      "outputs": []
    },
    {
      "cell_type": "code",
      "source": [
        "#build the hyperparameter tuning model with tuning the units, activation function, and learning rates\n",
        "def build_model(hp):\n",
        "    model = keras.Sequential()\n",
        "    activation = hp.Choice(\"activation\", ['relu', 'sigmoid', 'tanh', 'softmax', 'linear', 'leaky_relu', 'mish'])\n",
        "    # input layer\n",
        "    model.add(\n",
        "        layers.Dense(units = hp.Int(\"units\", min_value = 18, max_value = 180, step = 20),\n",
        "              activation = activation,\n",
        "              input_dim = X.shape[1]\n",
        "        )\n",
        "    )\n",
        "    # hidden layers\n",
        "    for i in range(3):\n",
        "      model.add(\n",
        "          layers.Dense(\n",
        "              units = hp.Int(\"units\", min_value = 12, max_value = 180, step = 20),\n",
        "              activation = activation,\n",
        "          )\n",
        "      )\n",
        "    # output layer\n",
        "    model.add(\n",
        "          layers.Dense(\n",
        "              units = 8,\n",
        "              activation = 'softmax'\n",
        "          )\n",
        "      )\n",
        "    loss = hp.Choice(\"loss\", values = [\"categorical_crossentropy\", \"mse\", \"binary_crossentropy\"])\n",
        "    learning_rate = hp.Float(\"lr\", min_value = 0.001, max_value = 0.1, step = 0.01)\n",
        "    optimizer = hp.Choice(\"optimizer\", values = [\"sgd\", \"adam\", \"rmsprop\"])\n",
        "    if optimizer == \"sgd\":\n",
        "        optimizer = keras.optimizers.Adam(learning_rate=learning_rate)\n",
        "    elif optimizer == \"adam\":\n",
        "        optimizer = keras.optimizers.SGD(learning_rate=learning_rate)\n",
        "    elif optimizer == \"rmsprop\":\n",
        "        optimizer = keras.optimizers.RMSprop(learning_rate=learning_rate)\n",
        "\n",
        "    model.compile(\n",
        "        optimizer = optimizer,\n",
        "        loss = loss,\n",
        "        metrics = [\"accuracy\"],\n",
        "    )\n",
        "    return model\n"
      ],
      "metadata": {
        "id": "08T0D87mgfr0"
      },
      "execution_count": null,
      "outputs": []
    },
    {
      "cell_type": "code",
      "source": [
        "X_train, X_test, y_train, y_test = train_test_split(X, y, test_size = 0.15, random_state = 1)"
      ],
      "metadata": {
        "id": "ssg0xU9ygolp"
      },
      "execution_count": null,
      "outputs": []
    },
    {
      "cell_type": "code",
      "source": [
        "tuner = keras_tuner.RandomSearch(\n",
        "    hypermodel=build_model,\n",
        "    objective=\"val_accuracy\",\n",
        "    max_trials=10,\n",
        "    overwrite=True,\n",
        "    directory=\"my_dir\",\n",
        "    project_name=\"hypertune\",\n",
        ")\n",
        "tuner.search(X_train, y_train, epochs=50, validation_split = 0.2, callbacks = [early_stopping], verbose = 0)"
      ],
      "metadata": {
        "id": "92aV2H-rgolr"
      },
      "execution_count": null,
      "outputs": []
    },
    {
      "cell_type": "code",
      "source": [
        "tuner.results_summary(num_trials=1)"
      ],
      "metadata": {
        "colab": {
          "base_uri": "https://localhost:8080/"
        },
        "id": "FY8FW1hodUcZ",
        "outputId": "c524a337-2a57-4fe6-8f65-ceed4bd8fe42"
      },
      "execution_count": null,
      "outputs": [
        {
          "output_type": "stream",
          "name": "stdout",
          "text": [
            "Results summary\n",
            "Results in my_dir/hypertune\n",
            "Showing 1 best trials\n",
            "Objective(name=\"val_accuracy\", direction=\"max\")\n",
            "\n",
            "Trial 02 summary\n",
            "Hyperparameters:\n",
            "activation: linear\n",
            "units: 98\n",
            "loss: categorical_crossentropy\n",
            "lr: 0.061\n",
            "optimizer: sgd\n",
            "Score: 0.560490071773529\n"
          ]
        }
      ]
    },
    {
      "cell_type": "code",
      "source": [
        "best_hps = tuner.get_best_hyperparameters(num_trials=1)[0]\n",
        "model = tuner.hypermodel.build(best_hps)\n",
        "\n",
        "history = model.fit(X_train.astype(float), y_train, epochs=100, verbose = 0, callbacks = [early_stopping], validation_split = 0.2)\n",
        "\n",
        "y_label = y_test.to_numpy()\n",
        "yhat_test = model.predict(X_test.astype(float))\n",
        "actual = np.argmax(y_label, axis=1)\n",
        "pred = np.argmax(yhat_test, axis=1)\n",
        "\n",
        "print(classification_report(actual,pred))\n",
        "\n",
        "plt.plot(history.history['loss'])\n",
        "plt.plot(history.history['val_loss'])\n",
        "plt.title('Loss/Metric')\n",
        "plt.ylabel('Loss')\n",
        "plt.xlabel('Epoch')\n",
        "plt.legend(['Train', 'Validation'], loc='upper left')\n",
        "plt.show()"
      ],
      "metadata": {
        "colab": {
          "base_uri": "https://localhost:8080/",
          "height": 758
        },
        "outputId": "e6d58164-119a-4518-80a6-49958cb40dea",
        "id": "dlbApi1Sgols"
      },
      "execution_count": null,
      "outputs": [
        {
          "output_type": "stream",
          "name": "stdout",
          "text": [
            "18/18 [==============================] - 0s 2ms/step\n",
            "              precision    recall  f1-score   support\n",
            "\n",
            "           0       0.58      0.82      0.68       247\n",
            "           1       0.55      0.33      0.41        85\n",
            "           2       0.29      0.54      0.37        59\n",
            "           3       0.50      0.02      0.04        45\n",
            "           4       0.00      0.00      0.00        19\n",
            "           5       0.70      0.47      0.57        40\n",
            "           6       0.38      0.22      0.28        36\n",
            "           7       0.56      0.20      0.30        45\n",
            "\n",
            "    accuracy                           0.52       576\n",
            "   macro avg       0.45      0.33      0.33       576\n",
            "weighted avg       0.52      0.52      0.47       576\n",
            "\n"
          ]
        },
        {
          "output_type": "display_data",
          "data": {
            "text/plain": [
              "<Figure size 640x480 with 1 Axes>"
            ],
            "image/png": "[encoded data removed]"
          },
          "metadata": {}
        }
      ]
    },
    {
      "cell_type": "markdown",
      "source": [
        "## Hyperparameter Tuning with Oversampling"
      ],
      "metadata": {
        "id": "kXKBCphuKx1x"
      }
    },
    {
      "cell_type": "code",
      "source": [
        "from sklearn.preprocessing import LabelEncoder\n",
        "myle=LabelEncoder()\n",
        "df = pd.read_csv('https://archive.ics.uci.edu/static/public/880/data.csv')\n",
        "\n",
        "df = df[['age','sex','death','dzgroup','scoma','race','sps','aps','diabetes','dementia','meanbp','wblc','hrt','resp','temp','pafi','alb','bili','crea','sod','ph']]\n",
        "# label encoding race\n",
        "df['race'] = myle.fit_transform(df['race'])\n",
        "# dropping nan values\n",
        "df = df.dropna(axis = 0, how = 'any')\n",
        "\n",
        "# encoding sex\n",
        "df['sex'].replace('female', 0, inplace=True)\n",
        "df['sex'].replace('male', 1, inplace=True)\n",
        "print(df['dzgroup'].value_counts())\n",
        "y = df['dzgroup']\n",
        "X = df.drop(columns = 'dzgroup')\n",
        "\n",
        "# scaling data\n",
        "scaler = MinMaxScaler()\n",
        "X = pd.DataFrame(scaler.fit_transform(X), columns = X.columns)"
      ],
      "metadata": {
        "colab": {
          "base_uri": "https://localhost:8080/"
        },
        "id": "LD9jPmgr2SW1",
        "outputId": "248cc49d-9ef3-4c6f-ef88-2ce836165d69"
      },
      "execution_count": 70,
      "outputs": [
        {
          "output_type": "stream",
          "name": "stdout",
          "text": [
            "ARF/MOSF w/Sepsis    1725\n",
            "CHF                   473\n",
            "COPD                  447\n",
            "MOSF w/Malig          338\n",
            "Coma                  265\n",
            "Cirrhosis             248\n",
            "Lung Cancer           246\n",
            "Colon Cancer           98\n",
            "Name: dzgroup, dtype: int64\n"
          ]
        }
      ]
    },
    {
      "cell_type": "code",
      "source": [
        "X_train, X_test, y_train, y_test = train_test_split(X, y, test_size = 0.2, random_state = 21)"
      ],
      "metadata": {
        "id": "a2Et2VHoKV9m"
      },
      "execution_count": 71,
      "outputs": []
    },
    {
      "cell_type": "code",
      "source": [
        "smote = SMOTE(random_state = 21)\n",
        "X_train_resample, y_train_resample = smote.fit_resample(X_train, y_train)"
      ],
      "metadata": {
        "id": "-DwUYBpzKA7O"
      },
      "execution_count": 72,
      "outputs": []
    },
    {
      "cell_type": "code",
      "source": [
        "ohe = OneHotEncoder()\n",
        "y_train_encoded = ohe.fit_transform(pd.DataFrame(y_train_resample)).todense()\n",
        "ohe = OneHotEncoder()\n",
        "y_test_encoded = ohe.fit_transform(pd.DataFrame(y_test)).todense()"
      ],
      "metadata": {
        "id": "XwJ5Rea7KkC_"
      },
      "execution_count": 73,
      "outputs": []
    },
    {
      "cell_type": "code",
      "source": [
        "X_train_resample, X_val, y_train_resample, y_val = train_test_split(X_train_resample, y_train_encoded, random_state = 21, test_size = 0.1)"
      ],
      "metadata": {
        "id": "NADXcS7lPWUn"
      },
      "execution_count": 75,
      "outputs": []
    },
    {
      "cell_type": "code",
      "source": [
        "def buildmodel():\n",
        "    model = Sequential([\n",
        "        Dense(units = 72, activation = 'tanh', input_dim = 20),\n",
        "        Dense(units = 42, activation = 'tanh'),\n",
        "        Dense(units = 42, activation = 'tanh'),\n",
        "        Dense(units = 42, activation = 'tanh'),\n",
        "        Dense(units = 8, activation = 'softmax')\n",
        "    ])\n",
        "    model.compile(optimizer ='SGD', loss='categorical_crossentropy', metrics = ['accuracy'])\n",
        "    return(model)"
      ],
      "metadata": {
        "id": "WmASlg6eK0VN"
      },
      "execution_count": 67,
      "outputs": []
    },
    {
      "cell_type": "code",
      "source": [
        "classifier = buildmodel()\n",
        "history = classifier.fit(X_train_resample,y_train_resample, batch_size = 20, epochs = 100, verbose = 1, validation_data=(X_val, y_val))\n",
        "yhat_test = classifier.predict(X_test)"
      ],
      "metadata": {
        "id": "6sU42ZRpLW6J",
        "outputId": "e3d0b356-5822-46b6-bfd1-f5e1d8fe0447",
        "colab": {
          "base_uri": "https://localhost:8080/"
        }
      },
      "execution_count": 77,
      "outputs": [
        {
          "output_type": "stream",
          "name": "stdout",
          "text": [
            "Epoch 1/100\n",
            "502/502 [==============================] - 6s 9ms/step - loss: 1.9546 - accuracy: 0.2763 - val_loss: 1.8096 - val_accuracy: 0.3851\n",
            "Epoch 2/100\n",
            "502/502 [==============================] - 2s 4ms/step - loss: 1.6557 - accuracy: 0.3938 - val_loss: 1.5285 - val_accuracy: 0.4434\n",
            "Epoch 3/100\n",
            "502/502 [==============================] - 2s 4ms/step - loss: 1.4967 - accuracy: 0.4337 - val_loss: 1.4586 - val_accuracy: 0.4668\n",
            "Epoch 4/100\n",
            "502/502 [==============================] - 2s 4ms/step - loss: 1.4418 - accuracy: 0.4541 - val_loss: 1.4566 - val_accuracy: 0.4363\n",
            "Epoch 5/100\n",
            "502/502 [==============================] - 2s 4ms/step - loss: 1.4130 - accuracy: 0.4677 - val_loss: 1.3776 - val_accuracy: 0.4982\n",
            "Epoch 6/100\n",
            "502/502 [==============================] - 2s 5ms/step - loss: 1.3951 - accuracy: 0.4763 - val_loss: 1.3774 - val_accuracy: 0.4928\n",
            "Epoch 7/100\n",
            "502/502 [==============================] - 1s 2ms/step - loss: 1.3826 - accuracy: 0.4822 - val_loss: 1.4480 - val_accuracy: 0.4542\n",
            "Epoch 8/100\n",
            "502/502 [==============================] - 1s 2ms/step - loss: 1.3735 - accuracy: 0.4849 - val_loss: 1.3763 - val_accuracy: 0.4874\n",
            "Epoch 9/100\n",
            "502/502 [==============================] - 1s 2ms/step - loss: 1.3662 - accuracy: 0.4849 - val_loss: 1.4566 - val_accuracy: 0.4587\n",
            "Epoch 10/100\n",
            "502/502 [==============================] - 1s 2ms/step - loss: 1.3606 - accuracy: 0.4925 - val_loss: 1.4237 - val_accuracy: 0.4874\n",
            "Epoch 11/100\n",
            "502/502 [==============================] - 1s 2ms/step - loss: 1.3531 - accuracy: 0.4955 - val_loss: 1.3278 - val_accuracy: 0.5189\n",
            "Epoch 12/100\n",
            "502/502 [==============================] - 1s 2ms/step - loss: 1.3443 - accuracy: 0.4964 - val_loss: 1.3369 - val_accuracy: 0.5054\n",
            "Epoch 13/100\n",
            "502/502 [==============================] - 1s 2ms/step - loss: 1.3392 - accuracy: 0.4946 - val_loss: 1.3276 - val_accuracy: 0.5009\n",
            "Epoch 14/100\n",
            "502/502 [==============================] - 1s 2ms/step - loss: 1.3340 - accuracy: 0.4999 - val_loss: 1.3531 - val_accuracy: 0.4811\n",
            "Epoch 15/100\n",
            "502/502 [==============================] - 1s 3ms/step - loss: 1.3296 - accuracy: 0.4997 - val_loss: 1.4013 - val_accuracy: 0.4901\n",
            "Epoch 16/100\n",
            "502/502 [==============================] - 2s 4ms/step - loss: 1.3242 - accuracy: 0.5051 - val_loss: 1.3131 - val_accuracy: 0.5153\n",
            "Epoch 17/100\n",
            "502/502 [==============================] - 1s 2ms/step - loss: 1.3196 - accuracy: 0.5028 - val_loss: 1.3159 - val_accuracy: 0.5054\n",
            "Epoch 18/100\n",
            "502/502 [==============================] - 1s 2ms/step - loss: 1.3150 - accuracy: 0.5062 - val_loss: 1.2999 - val_accuracy: 0.5135\n",
            "Epoch 19/100\n",
            "502/502 [==============================] - 1s 2ms/step - loss: 1.3087 - accuracy: 0.5088 - val_loss: 1.3004 - val_accuracy: 0.5072\n",
            "Epoch 20/100\n",
            "502/502 [==============================] - 1s 2ms/step - loss: 1.3042 - accuracy: 0.5074 - val_loss: 1.2899 - val_accuracy: 0.5081\n",
            "Epoch 21/100\n",
            "502/502 [==============================] - 1s 3ms/step - loss: 1.2985 - accuracy: 0.5156 - val_loss: 1.3870 - val_accuracy: 0.4758\n",
            "Epoch 22/100\n",
            "502/502 [==============================] - 1s 2ms/step - loss: 1.2960 - accuracy: 0.5170 - val_loss: 1.3310 - val_accuracy: 0.5063\n",
            "Epoch 23/100\n",
            "502/502 [==============================] - 1s 2ms/step - loss: 1.2867 - accuracy: 0.5166 - val_loss: 1.2679 - val_accuracy: 0.5305\n",
            "Epoch 24/100\n",
            "502/502 [==============================] - 1s 2ms/step - loss: 1.2833 - accuracy: 0.5218 - val_loss: 1.3368 - val_accuracy: 0.5027\n",
            "Epoch 25/100\n",
            "502/502 [==============================] - 1s 3ms/step - loss: 1.2790 - accuracy: 0.5230 - val_loss: 1.2682 - val_accuracy: 0.5260\n",
            "Epoch 26/100\n",
            "502/502 [==============================] - 2s 3ms/step - loss: 1.2730 - accuracy: 0.5230 - val_loss: 1.2921 - val_accuracy: 0.5305\n",
            "Epoch 27/100\n",
            "502/502 [==============================] - 1s 2ms/step - loss: 1.2706 - accuracy: 0.5227 - val_loss: 1.2787 - val_accuracy: 0.5332\n",
            "Epoch 28/100\n",
            "502/502 [==============================] - 1s 2ms/step - loss: 1.2626 - accuracy: 0.5254 - val_loss: 1.2655 - val_accuracy: 0.5144\n",
            "Epoch 29/100\n",
            "502/502 [==============================] - 1s 2ms/step - loss: 1.2616 - accuracy: 0.5281 - val_loss: 1.2594 - val_accuracy: 0.5359\n",
            "Epoch 30/100\n",
            "502/502 [==============================] - 1s 2ms/step - loss: 1.2543 - accuracy: 0.5362 - val_loss: 1.2983 - val_accuracy: 0.5287\n",
            "Epoch 31/100\n",
            "502/502 [==============================] - 1s 2ms/step - loss: 1.2479 - accuracy: 0.5343 - val_loss: 1.2162 - val_accuracy: 0.5646\n",
            "Epoch 32/100\n",
            "502/502 [==============================] - 1s 2ms/step - loss: 1.2456 - accuracy: 0.5374 - val_loss: 1.4248 - val_accuracy: 0.4515\n",
            "Epoch 33/100\n",
            "502/502 [==============================] - 1s 2ms/step - loss: 1.2412 - accuracy: 0.5368 - val_loss: 1.3390 - val_accuracy: 0.5206\n",
            "Epoch 34/100\n",
            "502/502 [==============================] - 1s 2ms/step - loss: 1.2354 - accuracy: 0.5354 - val_loss: 1.2307 - val_accuracy: 0.5332\n",
            "Epoch 35/100\n",
            "502/502 [==============================] - 1s 2ms/step - loss: 1.2283 - accuracy: 0.5458 - val_loss: 1.2641 - val_accuracy: 0.5359\n",
            "Epoch 36/100\n",
            "502/502 [==============================] - 2s 5ms/step - loss: 1.2213 - accuracy: 0.5442 - val_loss: 1.2586 - val_accuracy: 0.5305\n",
            "Epoch 37/100\n",
            "502/502 [==============================] - 2s 4ms/step - loss: 1.2167 - accuracy: 0.5448 - val_loss: 1.3504 - val_accuracy: 0.4847\n",
            "Epoch 38/100\n",
            "502/502 [==============================] - 1s 2ms/step - loss: 1.2129 - accuracy: 0.5471 - val_loss: 1.2305 - val_accuracy: 0.5530\n",
            "Epoch 39/100\n",
            "502/502 [==============================] - 1s 2ms/step - loss: 1.2070 - accuracy: 0.5489 - val_loss: 1.3152 - val_accuracy: 0.5099\n",
            "Epoch 40/100\n",
            "502/502 [==============================] - 1s 2ms/step - loss: 1.2025 - accuracy: 0.5490 - val_loss: 1.2790 - val_accuracy: 0.5512\n",
            "Epoch 41/100\n",
            "502/502 [==============================] - 1s 2ms/step - loss: 1.1945 - accuracy: 0.5514 - val_loss: 1.1818 - val_accuracy: 0.5718\n",
            "Epoch 42/100\n",
            "502/502 [==============================] - 1s 2ms/step - loss: 1.1900 - accuracy: 0.5590 - val_loss: 1.1956 - val_accuracy: 0.5682\n",
            "Epoch 43/100\n",
            "502/502 [==============================] - 1s 2ms/step - loss: 1.1840 - accuracy: 0.5615 - val_loss: 1.3299 - val_accuracy: 0.5027\n",
            "Epoch 44/100\n",
            "502/502 [==============================] - 1s 3ms/step - loss: 1.1778 - accuracy: 0.5634 - val_loss: 1.2038 - val_accuracy: 0.5619\n",
            "Epoch 45/100\n",
            "502/502 [==============================] - 2s 4ms/step - loss: 1.1704 - accuracy: 0.5659 - val_loss: 1.1950 - val_accuracy: 0.5754\n",
            "Epoch 46/100\n",
            "502/502 [==============================] - 1s 2ms/step - loss: 1.1669 - accuracy: 0.5646 - val_loss: 1.1629 - val_accuracy: 0.5790\n",
            "Epoch 47/100\n",
            "502/502 [==============================] - 1s 2ms/step - loss: 1.1589 - accuracy: 0.5729 - val_loss: 1.3333 - val_accuracy: 0.5027\n",
            "Epoch 48/100\n",
            "502/502 [==============================] - 1s 2ms/step - loss: 1.1524 - accuracy: 0.5717 - val_loss: 1.3789 - val_accuracy: 0.5189\n",
            "Epoch 49/100\n",
            "502/502 [==============================] - 1s 2ms/step - loss: 1.1506 - accuracy: 0.5711 - val_loss: 1.1956 - val_accuracy: 0.5952\n",
            "Epoch 50/100\n",
            "502/502 [==============================] - 1s 2ms/step - loss: 1.1419 - accuracy: 0.5807 - val_loss: 1.3598 - val_accuracy: 0.5162\n",
            "Epoch 51/100\n",
            "502/502 [==============================] - 1s 2ms/step - loss: 1.1371 - accuracy: 0.5823 - val_loss: 1.1579 - val_accuracy: 0.6023\n",
            "Epoch 52/100\n",
            "502/502 [==============================] - 1s 2ms/step - loss: 1.1293 - accuracy: 0.5857 - val_loss: 1.2095 - val_accuracy: 0.5386\n",
            "Epoch 53/100\n",
            "502/502 [==============================] - 1s 2ms/step - loss: 1.1232 - accuracy: 0.5873 - val_loss: 1.2062 - val_accuracy: 0.5619\n",
            "Epoch 54/100\n",
            "502/502 [==============================] - 1s 2ms/step - loss: 1.1180 - accuracy: 0.5877 - val_loss: 1.1274 - val_accuracy: 0.5898\n",
            "Epoch 55/100\n",
            "502/502 [==============================] - 2s 3ms/step - loss: 1.1107 - accuracy: 0.5940 - val_loss: 1.1527 - val_accuracy: 0.5790\n",
            "Epoch 56/100\n",
            "502/502 [==============================] - 1s 3ms/step - loss: 1.1059 - accuracy: 0.5973 - val_loss: 1.0973 - val_accuracy: 0.6131\n",
            "Epoch 57/100\n",
            "502/502 [==============================] - 1s 2ms/step - loss: 1.1001 - accuracy: 0.5984 - val_loss: 1.1966 - val_accuracy: 0.5709\n",
            "Epoch 58/100\n",
            "502/502 [==============================] - 1s 2ms/step - loss: 1.0924 - accuracy: 0.5982 - val_loss: 1.1559 - val_accuracy: 0.6014\n",
            "Epoch 59/100\n",
            "502/502 [==============================] - 1s 2ms/step - loss: 1.0864 - accuracy: 0.6069 - val_loss: 1.1364 - val_accuracy: 0.5987\n",
            "Epoch 60/100\n",
            "502/502 [==============================] - 1s 2ms/step - loss: 1.0799 - accuracy: 0.6068 - val_loss: 1.1157 - val_accuracy: 0.5862\n",
            "Epoch 61/100\n",
            "502/502 [==============================] - 1s 2ms/step - loss: 1.0744 - accuracy: 0.6098 - val_loss: 1.0618 - val_accuracy: 0.6239\n",
            "Epoch 62/100\n",
            "502/502 [==============================] - 1s 2ms/step - loss: 1.0674 - accuracy: 0.6109 - val_loss: 1.0458 - val_accuracy: 0.6382\n",
            "Epoch 63/100\n",
            "502/502 [==============================] - 1s 2ms/step - loss: 1.0599 - accuracy: 0.6163 - val_loss: 1.0946 - val_accuracy: 0.6140\n",
            "Epoch 64/100\n",
            "502/502 [==============================] - 1s 2ms/step - loss: 1.0554 - accuracy: 0.6171 - val_loss: 1.0554 - val_accuracy: 0.6302\n",
            "Epoch 65/100\n",
            "502/502 [==============================] - 2s 4ms/step - loss: 1.0499 - accuracy: 0.6164 - val_loss: 1.0396 - val_accuracy: 0.6445\n",
            "Epoch 66/100\n",
            "502/502 [==============================] - 1s 3ms/step - loss: 1.0419 - accuracy: 0.6222 - val_loss: 1.1588 - val_accuracy: 0.5907\n",
            "Epoch 67/100\n",
            "502/502 [==============================] - 1s 2ms/step - loss: 1.0369 - accuracy: 0.6269 - val_loss: 1.0600 - val_accuracy: 0.6427\n",
            "Epoch 68/100\n",
            "502/502 [==============================] - 1s 2ms/step - loss: 1.0296 - accuracy: 0.6294 - val_loss: 1.0180 - val_accuracy: 0.6454\n",
            "Epoch 69/100\n",
            "502/502 [==============================] - 1s 2ms/step - loss: 1.0241 - accuracy: 0.6284 - val_loss: 1.2241 - val_accuracy: 0.5539\n",
            "Epoch 70/100\n",
            "502/502 [==============================] - 1s 2ms/step - loss: 1.0181 - accuracy: 0.6368 - val_loss: 1.0202 - val_accuracy: 0.6517\n",
            "Epoch 71/100\n",
            "502/502 [==============================] - 1s 2ms/step - loss: 1.0103 - accuracy: 0.6405 - val_loss: 1.0395 - val_accuracy: 0.6230\n",
            "Epoch 72/100\n",
            "502/502 [==============================] - 1s 2ms/step - loss: 1.0069 - accuracy: 0.6405 - val_loss: 1.1284 - val_accuracy: 0.6050\n",
            "Epoch 73/100\n",
            "502/502 [==============================] - 1s 2ms/step - loss: 1.0016 - accuracy: 0.6404 - val_loss: 1.0500 - val_accuracy: 0.6436\n",
            "Epoch 74/100\n",
            "502/502 [==============================] - 1s 2ms/step - loss: 0.9972 - accuracy: 0.6442 - val_loss: 1.0562 - val_accuracy: 0.6203\n",
            "Epoch 75/100\n",
            "502/502 [==============================] - 2s 3ms/step - loss: 0.9922 - accuracy: 0.6470 - val_loss: 1.2120 - val_accuracy: 0.5799\n",
            "Epoch 76/100\n",
            "502/502 [==============================] - 1s 3ms/step - loss: 0.9839 - accuracy: 0.6459 - val_loss: 0.9956 - val_accuracy: 0.6571\n",
            "Epoch 77/100\n",
            "502/502 [==============================] - 1s 2ms/step - loss: 0.9783 - accuracy: 0.6527 - val_loss: 1.0130 - val_accuracy: 0.6571\n",
            "Epoch 78/100\n",
            "502/502 [==============================] - 1s 2ms/step - loss: 0.9718 - accuracy: 0.6519 - val_loss: 1.0162 - val_accuracy: 0.6275\n",
            "Epoch 79/100\n",
            "502/502 [==============================] - 1s 2ms/step - loss: 0.9694 - accuracy: 0.6516 - val_loss: 0.9889 - val_accuracy: 0.6634\n",
            "Epoch 80/100\n",
            "502/502 [==============================] - 1s 2ms/step - loss: 0.9618 - accuracy: 0.6596 - val_loss: 0.9949 - val_accuracy: 0.6553\n",
            "Epoch 81/100\n",
            "502/502 [==============================] - 1s 2ms/step - loss: 0.9569 - accuracy: 0.6602 - val_loss: 0.9728 - val_accuracy: 0.6634\n",
            "Epoch 82/100\n",
            "502/502 [==============================] - 1s 2ms/step - loss: 0.9535 - accuracy: 0.6601 - val_loss: 0.9894 - val_accuracy: 0.6607\n",
            "Epoch 83/100\n",
            "502/502 [==============================] - 1s 2ms/step - loss: 0.9475 - accuracy: 0.6671 - val_loss: 1.1975 - val_accuracy: 0.6032\n",
            "Epoch 84/100\n",
            "502/502 [==============================] - 1s 2ms/step - loss: 0.9405 - accuracy: 0.6673 - val_loss: 1.0021 - val_accuracy: 0.6535\n",
            "Epoch 85/100\n",
            "502/502 [==============================] - 2s 3ms/step - loss: 0.9355 - accuracy: 0.6717 - val_loss: 0.9666 - val_accuracy: 0.6786\n",
            "Epoch 86/100\n",
            "502/502 [==============================] - 2s 3ms/step - loss: 0.9299 - accuracy: 0.6742 - val_loss: 1.0531 - val_accuracy: 0.6373\n",
            "Epoch 87/100\n",
            "502/502 [==============================] - 1s 2ms/step - loss: 0.9233 - accuracy: 0.6760 - val_loss: 0.9438 - val_accuracy: 0.6786\n",
            "Epoch 88/100\n",
            "502/502 [==============================] - 1s 2ms/step - loss: 0.9210 - accuracy: 0.6755 - val_loss: 0.9477 - val_accuracy: 0.6795\n",
            "Epoch 89/100\n",
            "502/502 [==============================] - 1s 2ms/step - loss: 0.9133 - accuracy: 0.6772 - val_loss: 1.0145 - val_accuracy: 0.6338\n",
            "Epoch 90/100\n",
            "502/502 [==============================] - 1s 2ms/step - loss: 0.9093 - accuracy: 0.6767 - val_loss: 1.1026 - val_accuracy: 0.6221\n",
            "Epoch 91/100\n",
            "502/502 [==============================] - 1s 2ms/step - loss: 0.9047 - accuracy: 0.6789 - val_loss: 0.9328 - val_accuracy: 0.6822\n",
            "Epoch 92/100\n",
            "502/502 [==============================] - 1s 2ms/step - loss: 0.8948 - accuracy: 0.6875 - val_loss: 0.9670 - val_accuracy: 0.6553\n",
            "Epoch 93/100\n",
            "502/502 [==============================] - 1s 2ms/step - loss: 0.8923 - accuracy: 0.6881 - val_loss: 0.9693 - val_accuracy: 0.6580\n",
            "Epoch 94/100\n",
            "502/502 [==============================] - 1s 2ms/step - loss: 0.8836 - accuracy: 0.6917 - val_loss: 0.9736 - val_accuracy: 0.6706\n",
            "Epoch 95/100\n",
            "502/502 [==============================] - 2s 3ms/step - loss: 0.8807 - accuracy: 0.6873 - val_loss: 0.9302 - val_accuracy: 0.6777\n",
            "Epoch 96/100\n",
            "502/502 [==============================] - 2s 4ms/step - loss: 0.8729 - accuracy: 0.6940 - val_loss: 0.9463 - val_accuracy: 0.6840\n",
            "Epoch 97/100\n",
            "502/502 [==============================] - 2s 4ms/step - loss: 0.8685 - accuracy: 0.7001 - val_loss: 0.9164 - val_accuracy: 0.6993\n",
            "Epoch 98/100\n",
            "502/502 [==============================] - 1s 2ms/step - loss: 0.8622 - accuracy: 0.7012 - val_loss: 1.0737 - val_accuracy: 0.6203\n",
            "Epoch 99/100\n",
            "502/502 [==============================] - 1s 2ms/step - loss: 0.8576 - accuracy: 0.7001 - val_loss: 0.9120 - val_accuracy: 0.6867\n",
            "Epoch 100/100\n",
            "502/502 [==============================] - 1s 2ms/step - loss: 0.8514 - accuracy: 0.7007 - val_loss: 0.8974 - val_accuracy: 0.6975\n",
            "24/24 [==============================] - 0s 2ms/step\n"
          ]
        }
      ]
    },
    {
      "cell_type": "code",
      "source": [
        "actual_pred = []\n",
        "for i in yhat_test:\n",
        "  index = np.argmax(i)\n",
        "  actual_pred.append(index)"
      ],
      "metadata": {
        "id": "QZWSaZq_SOjp"
      },
      "execution_count": 91,
      "outputs": []
    },
    {
      "cell_type": "code",
      "source": [
        "ground_truth = []\n",
        "for i in y_test_encoded:\n",
        "  index = np.argmax(i)\n",
        "  ground_truth.append(index)"
      ],
      "metadata": {
        "id": "GEAUokvcTVQe"
      },
      "execution_count": 93,
      "outputs": []
    },
    {
      "cell_type": "code",
      "source": [
        "print(classification_report(ground_truth,actual_pred))"
      ],
      "metadata": {
        "id": "DztvoFlCTe0r",
        "outputId": "edd3919c-8f49-4e72-8f2f-18a63520d305",
        "colab": {
          "base_uri": "https://localhost:8080/"
        }
      },
      "execution_count": 95,
      "outputs": [
        {
          "output_type": "stream",
          "name": "stdout",
          "text": [
            "              precision    recall  f1-score   support\n",
            "\n",
            "           0       0.69      0.33      0.45       333\n",
            "           1       0.42      0.40      0.41        96\n",
            "           2       0.33      0.36      0.35        83\n",
            "           3       0.23      0.49      0.31        49\n",
            "           4       0.08      0.17      0.11        18\n",
            "           5       0.50      0.70      0.59        77\n",
            "           6       0.29      0.31      0.30        42\n",
            "           7       0.27      0.51      0.35        70\n",
            "\n",
            "    accuracy                           0.40       768\n",
            "   macro avg       0.35      0.41      0.36       768\n",
            "weighted avg       0.49      0.40      0.41       768\n",
            "\n"
          ]
        }
      ]
    },
    {
      "cell_type": "code",
      "source": [
        "plt.plot(history.history['loss'])\n",
        "plt.plot(history.history['val_loss'])\n",
        "plt.title('Loss/Metric')\n",
        "plt.ylabel('Loss')\n",
        "plt.xlabel('Epoch')\n",
        "plt.legend(['Train', 'Validation'], loc='upper left')\n",
        "plt.show()"
      ],
      "metadata": {
        "id": "Wfbmi6bKTsGm",
        "outputId": "c2838f55-db16-4612-a08f-8d484f9ba63b",
        "colab": {
          "base_uri": "https://localhost:8080/",
          "height": 472
        }
      },
      "execution_count": 96,
      "outputs": [
        {
          "output_type": "display_data",
          "data": {
            "text/plain": [
              "<Figure size 640x480 with 1 Axes>"
            ],
            "image/png": "[encoded data removed]"
          },
          "metadata": {}
        }
      ]
    },
    {
      "cell_type": "code",
      "source": [
        "classifier.evaluate(X_test,y_test_encoded)"
      ],
      "metadata": {
        "id": "xoYOc_G9PD1d",
        "outputId": "cd230ce6-7fe6-4338-964d-a5d2d023bbb1",
        "colab": {
          "base_uri": "https://localhost:8080/"
        }
      },
      "execution_count": 84,
      "outputs": [
        {
          "output_type": "stream",
          "name": "stdout",
          "text": [
            "24/24 [==============================] - 0s 2ms/step - loss: 1.7171 - accuracy: 0.4010\n"
          ]
        },
        {
          "output_type": "execute_result",
          "data": {
            "text/plain": [
              "[1.7170758247375488, 0.4010416567325592]"
            ]
          },
          "metadata": {},
          "execution_count": 84
        }
      ]
    },
    {
      "cell_type": "code",
      "source": [],
      "metadata": {
        "id": "LVqt-dEeTUxX"
      },
      "execution_count": null,
      "outputs": []
    },
    {
      "cell_type": "code",
      "source": [
        "y_test_encoded"
      ],
      "metadata": {
        "id": "BUyHL3Y6Ripf",
        "outputId": "ab6186c6-a816-4f92-d3d0-4329f9febaaf",
        "colab": {
          "base_uri": "https://localhost:8080/"
        }
      },
      "execution_count": 81,
      "outputs": [
        {
          "output_type": "execute_result",
          "data": {
            "text/plain": [
              "matrix([[0., 0., 0., ..., 1., 0., 0.],\n",
              "        [1., 0., 0., ..., 0., 0., 0.],\n",
              "        [0., 0., 1., ..., 0., 0., 0.],\n",
              "        ...,\n",
              "        [0., 0., 0., ..., 0., 1., 0.],\n",
              "        [1., 0., 0., ..., 0., 0., 0.],\n",
              "        [1., 0., 0., ..., 0., 0., 0.]])"
            ]
          },
          "metadata": {},
          "execution_count": 81
        }
      ]
    },
    {
      "cell_type": "code",
      "source": [
        "yhat_test"
      ],
      "metadata": {
        "id": "-kcmDxgbRkug",
        "outputId": "b9407012-ab4e-4070-d31a-20111aa158f3",
        "colab": {
          "base_uri": "https://localhost:8080/"
        }
      },
      "execution_count": 82,
      "outputs": [
        {
          "output_type": "execute_result",
          "data": {
            "text/plain": [
              "array([[7.5092852e-02, 9.0125259e-03, 2.0005750e-03, ..., 8.8894600e-01,\n",
              "        1.0910431e-03, 1.5720529e-02],\n",
              "       [1.7016068e-01, 1.1384841e-01, 3.3576909e-01, ..., 1.2287498e-02,\n",
              "        9.5783078e-05, 2.9207790e-02],\n",
              "       [5.7074394e-02, 2.9835829e-01, 4.2487609e-01, ..., 1.7121974e-03,\n",
              "        8.6366571e-04, 1.0405717e-03],\n",
              "       ...,\n",
              "       [1.2945541e-02, 3.5503706e-01, 1.4831393e-02, ..., 3.2540812e-04,\n",
              "        1.5556733e-01, 1.7069003e-02],\n",
              "       [7.8322172e-02, 2.6032773e-01, 6.5213698e-01, ..., 1.5027499e-03,\n",
              "        1.6684319e-03, 2.1636626e-03],\n",
              "       [2.0216681e-01, 6.3357747e-01, 1.9275438e-02, ..., 3.9583696e-03,\n",
              "        6.3433470e-03, 1.6902497e-02]], dtype=float32)"
            ]
          },
          "metadata": {},
          "execution_count": 82
        }
      ]
    },
    {
      "cell_type": "code",
      "source": [
        "'''\n",
        "X_train, X_test, y_train, y_test = train_test_split(X, y, test_size = 0.15, random_state = 1)\n",
        "from imblearn.over_sampling import SMOTE\n",
        "ros = SMOTE(random_state=21)\n",
        "X_res, y_res = ros.fit_resample(X_train, y_train)\n",
        "'''"
      ],
      "metadata": {
        "id": "UfAg16p4BdtW"
      },
      "execution_count": null,
      "outputs": []
    },
    {
      "cell_type": "code",
      "source": [
        "'''\n",
        "ohe = OneHotEncoder()\n",
        "myohedzgroup = ohe.fit_transform(y_res.values.reshape(-1,1)).toarray()\n",
        "y_train_ohe = pd.DataFrame(myohedzgroup, columns=ohe.categories_[0])\n",
        "myohedzgroup = ohe.fit_transform(y_test.values.reshape(-1,1)).toarray()\n",
        "y_test_ohe = pd.DataFrame(myohedzgroup, columns=ohe.categories_[0])\n",
        "'''"
      ],
      "metadata": {
        "id": "avx6E4IGBosr"
      },
      "execution_count": null,
      "outputs": []
    },
    {
      "cell_type": "code",
      "source": [
        "ohe = OneHotEncoder()\n",
        "myohedzgroup = ohe.fit_transform(y.values.reshape(-1,1)).toarray()\n",
        "y_ohe = pd.DataFrame(myohedzgroup, columns=ohe.categories_[0])\n",
        "X_train, X_test, y_train, y_test = train_test_split(X, y_ohe, test_size = 0.15, random_state = 1)"
      ],
      "metadata": {
        "id": "zSS2z9ZH3n4Q"
      },
      "execution_count": null,
      "outputs": []
    },
    {
      "cell_type": "code",
      "source": [
        "from imblearn.over_sampling import RandomOverSampler\n",
        "#from imblearn.over_sampling import SMOTE\n",
        "encoder = LabelEncoder()\n",
        "y_train = encoder.fit_transform(y_train.idxmax(axis=1))\n",
        "ros = RandomOverSampler(random_state=42)\n",
        "#ros = SMOTE(random_state=21)\n",
        "X_res, y_res = ros.fit_resample(X_train, y_train)\n",
        "y_res = pd.get_dummies(y_res)\n",
        "print(y_res.value_counts())"
      ],
      "metadata": {
        "id": "URTDIZYb9SsC",
        "outputId": "e0e363ef-d5b8-4256-d708-c73ceca90b69",
        "colab": {
          "base_uri": "https://localhost:8080/"
        }
      },
      "execution_count": null,
      "outputs": [
        {
          "output_type": "stream",
          "name": "stdout",
          "text": [
            "0  1  2  3  4  5  6  7\n",
            "0  0  0  0  0  0  0  1    1478\n",
            "                  1  0    1478\n",
            "               1  0  0    1478\n",
            "            1  0  0  0    1478\n",
            "         1  0  0  0  0    1478\n",
            "      1  0  0  0  0  0    1478\n",
            "   1  0  0  0  0  0  0    1478\n",
            "1  0  0  0  0  0  0  0    1478\n",
            "dtype: int64\n"
          ]
        }
      ]
    },
    {
      "cell_type": "code",
      "source": [
        "tuner2 = keras_tuner.RandomSearch(\n",
        "    hypermodel=build_model,\n",
        "    objective=\"val_accuracy\",\n",
        "    max_trials=10,\n",
        "    overwrite=True,\n",
        "    directory=\"my_dir\",\n",
        "    project_name=\"hypertune\",\n",
        ")\n",
        "tuner2.search(X_res, y_res, epochs=50, validation_split= 0.2, callbacks = [early_stopping], verbose=0)"
      ],
      "metadata": {
        "id": "jdGX1k-G4x2X",
        "outputId": "e48a4c70-5c5d-4e23-8f28-fe75c63aac11",
        "colab": {
          "base_uri": "https://localhost:8080/"
        }
      },
      "execution_count": null,
      "outputs": [
        {
          "output_type": "stream",
          "name": "stderr",
          "text": [
            "WARNING:tensorflow:Detecting that an object or model or tf.train.Checkpoint is being deleted with unrestored values. See the following logs for the specific values in question. To silence these warnings, use `status.expect_partial()`. See https://www.tensorflow.org/api_docs/python/tf/train/Checkpoint#restorefor details about the status object returned by the restore function.\n",
            "WARNING:tensorflow:Value in checkpoint could not be found in the restored object: (root).keras_api.metrics.0.total\n",
            "WARNING:tensorflow:Value in checkpoint could not be found in the restored object: (root).keras_api.metrics.0.count\n",
            "WARNING:tensorflow:Value in checkpoint could not be found in the restored object: (root).keras_api.metrics.1.total\n",
            "WARNING:tensorflow:Value in checkpoint could not be found in the restored object: (root).keras_api.metrics.1.count\n",
            "WARNING:tensorflow:Detecting that an object or model or tf.train.Checkpoint is being deleted with unrestored values. See the following logs for the specific values in question. To silence these warnings, use `status.expect_partial()`. See https://www.tensorflow.org/api_docs/python/tf/train/Checkpoint#restorefor details about the status object returned by the restore function.\n",
            "WARNING:tensorflow:Value in checkpoint could not be found in the restored object: (root).keras_api.metrics.0.total\n",
            "WARNING:tensorflow:Value in checkpoint could not be found in the restored object: (root).keras_api.metrics.0.count\n",
            "WARNING:tensorflow:Value in checkpoint could not be found in the restored object: (root).keras_api.metrics.1.total\n",
            "WARNING:tensorflow:Value in checkpoint could not be found in the restored object: (root).keras_api.metrics.1.count\n",
            "WARNING:tensorflow:Detecting that an object or model or tf.train.Checkpoint is being deleted with unrestored values. See the following logs for the specific values in question. To silence these warnings, use `status.expect_partial()`. See https://www.tensorflow.org/api_docs/python/tf/train/Checkpoint#restorefor details about the status object returned by the restore function.\n",
            "WARNING:tensorflow:Value in checkpoint could not be found in the restored object: (root).keras_api.metrics.0.total\n",
            "WARNING:tensorflow:Value in checkpoint could not be found in the restored object: (root).keras_api.metrics.0.count\n",
            "WARNING:tensorflow:Value in checkpoint could not be found in the restored object: (root).keras_api.metrics.1.total\n",
            "WARNING:tensorflow:Value in checkpoint could not be found in the restored object: (root).keras_api.metrics.1.count\n",
            "WARNING:tensorflow:Detecting that an object or model or tf.train.Checkpoint is being deleted with unrestored values. See the following logs for the specific values in question. To silence these warnings, use `status.expect_partial()`. See https://www.tensorflow.org/api_docs/python/tf/train/Checkpoint#restorefor details about the status object returned by the restore function.\n",
            "WARNING:tensorflow:Value in checkpoint could not be found in the restored object: (root).keras_api.metrics.0.total\n",
            "WARNING:tensorflow:Value in checkpoint could not be found in the restored object: (root).keras_api.metrics.0.count\n",
            "WARNING:tensorflow:Value in checkpoint could not be found in the restored object: (root).keras_api.metrics.1.total\n",
            "WARNING:tensorflow:Value in checkpoint could not be found in the restored object: (root).keras_api.metrics.1.count\n",
            "WARNING:tensorflow:Detecting that an object or model or tf.train.Checkpoint is being deleted with unrestored values. See the following logs for the specific values in question. To silence these warnings, use `status.expect_partial()`. See https://www.tensorflow.org/api_docs/python/tf/train/Checkpoint#restorefor details about the status object returned by the restore function.\n",
            "WARNING:tensorflow:Value in checkpoint could not be found in the restored object: (root).keras_api.metrics.0.total\n",
            "WARNING:tensorflow:Value in checkpoint could not be found in the restored object: (root).keras_api.metrics.0.count\n",
            "WARNING:tensorflow:Value in checkpoint could not be found in the restored object: (root).keras_api.metrics.1.total\n",
            "WARNING:tensorflow:Value in checkpoint could not be found in the restored object: (root).keras_api.metrics.1.count\n",
            "WARNING:tensorflow:Detecting that an object or model or tf.train.Checkpoint is being deleted with unrestored values. See the following logs for the specific values in question. To silence these warnings, use `status.expect_partial()`. See https://www.tensorflow.org/api_docs/python/tf/train/Checkpoint#restorefor details about the status object returned by the restore function.\n",
            "WARNING:tensorflow:Value in checkpoint could not be found in the restored object: (root).keras_api.metrics.0.total\n",
            "WARNING:tensorflow:Value in checkpoint could not be found in the restored object: (root).keras_api.metrics.0.count\n",
            "WARNING:tensorflow:Value in checkpoint could not be found in the restored object: (root).keras_api.metrics.1.total\n",
            "WARNING:tensorflow:Value in checkpoint could not be found in the restored object: (root).keras_api.metrics.1.count\n",
            "WARNING:tensorflow:Detecting that an object or model or tf.train.Checkpoint is being deleted with unrestored values. See the following logs for the specific values in question. To silence these warnings, use `status.expect_partial()`. See https://www.tensorflow.org/api_docs/python/tf/train/Checkpoint#restorefor details about the status object returned by the restore function.\n",
            "WARNING:tensorflow:Value in checkpoint could not be found in the restored object: (root).keras_api.metrics.0.total\n",
            "WARNING:tensorflow:Value in checkpoint could not be found in the restored object: (root).keras_api.metrics.0.count\n",
            "WARNING:tensorflow:Value in checkpoint could not be found in the restored object: (root).keras_api.metrics.1.total\n",
            "WARNING:tensorflow:Value in checkpoint could not be found in the restored object: (root).keras_api.metrics.1.count\n",
            "WARNING:tensorflow:Detecting that an object or model or tf.train.Checkpoint is being deleted with unrestored values. See the following logs for the specific values in question. To silence these warnings, use `status.expect_partial()`. See https://www.tensorflow.org/api_docs/python/tf/train/Checkpoint#restorefor details about the status object returned by the restore function.\n",
            "WARNING:tensorflow:Value in checkpoint could not be found in the restored object: (root).keras_api.metrics.0.total\n",
            "WARNING:tensorflow:Value in checkpoint could not be found in the restored object: (root).keras_api.metrics.0.count\n",
            "WARNING:tensorflow:Value in checkpoint could not be found in the restored object: (root).keras_api.metrics.1.total\n",
            "WARNING:tensorflow:Value in checkpoint could not be found in the restored object: (root).keras_api.metrics.1.count\n",
            "WARNING:tensorflow:Detecting that an object or model or tf.train.Checkpoint is being deleted with unrestored values. See the following logs for the specific values in question. To silence these warnings, use `status.expect_partial()`. See https://www.tensorflow.org/api_docs/python/tf/train/Checkpoint#restorefor details about the status object returned by the restore function.\n",
            "WARNING:tensorflow:Value in checkpoint could not be found in the restored object: (root).keras_api.metrics.0.total\n",
            "WARNING:tensorflow:Value in checkpoint could not be found in the restored object: (root).keras_api.metrics.0.count\n",
            "WARNING:tensorflow:Value in checkpoint could not be found in the restored object: (root).keras_api.metrics.1.total\n",
            "WARNING:tensorflow:Value in checkpoint could not be found in the restored object: (root).keras_api.metrics.1.count\n",
            "WARNING:tensorflow:Detecting that an object or model or tf.train.Checkpoint is being deleted with unrestored values. See the following logs for the specific values in question. To silence these warnings, use `status.expect_partial()`. See https://www.tensorflow.org/api_docs/python/tf/train/Checkpoint#restorefor details about the status object returned by the restore function.\n",
            "WARNING:tensorflow:Value in checkpoint could not be found in the restored object: (root).keras_api.metrics.0.total\n",
            "WARNING:tensorflow:Value in checkpoint could not be found in the restored object: (root).keras_api.metrics.0.count\n",
            "WARNING:tensorflow:Value in checkpoint could not be found in the restored object: (root).keras_api.metrics.1.total\n",
            "WARNING:tensorflow:Value in checkpoint could not be found in the restored object: (root).keras_api.metrics.1.count\n"
          ]
        }
      ]
    },
    {
      "cell_type": "code",
      "source": [
        "best_hps = tuner2.get_best_hyperparameters(num_trials=1)[0]\n",
        "model = tuner2.hypermodel.build(best_hps)\n",
        "\n",
        "history = model.fit(X_res.astype(float), y_res, epochs=100, batch_size = 10, verbose = 0, callbacks = [early_stopping], validation_split = 0.1)\n",
        "\n",
        "y_label = y_test.to_numpy()\n",
        "yhat_test = model.predict(X_test.astype(float))\n",
        "actual = np.argmax(y_label, axis=1)\n",
        "pred = np.argmax(yhat_test, axis=1)\n",
        "\n",
        "print(classification_report(actual,pred))\n",
        "\n",
        "plt.plot(history.history['loss'])\n",
        "plt.plot(history.history['val_loss'])\n",
        "plt.title('Loss/Metric')\n",
        "plt.ylabel('Loss')\n",
        "plt.xlabel('Epoch')\n",
        "plt.legend(['Train', 'Validation'], loc='upper left')\n",
        "plt.show()"
      ],
      "metadata": {
        "id": "KhMqjBgz6xdO",
        "colab": {
          "base_uri": "https://localhost:8080/",
          "height": 216
        },
        "outputId": "3c5582da-e7e5-4154-ae82-e0425087833d"
      },
      "execution_count": 60,
      "outputs": [
        {
          "output_type": "error",
          "ename": "NameError",
          "evalue": "name 'tuner2' is not defined",
          "traceback": [
            "\u001b[0;31m---------------------------------------------------------------------------\u001b[0m",
            "\u001b[0;31mNameError\u001b[0m                                 Traceback (most recent call last)",
            "\u001b[0;32m<ipython-input-60-be6fbaf22366>\u001b[0m in \u001b[0;36m<cell line: 1>\u001b[0;34m()\u001b[0m\n\u001b[0;32m----> 1\u001b[0;31m \u001b[0mbest_hps\u001b[0m \u001b[0;34m=\u001b[0m \u001b[0mtuner2\u001b[0m\u001b[0;34m.\u001b[0m\u001b[0mget_best_hyperparameters\u001b[0m\u001b[0;34m(\u001b[0m\u001b[0mnum_trials\u001b[0m\u001b[0;34m=\u001b[0m\u001b[0;36m1\u001b[0m\u001b[0;34m)\u001b[0m\u001b[0;34m[\u001b[0m\u001b[0;36m0\u001b[0m\u001b[0;34m]\u001b[0m\u001b[0;34m\u001b[0m\u001b[0;34m\u001b[0m\u001b[0m\n\u001b[0m\u001b[1;32m      2\u001b[0m \u001b[0mmodel\u001b[0m \u001b[0;34m=\u001b[0m \u001b[0mtuner2\u001b[0m\u001b[0;34m.\u001b[0m\u001b[0mhypermodel\u001b[0m\u001b[0;34m.\u001b[0m\u001b[0mbuild\u001b[0m\u001b[0;34m(\u001b[0m\u001b[0mbest_hps\u001b[0m\u001b[0;34m)\u001b[0m\u001b[0;34m\u001b[0m\u001b[0;34m\u001b[0m\u001b[0m\n\u001b[1;32m      3\u001b[0m \u001b[0;34m\u001b[0m\u001b[0m\n\u001b[1;32m      4\u001b[0m \u001b[0mhistory\u001b[0m \u001b[0;34m=\u001b[0m \u001b[0mmodel\u001b[0m\u001b[0;34m.\u001b[0m\u001b[0mfit\u001b[0m\u001b[0;34m(\u001b[0m\u001b[0mX_res\u001b[0m\u001b[0;34m.\u001b[0m\u001b[0mastype\u001b[0m\u001b[0;34m(\u001b[0m\u001b[0mfloat\u001b[0m\u001b[0;34m)\u001b[0m\u001b[0;34m,\u001b[0m \u001b[0my_res\u001b[0m\u001b[0;34m,\u001b[0m \u001b[0mepochs\u001b[0m\u001b[0;34m=\u001b[0m\u001b[0;36m100\u001b[0m\u001b[0;34m,\u001b[0m \u001b[0mbatch_size\u001b[0m \u001b[0;34m=\u001b[0m \u001b[0;36m10\u001b[0m\u001b[0;34m,\u001b[0m \u001b[0mverbose\u001b[0m \u001b[0;34m=\u001b[0m \u001b[0;36m0\u001b[0m\u001b[0;34m,\u001b[0m \u001b[0mcallbacks\u001b[0m \u001b[0;34m=\u001b[0m \u001b[0;34m[\u001b[0m\u001b[0mearly_stopping\u001b[0m\u001b[0;34m]\u001b[0m\u001b[0;34m,\u001b[0m \u001b[0mvalidation_split\u001b[0m \u001b[0;34m=\u001b[0m \u001b[0;36m0.1\u001b[0m\u001b[0;34m)\u001b[0m\u001b[0;34m\u001b[0m\u001b[0;34m\u001b[0m\u001b[0m\n\u001b[1;32m      5\u001b[0m \u001b[0;34m\u001b[0m\u001b[0m\n",
            "\u001b[0;31mNameError\u001b[0m: name 'tuner2' is not defined"
          ]
        }
      ]
    },
    {
      "cell_type": "code",
      "source": [],
      "metadata": {
        "id": "I42VZbAdOVR1"
      },
      "execution_count": null,
      "outputs": []
    }
  ]
}