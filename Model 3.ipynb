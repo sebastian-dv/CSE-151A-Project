{
  "nbformat": 4,
  "nbformat_minor": 0,
  "metadata": {
    "colab": {
      "provenance": [],
      "include_colab_link": true
    },
    "kernelspec": {
      "name": "python3",
      "display_name": "Python 3"
    },
    "language_info": {
      "name": "python"
    }
  },
  "cells": [
    {
      "cell_type": "markdown",
      "metadata": {
        "id": "view-in-github",
        "colab_type": "text"
      },
      "source": [
        "<a href=\"https://colab.research.google.com/github/sebastian-dv/CSE-151A-Project/blob/main/Model%203.ipynb\" target=\"_parent\"><img src=\"https://colab.research.google.com/assets/colab-badge.svg\" alt=\"Open In Colab\"/></a>"
      ]
    },
    {
      "cell_type": "markdown",
      "source": [
        "# Model 3 - Support Vector Machine"
      ],
      "metadata": {
        "id": "tOAkPcMOklxn"
      }
    },
    {
      "cell_type": "code",
      "source": [
        "import numpy as np\n",
        "import pandas as pd\n",
        "import matplotlib.pyplot as plt\n",
        "import seaborn as sns\n",
        "from sklearn import datasets\n",
        "from sklearn.model_selection import train_test_split, GridSearchCV, cross_val_score\n",
        "from sklearn.linear_model import LinearRegression, LogisticRegression\n",
        "from sklearn.svm import SVC\n",
        "from sklearn.neighbors import KNeighborsClassifier\n",
        "from sklearn.metrics import mean_squared_error, classification_report, accuracy_score\n",
        "from sklearn.preprocessing import OneHotEncoder, MinMaxScaler, StandardScaler\n",
        "from imblearn.over_sampling import SMOTE, RandomOverSampler"
      ],
      "metadata": {
        "id": "5EXHrF2bQ37R"
      },
      "execution_count": 8,
      "outputs": []
    },
    {
      "cell_type": "code",
      "source": [
        "df = pd.read_csv('https://archive.ics.uci.edu/static/public/880/data.csv')\n",
        "df = df[['age','sex','death','dzgroup','scoma','race','sps','aps','diabetes','dementia','meanbp','wblc','hrt','resp','temp','pafi','alb','bili','crea','sod','ph']]"
      ],
      "metadata": {
        "id": "0QDirYuKQ_4y"
      },
      "execution_count": 9,
      "outputs": []
    },
    {
      "cell_type": "code",
      "execution_count": 10,
      "metadata": {
        "id": "4vrDbhM7Qhkb"
      },
      "outputs": [],
      "source": [
        "# one hot encoding race\n",
        "ohe = pd.get_dummies(df[['race']])\n",
        "df = df.drop(['race'], axis = 1)\n",
        "df = pd.concat([df, ohe], axis = 1)\n",
        "\n",
        "# dropping nan values\n",
        "df = df.dropna(axis = 0, how = 'any')\n",
        "\n",
        "# encoding sex\n",
        "df['sex'].replace('female', 0, inplace=True)\n",
        "df['sex'].replace('male', 1, inplace=True)\n",
        "\n",
        "# one hot encoding dzgroup\n",
        "ohe = pd.get_dummies(df[['dzgroup']])\n",
        "df = df.drop(['dzgroup'], axis = 1)\n",
        "\n",
        "X = df.copy()\n",
        "y = ohe.copy()\n",
        "df = pd.concat([df, ohe], axis = 1)"
      ]
    },
    {
      "cell_type": "markdown",
      "source": [
        "### StandardScaler"
      ],
      "metadata": {
        "id": "GqtLHNbljgsn"
      }
    },
    {
      "cell_type": "code",
      "source": [
        "non_num_X = X.iloc[:, 19:]\n",
        "num_X = X.drop(X.columns[19:], axis=1)\n",
        "num_X = num_X.drop(columns=['sex'])\n",
        "\n",
        "scaler = StandardScaler()\n",
        "StandardScaler()\n",
        "\n",
        "X_scaled = scaler.fit_transform(num_X)\n",
        "X_scaled = np.concatenate([X_scaled, non_num_X.values], axis=1)"
      ],
      "metadata": {
        "id": "FEIkhqkNSX_E"
      },
      "execution_count": 11,
      "outputs": []
    },
    {
      "cell_type": "code",
      "source": [
        "# split data\n",
        "X_train, X_test, y_train, y_test = train_test_split(X_scaled, y, test_size=0.2, random_state=21)"
      ],
      "metadata": {
        "id": "Y8b1xZs_Wty1"
      },
      "execution_count": 13,
      "outputs": []
    },
    {
      "cell_type": "code",
      "source": [
        "# C is the SVM regularization parameter\n",
        "C = 0.1  # able to change\n",
        "# Create an Instance of SVM and Fit out the data.\n",
        "# Data is not scaled so as to be able to plot the support vectors\n",
        "svm = SVC(kernel ='poly', degree = 2)\n",
        "svm.fit(X_train,y_train.idxmax(axis=1).values)\n",
        "y_true = y_test.idxmax(axis=1).values\n",
        "y_pred = svm.predict(X_test)\n",
        "print(classification_report(y_true, y_pred, zero_division=0))\n",
        "# Evaluate the accuracy\n",
        "accuracy = accuracy_score(y_true, y_pred)\n",
        "print(f\"Accuracy: {accuracy}\")"
      ],
      "metadata": {
        "colab": {
          "base_uri": "https://localhost:8080/"
        },
        "id": "mAg1Z6gxSCcT",
        "outputId": "b269b205-dd23-443b-9278-87e87acb03dc"
      },
      "execution_count": 14,
      "outputs": [
        {
          "output_type": "stream",
          "name": "stdout",
          "text": [
            "                           precision    recall  f1-score   support\n",
            "\n",
            "dzgroup_ARF/MOSF w/Sepsis       0.52      0.89      0.66       333\n",
            "              dzgroup_CHF       0.45      0.29      0.35        96\n",
            "             dzgroup_COPD       0.37      0.23      0.28        83\n",
            "        dzgroup_Cirrhosis       0.67      0.08      0.15        49\n",
            "     dzgroup_Colon Cancer       0.00      0.00      0.00        18\n",
            "             dzgroup_Coma       0.70      0.40      0.51        77\n",
            "      dzgroup_Lung Cancer       0.32      0.21      0.26        42\n",
            "     dzgroup_MOSF w/Malig       0.64      0.10      0.17        70\n",
            "\n",
            "                 accuracy                           0.51       768\n",
            "                macro avg       0.46      0.28      0.30       768\n",
            "             weighted avg       0.51      0.51      0.45       768\n",
            "\n",
            "Accuracy: 0.5130208333333334\n"
          ]
        }
      ]
    },
    {
      "cell_type": "markdown",
      "source": [
        "## Try to find optimiaze parameters\n"
      ],
      "metadata": {
        "id": "VfDp0n70i1w4"
      }
    },
    {
      "cell_type": "code",
      "source": [
        "# find the beter parameters\n",
        "# test for best model\n",
        "\n",
        "# Define the hyperparameter grid\n",
        "param_grid = {'C': [0.1, 1, 10], 'gamma': [0.01, 0.1, 1], 'kernel': ['linear', 'rbf', 'poly']}\n",
        "# Create an SVM classifier\n",
        "svm_classifier = SVC()\n",
        "# Create the GridSearchCV object\n",
        "grid_search = GridSearchCV(svm_classifier, param_grid, cv=3, scoring='accuracy')\n",
        "# Fit the model with different hyperparameter combinations\n",
        "grid_search.fit(X_train,y_train.idxmax(axis=1).values)\n",
        "# Get the best hyperparameters\n",
        "best_params = grid_search.best_params_\n",
        "# Get the best model\n",
        "best_model = grid_search.best_estimator_\n",
        "# Evaluate the best model on the test set\n",
        "accuracy = best_model.score(X_test, y_test.idxmax(axis=1).values)\n",
        "print(f\"Best Hyperparameters: {best_params}\")\n",
        "print(f\"Accuracy on Test Set: {accuracy}\")"
      ],
      "metadata": {
        "colab": {
          "base_uri": "https://localhost:8080/"
        },
        "id": "RXdJvNt0Yr9T",
        "outputId": "0a0b66b7-bbc0-4f5d-d8e8-c41a45287f6c"
      },
      "execution_count": 15,
      "outputs": [
        {
          "output_type": "stream",
          "name": "stdout",
          "text": [
            "Best Hyperparameters: {'C': 10, 'gamma': 0.01, 'kernel': 'rbf'}\n",
            "Accuracy on Test Set: 0.53515625\n"
          ]
        }
      ]
    },
    {
      "cell_type": "markdown",
      "source": [
        "## OverSamplying with scaled data\n",
        "\n",
        "### SMOTE\n"
      ],
      "metadata": {
        "id": "vN47UktLccph"
      }
    },
    {
      "cell_type": "code",
      "source": [
        "# Apply SMOTE to oversample the minority class\n",
        "smote = SMOTE(random_state=21)\n",
        "X_train_resampled, y_train_resampled = smote.fit_resample(X_train, y_train.idxmax(axis=1).values)\n",
        "# After oversampling\n",
        "unique_classes_resampled, class_counts_resampled = np.unique(y_train_resampled, return_counts=True)\n",
        "for class_label, count in zip(unique_classes_resampled, class_counts_resampled):\n",
        "    print(f\"Frequency of Class {class_label}: {count} instances\")"
      ],
      "metadata": {
        "colab": {
          "base_uri": "https://localhost:8080/"
        },
        "id": "4FtH4h7zbjqu",
        "outputId": "38cb5f80-4d87-4494-d6f6-ee09a75352c8"
      },
      "execution_count": 16,
      "outputs": [
        {
          "output_type": "stream",
          "name": "stdout",
          "text": [
            "Frequency of Class dzgroup_ARF/MOSF w/Sepsis: 1392 instances\n",
            "Frequency of Class dzgroup_CHF: 1392 instances\n",
            "Frequency of Class dzgroup_COPD: 1392 instances\n",
            "Frequency of Class dzgroup_Cirrhosis: 1392 instances\n",
            "Frequency of Class dzgroup_Colon Cancer: 1392 instances\n",
            "Frequency of Class dzgroup_Coma: 1392 instances\n",
            "Frequency of Class dzgroup_Lung Cancer: 1392 instances\n",
            "Frequency of Class dzgroup_MOSF w/Malig: 1392 instances\n"
          ]
        }
      ]
    },
    {
      "cell_type": "markdown",
      "source": [
        "### Evaluation"
      ],
      "metadata": {
        "id": "3AUqjtqKjZMn"
      }
    },
    {
      "cell_type": "code",
      "source": [
        "svm_classifier = SVC(kernel='rbf', C = 10, gamma = 0.1)\n",
        "svm_classifier.fit(X_train_resampled,y_train_resampled)\n",
        "y_true = y_test.idxmax(axis=1).values\n",
        "y_pred = svm_classifier.predict(X_test)\n",
        "print(classification_report(y_true, y_pred))\n",
        "# Evaluate the accuracy\n",
        "accuracy = accuracy_score(y_true, y_pred)\n",
        "print(f\"Accuracy: {accuracy}\")"
      ],
      "metadata": {
        "colab": {
          "base_uri": "https://localhost:8080/"
        },
        "outputId": "ece89298-4891-4cbb-e191-aed45729b578",
        "id": "fTt05JqyjZMo"
      },
      "execution_count": 17,
      "outputs": [
        {
          "output_type": "stream",
          "name": "stdout",
          "text": [
            "                           precision    recall  f1-score   support\n",
            "\n",
            "dzgroup_ARF/MOSF w/Sepsis       0.60      0.71      0.65       333\n",
            "              dzgroup_CHF       0.41      0.38      0.39        96\n",
            "             dzgroup_COPD       0.31      0.29      0.30        83\n",
            "        dzgroup_Cirrhosis       0.42      0.33      0.37        49\n",
            "     dzgroup_Colon Cancer       0.06      0.06      0.06        18\n",
            "             dzgroup_Coma       0.55      0.39      0.45        77\n",
            "      dzgroup_Lung Cancer       0.28      0.26      0.27        42\n",
            "     dzgroup_MOSF w/Malig       0.30      0.24      0.27        70\n",
            "\n",
            "                 accuracy                           0.48       768\n",
            "                macro avg       0.37      0.33      0.34       768\n",
            "             weighted avg       0.47      0.48      0.47       768\n",
            "\n",
            "Accuracy: 0.484375\n"
          ]
        }
      ]
    },
    {
      "cell_type": "markdown",
      "source": [
        "### RandomOverSampler"
      ],
      "metadata": {
        "id": "Qd6Ljpj2jRj6"
      }
    },
    {
      "cell_type": "code",
      "source": [
        "rs = RandomOverSampler(random_state=11)\n",
        "X_train_resampled, y_train_resampled = rs.fit_resample(X_train, y_train.idxmax(axis=1).values)\n",
        "# After oversampling\n",
        "unique_classes_resampled, class_counts_resampled = np.unique(y_train_resampled, return_counts=True)\n",
        "for class_label, count in zip(unique_classes_resampled, class_counts_resampled):\n",
        "    print(f\"Frequency of Class {class_label}: {count} instances\")\n"
      ],
      "metadata": {
        "colab": {
          "base_uri": "https://localhost:8080/"
        },
        "id": "WPqWFpdofMPT",
        "outputId": "a3176aa4-dc03-41cc-e10e-5400d2038394"
      },
      "execution_count": 19,
      "outputs": [
        {
          "output_type": "stream",
          "name": "stdout",
          "text": [
            "Frequency of Class dzgroup_ARF/MOSF w/Sepsis: 1392 instances\n",
            "Frequency of Class dzgroup_CHF: 1392 instances\n",
            "Frequency of Class dzgroup_COPD: 1392 instances\n",
            "Frequency of Class dzgroup_Cirrhosis: 1392 instances\n",
            "Frequency of Class dzgroup_Colon Cancer: 1392 instances\n",
            "Frequency of Class dzgroup_Coma: 1392 instances\n",
            "Frequency of Class dzgroup_Lung Cancer: 1392 instances\n",
            "Frequency of Class dzgroup_MOSF w/Malig: 1392 instances\n"
          ]
        }
      ]
    },
    {
      "cell_type": "markdown",
      "source": [
        "### Evaluation"
      ],
      "metadata": {
        "id": "Lg-A6EAdjTPe"
      }
    },
    {
      "cell_type": "code",
      "source": [
        "svm_classifier = SVC(kernel='rbf', C = 10, gamma = 0.1)\n",
        "svm_classifier.fit(X_train_resampled,y_train_resampled)\n",
        "y_true = y_test.idxmax(axis=1).values\n",
        "y_pred = svm_classifier.predict(X_test)\n",
        "print(classification_report(y_true, y_pred))\n",
        "# Evaluate the accuracy\n",
        "accuracy = accuracy_score(y_true, y_pred)\n",
        "print(f\"Accuracy: {accuracy}\")"
      ],
      "metadata": {
        "colab": {
          "base_uri": "https://localhost:8080/"
        },
        "id": "iR-TFtH1ddvn",
        "outputId": "ba94b8d3-a122-4ae0-a08a-716cedce5fc1"
      },
      "execution_count": 20,
      "outputs": [
        {
          "output_type": "stream",
          "name": "stdout",
          "text": [
            "                           precision    recall  f1-score   support\n",
            "\n",
            "dzgroup_ARF/MOSF w/Sepsis       0.61      0.75      0.67       333\n",
            "              dzgroup_CHF       0.48      0.43      0.45        96\n",
            "             dzgroup_COPD       0.32      0.29      0.30        83\n",
            "        dzgroup_Cirrhosis       0.50      0.37      0.42        49\n",
            "     dzgroup_Colon Cancer       0.06      0.06      0.06        18\n",
            "             dzgroup_Coma       0.56      0.40      0.47        77\n",
            "      dzgroup_Lung Cancer       0.20      0.17      0.18        42\n",
            "     dzgroup_MOSF w/Malig       0.36      0.27      0.31        70\n",
            "\n",
            "                 accuracy                           0.51       768\n",
            "                macro avg       0.39      0.34      0.36       768\n",
            "             weighted avg       0.49      0.51      0.49       768\n",
            "\n",
            "Accuracy: 0.5091145833333334\n"
          ]
        }
      ]
    },
    {
      "cell_type": "markdown",
      "source": [
        "# K-Nearest Neighbor"
      ],
      "metadata": {
        "id": "ysBADWiekbAp"
      }
    },
    {
      "cell_type": "code",
      "source": [
        "df = pd.read_csv('https://archive.ics.uci.edu/static/public/880/data.csv')\n",
        "df = df[['age','sex','death','dzgroup','scoma','race','sps','aps','diabetes','dementia','meanbp','wblc','hrt','resp','temp','pafi','alb','bili','crea','sod','ph']]"
      ],
      "metadata": {
        "id": "vEfb4K1qj03O"
      },
      "execution_count": 22,
      "outputs": []
    },
    {
      "cell_type": "code",
      "execution_count": 23,
      "metadata": {
        "id": "u5-c_Nenj03P"
      },
      "outputs": [],
      "source": [
        "# one hot encoding race\n",
        "ohe = pd.get_dummies(df[['race']])\n",
        "df = df.drop(['race'], axis = 1)\n",
        "df = pd.concat([df, ohe], axis = 1)\n",
        "\n",
        "# dropping nan values\n",
        "df = df.dropna(axis = 0, how = 'any')\n",
        "\n",
        "# encoding sex\n",
        "df['sex'].replace('female', 0, inplace=True)\n",
        "df['sex'].replace('male', 1, inplace=True)\n",
        "\n",
        "# one hot encoding dzgroup\n",
        "\n",
        "X = df.copy().drop(columns = 'dzgroup')\n",
        "y = df['dzgroup']\n",
        "# df = pd.concat([df, ohe], axis = 1)"
      ]
    },
    {
      "cell_type": "code",
      "source": [
        "X_cat = X[['sex','death','diabetes','dementia']]\n",
        "X_one_hot = X[['race_asian','race_black','race_hispanic','race_other','race_white']]\n",
        "X_numerical = X.drop(columns = ['sex','death','diabetes','dementia','race_asian','race_black','race_hispanic','race_other','race_white'])\n",
        "scaler = StandardScaler()\n",
        "\n",
        "X_scaled = scaler.fit_transform(X_numerical)\n",
        "X_scaled = pd.DataFrame(np.concatenate([X_scaled, X_one_hot, X_cat], axis=1))"
      ],
      "metadata": {
        "id": "BNGIZQyFkJ3J"
      },
      "execution_count": 26,
      "outputs": []
    },
    {
      "cell_type": "code",
      "source": [
        "X_train, X_test, y_train, y_test = train_test_split(X_scaled, y, test_size=0.2, random_state=21)"
      ],
      "metadata": {
        "id": "VEasNnsdkJ3K"
      },
      "execution_count": 28,
      "outputs": []
    },
    {
      "cell_type": "code",
      "source": [
        "#oversample.  we don't use because it decreases accuracy\n",
        "\n",
        "# smote = SMOTE()\n",
        "# X_train_resampled, y_train_resampled = smote.fit_resample(X_train, y_train)"
      ],
      "metadata": {
        "id": "nAqAC0HGFHAI"
      },
      "execution_count": 24,
      "outputs": []
    },
    {
      "cell_type": "code",
      "source": [
        "#KNN. similar result to SVM\n",
        "k = 10\n",
        "knn_classifier = KNeighborsClassifier(n_neighbors=k)\n",
        "knn_classifier.fit(X_train, y_train)\n",
        "\n",
        "# Predict the labels for the test set\n",
        "y_true = y_test\n",
        "y_pred = knn_classifier.predict(X_test)\n",
        "print(classification_report(y_true, y_pred, zero_division = 0))"
      ],
      "metadata": {
        "colab": {
          "base_uri": "https://localhost:8080/"
        },
        "id": "MQvVfbZ6-xM0",
        "outputId": "8aa549d7-c2c1-48df-ed40-4f231eead2c4"
      },
      "execution_count": 33,
      "outputs": [
        {
          "output_type": "stream",
          "name": "stdout",
          "text": [
            "                   precision    recall  f1-score   support\n",
            "\n",
            "ARF/MOSF w/Sepsis       0.53      0.83      0.65       333\n",
            "              CHF       0.41      0.35      0.38        96\n",
            "             COPD       0.30      0.31      0.31        83\n",
            "        Cirrhosis       0.57      0.16      0.25        49\n",
            "     Colon Cancer       0.00      0.00      0.00        18\n",
            "             Coma       0.73      0.31      0.44        77\n",
            "      Lung Cancer       0.31      0.10      0.15        42\n",
            "     MOSF w/Malig       0.50      0.10      0.17        70\n",
            "\n",
            "         accuracy                           0.50       768\n",
            "        macro avg       0.42      0.27      0.29       768\n",
            "     weighted avg       0.49      0.50      0.44       768\n",
            "\n"
          ]
        }
      ]
    }
  ]
}