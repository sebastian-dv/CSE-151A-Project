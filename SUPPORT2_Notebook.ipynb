{
  "nbformat": 4,
  "nbformat_minor": 0,
  "metadata": {
    "colab": {
      "provenance": [],
      "include_colab_link": true
    },
    "kernelspec": {
      "name": "python3",
      "display_name": "Python 3"
    },
    "language_info": {
      "name": "python"
    }
  },
  "cells": [
    {
      "cell_type": "markdown",
      "metadata": {
        "id": "view-in-github",
        "colab_type": "text"
      },
      "source": [
        "<a href=\"https://colab.research.google.com/github/sebastian-dv/CSE-151A-Project/blob/main/SUPPORT2_Notebook.ipynb\" target=\"_parent\"><img src=\"https://colab.research.google.com/assets/colab-badge.svg\" alt=\"Open In Colab\"/></a>"
      ]
    },
    {
      "cell_type": "code",
      "execution_count": null,
      "metadata": {
        "colab": {
          "base_uri": "https://localhost:8080/"
        },
        "id": "43TqkmG2nTsG",
        "outputId": "f7957441-f443-4663-d10e-64dff7a6dd39"
      },
      "outputs": [
        {
          "output_type": "stream",
          "name": "stdout",
          "text": [
            "Collecting ucimlrepo\n",
            "  Downloading ucimlrepo-0.0.3-py3-none-any.whl (7.0 kB)\n",
            "Installing collected packages: ucimlrepo\n",
            "Successfully installed ucimlrepo-0.0.3\n"
          ]
        }
      ],
      "source": [
        "!pip install ucimlrepo"
      ]
    },
    {
      "cell_type": "code",
      "source": [
        "from ucimlrepo import fetch_ucirepo"
      ],
      "metadata": {
        "id": "UockDSown8Fa"
      },
      "execution_count": 14,
      "outputs": []
    },
    {
      "cell_type": "code",
      "source": [
        "import pandas as pd\n",
        "import numpy as np\n",
        "import matplotlib.pyplot as plt\n",
        "import seaborn as sns\n",
        "from sklearn import datasets\n",
        "from sklearn.model_selection import cross_val_score, train_test_split\n",
        "from sklearn.linear_model import LinearRegression\n",
        "from sklearn.metrics import mean_squared_error"
      ],
      "metadata": {
        "id": "iXZ3tMu4qSDP"
      },
      "execution_count": 20,
      "outputs": []
    },
    {
      "cell_type": "code",
      "source": [
        "# fetch dataset\n",
        "support2 = fetch_ucirepo(id=880)\n",
        "\n",
        "# metadata\n",
        "print(support2.metadata)\n",
        "\n",
        "# variable information\n",
        "print(support2.variables)\n",
        "\n",
        "df = pd.read_csv('https://archive.ics.uci.edu/static/public/880/data.csv')\n",
        "\n",
        "df = df[['age','sex','dzgroup','dzclass','edu','income','scoma','race','sps','aps','diabetes','dementia','ca','meanbp','wblc','hrt','resp','temp','pafi','alb','bili','crea','sod','ph','glucose','bun','urine','sfdm2']]"
      ],
      "metadata": {
        "id": "D8RO1s42uwRN",
        "outputId": "78044792-451b-4c3f-bc4a-ef88099ffcfe",
        "colab": {
          "base_uri": "https://localhost:8080/"
        }
      },
      "execution_count": 31,
      "outputs": [
        {
          "output_type": "stream",
          "name": "stdout",
          "text": [
            "{'uci_id': 880, 'name': 'SUPPORT2', 'repository_url': 'https://archive.ics.uci.edu/dataset/880/support2', 'data_url': 'https://archive.ics.uci.edu/static/public/880/data.csv', 'abstract': \"This dataset comprises 9105 individual critically ill patients across 5 United States medical centers, accessioned throughout 1989-1991 and 1992-1994.\\nEach row concerns hospitalized patient records who met the inclusion and exclusion criteria for nine disease categories: acute respiratory failure, chronic obstructive pulmonary disease, congestive heart failure, liver disease, coma, colon cancer, lung cancer, multiple organ system failure with malignancy, and multiple organ system failure with sepsis. The goal is to determine these patients' 2- and 6-month survival rates based on several physiologic, demographics, and disease severity information. \\nIt is an important problem because it addresses the growing national concern over patients' loss of control near the end of life. It enables earlier decisions and planning to reduce the frequency of a mechanical, painful, and prolonged dying process.\", 'area': 'Health and Medicine', 'tasks': ['Classification', 'Regression', 'Other'], 'characteristics': ['Tabular', 'Multivariate'], 'num_instances': 9105, 'num_features': 42, 'feature_types': ['Real', 'Categorical', 'Integer'], 'demographics': ['Age', 'Sex', 'Education Level', 'Income', 'Race'], 'target_col': ['death', 'hospdead', 'sfdm2'], 'index_col': ['id'], 'has_missing_values': 'yes', 'missing_values_symbol': 'NaN', 'year_of_dataset_creation': 1995, 'last_updated': 'Fri Nov 03 2023', 'dataset_doi': '10.3886/ICPSR02957.v2', 'creators': ['Frank Harrel'], 'intro_paper': {'title': 'A controlled trial to improve care for seriously ill hospitalized patients. The study to understand prognoses and preferences for outcomes and risks of treatments (SUPPORT)', 'authors': 'The SUPPORT Principal Investigators', 'published_in': 'In the Journal of the American Medical Association, 274(20):1591–1598', 'year': 1995, 'url': 'https://pubmed.ncbi.nlm.nih.gov/7474243/', 'doi': None}, 'additional_info': {'summary': \"Data sources are medical records, personal interviews, and the National Death Index (NDI). For each patient administrative records data, clinical data and survey data were collected.\\nThe objective of the SUPPORT project was to improve decision-making in order to address the growing national concern over the loss of control that patients have near the end of life and to reduce the frequency of a mechanical, painful, and prolonged process of dying. SUPPORT comprised a two-year prospective observational study (Phase I) followed by a two-year controlled clinical trial (Phase II). Phase I of SUPPORT collected data from patients accessioned during 1989-1991 to characterize the care, treatment preferences, and patterns of decision-making among critically ill patients. It also served as a preliminary step for devising an intervention strategy for improving critically-ill patients' care and for the construction of statistical models for predicting patient prognosis and functional status. An intervention was implemented in Phase II of SUPPORT, which accessioned patients during 1992-1994. The Phase II intervention provided physicians with accurate predictive information on future functional ability, survival probability to six months, and patients' preferences for end-of-life care. Additionally, a skilled nurse was provided as part of the intervention to elicit patient preferences, provide prognoses, enhance understanding, enable palliative care, and facilitate advance planning. The intervention was expected to increase communication, resulting in earlier decisions to have orders against resuscitation, decrease time that patients spent in undesirable states (e.g., in the Intensive Care Unit, on a ventilator, and in a coma), increase physician understanding of patients' preferences for care, decrease patient pain, and decrease hospital resource use. Data collection in both phases of SUPPORT consisted of questionnaires administered to patients, their surrogates, and physicians, plus chart reviews for abstracting clinical, treatment, and decision information. Phase II also collected information regarding the implementation of the intervention, such as patient-specific logs maintained by nurses assigned to patients as part of the intervention. SUPPORT patients were followed for six months after inclusion in the study. Those who did not die within six months or were lost to follow-up were matched against the National Death Index to identify deaths through 1997. Patients who did not die within one year or were lost to follow-up were matched against the National Death Index to identify deaths through 1997.\\nAll patients in five United States medical centers who met inclusion and exclusion criteria for nine disease categories: acute respiratory failure, chronic obstructive pulmonary disease, congestive heart failure, liver disease, coma, colon cancer, lung cancer, multiple organ system failure with malignancy, and multiple organ system failure with sepsis. SUPPORT is a combination of patients from 2 studies, each of which lasted 2 years. The first phase concerns 4,301 patients, whereas the second phase concerns 4,804 patients. Time wise, these studies were accessioned in 1989 (June 12) through 1991 (June 11) for phase I and in 1992 (January 7) through 1994 (January 24).\", 'purpose': \"To develop and validate a prognostic model that estimates survival over a 180-day period for seriously ill hospitalized adults (phase I of SUPPORT) and to compare this model's predictions with those of an existing prognostic system and with physicians' independent estimates (SUPPORT phase II).\", 'funded_by': 'Funded by the Robert Wood Johnson Foundation\\n', 'instances_represent': 'The instances represent records of critically ill patients admitted to United States hospitals with advanced stages of serious illness.\\n', 'recommended_data_splits': 'No recommendation, standard train-test split could be used. Can use three-way holdout split (i.e., train-validation-test) when doing model selection.', 'sensitive_data': 'Yes. There is information about race, gender, income, and education level.', 'preprocessing_description': 'No.  Due to the high percentage of missing values, there are a couple of recommended imputation values:\\nAccording to the HBiostat Repository (https://hbiostat.org/data/repo/supportdesc, Professor Frank Harrell) the following default values have been found to be useful in imputing missing baseline physiologic data:\\nBaseline Variable\\tNormal Fill-in Value\\n- Serum albumin (alb)\\t3.5\\n- PaO2/FiO2 ratio (pafi) \\t333.3\\n- Bilirubin (bili)\\t1.01\\n- Creatinine (crea)\\t1.01\\n- bun\\t6.51\\n- White blood count (wblc)\\t9 (thousands)\\n- Urine output (urine)\\t2502\\nThere are 159 patients surviving 2 months for whom there were no patient or surrogate interviews. These patients have missing sfdm2.', 'variable_info': None, 'citation': 'Please acknowledge the source of this dataset as being from Vanderbilt University Department of Biostatistics, Professor Frank Harrell 2022, url: https://hbiostat.org/data/'}, 'external_url': 'https://hbiostat.org/data'}\n",
            "        name     role         type      demographic  \\\n",
            "0         id       ID      Integer             None   \n",
            "1        age  Feature   Continuous              Age   \n",
            "2      death   Target   Continuous             None   \n",
            "3        sex  Feature  Categorical              Sex   \n",
            "4   hospdead   Target       Binary             None   \n",
            "5       slos    Other   Continuous             None   \n",
            "6     d.time    Other   Continuous             None   \n",
            "7    dzgroup  Feature  Categorical             None   \n",
            "8    dzclass  Feature  Categorical             None   \n",
            "9     num.co  Feature   Continuous             None   \n",
            "10       edu  Feature  Categorical  Education Level   \n",
            "11    income  Feature  Categorical           Income   \n",
            "12     scoma  Feature   Continuous             None   \n",
            "13   charges  Feature   Continuous             None   \n",
            "14    totcst  Feature   Continuous             None   \n",
            "15   totmcst  Feature   Continuous             None   \n",
            "16   avtisst  Feature   Continuous             None   \n",
            "17      race  Feature  Categorical             Race   \n",
            "18       sps  Feature   Continuous             None   \n",
            "19       aps  Feature   Continuous             None   \n",
            "20    surv2m  Feature   Continuous             None   \n",
            "21    surv6m  Feature   Continuous             None   \n",
            "22      hday  Feature      Integer             None   \n",
            "23  diabetes  Feature   Continuous             None   \n",
            "24  dementia  Feature   Continuous             None   \n",
            "25        ca  Feature  Categorical             None   \n",
            "26     prg2m  Feature   Continuous             None   \n",
            "27     prg6m  Feature  Categorical             None   \n",
            "28       dnr  Feature  Categorical             None   \n",
            "29    dnrday  Feature   Continuous             None   \n",
            "30    meanbp  Feature   Continuous             None   \n",
            "31      wblc  Feature   Continuous             None   \n",
            "32       hrt  Feature   Continuous             None   \n",
            "33      resp  Feature   Continuous             None   \n",
            "34      temp  Feature   Continuous             None   \n",
            "35      pafi  Feature   Continuous             None   \n",
            "36       alb  Feature   Continuous             None   \n",
            "37      bili  Feature   Continuous             None   \n",
            "38      crea  Feature   Continuous             None   \n",
            "39       sod  Feature   Continuous             None   \n",
            "40        ph  Feature   Continuous             None   \n",
            "41   glucose  Feature      Integer             None   \n",
            "42       bun  Feature      Integer             None   \n",
            "43     urine  Feature      Integer             None   \n",
            "44      adlp  Feature  Categorical             None   \n",
            "45      adls  Feature   Continuous             None   \n",
            "46     sfdm2   Target  Categorical             None   \n",
            "47     adlsc  Feature   Continuous             None   \n",
            "\n",
            "                                          description  units missing_values  \n",
            "0                                                None   None             no  \n",
            "1                        Age of the patients in years  years             no  \n",
            "2   Death at any time up to National Death Index (...   None             no  \n",
            "3   Gender of the patient. Listed values are {male...   None             no  \n",
            "4                                   Death in hospital   None             no  \n",
            "5                  Days from Study Entry to Discharge   None             no  \n",
            "6                                   Days of follow-up   None             no  \n",
            "7   The patient's disease sub category amogst ARF/...   None             no  \n",
            "8   The patient's disease category amongst \"ARF/MO...   None             no  \n",
            "9   The number of simultaneous diseases (or comorb...   None             no  \n",
            "10                                 Years of education  years            yes  \n",
            "11  Income of the patient. Listed values are {\"$11...   None            yes  \n",
            "12  SUPPORT day 3 Coma Score based on Glasgow scal...   None            yes  \n",
            "13                                   Hospital charges   None            yes  \n",
            "14         Total ratio of costs to charges (RCC) cost   None            yes  \n",
            "15                                   Total micro cost   None            yes  \n",
            "16  Average TISS score, days 3-25, where Therapeut...   None            yes  \n",
            "17  Race of the patient. Listed values are {asian,...   None            yes  \n",
            "18  SUPPORT physiology score on day 3 (predicted b...   None            yes  \n",
            "19  APACHE III day 3 physiology score (no coma, im...   None            yes  \n",
            "20  SUPPORT model 2-month survival estimate at day...   None            yes  \n",
            "21  SUPPORT model 6-month survival estimate at day...   None            yes  \n",
            "22    Day in hospital at which patient entered study.   None             no  \n",
            "23  Whether the patient exhibits diabetes (Com 27-...   None             no  \n",
            "24  Whether the patient exhibits dementia (Comorbi...   None             no  \n",
            "25  Whether the patient has cancer (yes), whether ...   None             no  \n",
            "26  Physician’s 2-month survival estimate for pati...   None            yes  \n",
            "27  Physician’s 6-month survival estimate for pati...   None            yes  \n",
            "28  Whether the patient has a do not rescuscitate ...   None            yes  \n",
            "29              Day of DNR order (<0 if before study)   None            yes  \n",
            "30  mean arterial blood pressure of the patient, m...   None            yes  \n",
            "31  counts of white blood cells (in thousands) mea...   None            yes  \n",
            "32       heart rate of the patient measured at day 3.   None            yes  \n",
            "33  respiration rate of the patient measured at da...   None            yes  \n",
            "34  temperature in Celsius degrees measured at day 3.   None             no  \n",
            "35  $PaO_2/FiO_2$ ratio measured at day 3. The rat...   None            yes  \n",
            "36            serum albumin levels measured at day 3.   None            yes  \n",
            "37                bilirubin levels measured at day 3.   None            yes  \n",
            "38         serum creatinine levels measured at day 3.   None            yes  \n",
            "39      serum sodium concentration measured at day 3.   None            yes  \n",
            "40  Arterial blood pH. The pH of blood is usually ...   None            yes  \n",
            "41                  Glucose levels measured at day 3.   None            yes  \n",
            "42      Blood urea nitrogen levels measured at day 3.   None            yes  \n",
            "43                    Urine output measured at day 3.   None            yes  \n",
            "44  Index of Activities of Daily Living (ADL) of t...   None            yes  \n",
            "45  Index of Activities of Daily Living (ADL) of t...   None            yes  \n",
            "46  Level of functional disability of the patient ...   None            yes  \n",
            "47               Imputed ADL Calibrated to Surrogate.   None             no  \n"
          ]
        }
      ]
    },
    {
      "cell_type": "code",
      "source": [
        "print(\"Number of observations:\", len(df))"
      ],
      "metadata": {
        "id": "FfCd3jpsweve",
        "outputId": "2020b4bd-16f5-471c-df99-97749e70f51e",
        "colab": {
          "base_uri": "https://localhost:8080/"
        }
      },
      "execution_count": 32,
      "outputs": [
        {
          "output_type": "stream",
          "name": "stdout",
          "text": [
            "Number of observations: 9105\n"
          ]
        }
      ]
    },
    {
      "cell_type": "code",
      "source": [
        "df.isnull().sum()"
      ],
      "metadata": {
        "id": "HvBZkTOVvAiA",
        "outputId": "c88f519a-87c0-49dd-a7ed-7f6187fad51c",
        "colab": {
          "base_uri": "https://localhost:8080/"
        }
      },
      "execution_count": 33,
      "outputs": [
        {
          "output_type": "execute_result",
          "data": {
            "text/plain": [
              "age            0\n",
              "sex            0\n",
              "dzgroup        0\n",
              "dzclass        0\n",
              "edu         1634\n",
              "income      2982\n",
              "scoma          1\n",
              "race          42\n",
              "sps            1\n",
              "aps            1\n",
              "diabetes       0\n",
              "dementia       0\n",
              "ca             0\n",
              "meanbp         1\n",
              "wblc         212\n",
              "hrt            1\n",
              "resp           1\n",
              "temp           1\n",
              "pafi        2325\n",
              "alb         3372\n",
              "bili        2601\n",
              "crea          67\n",
              "sod            1\n",
              "ph          2284\n",
              "glucose     4500\n",
              "bun         4352\n",
              "urine       4862\n",
              "sfdm2       1400\n",
              "dtype: int64"
            ]
          },
          "metadata": {},
          "execution_count": 33
        }
      ]
    },
    {
      "cell_type": "code",
      "source": [
        "df.dzgroup.unique()"
      ],
      "metadata": {
        "id": "WhCTdP0HvUsl",
        "outputId": "e7161eff-db17-413b-fba6-8a9c34af7624",
        "colab": {
          "base_uri": "https://localhost:8080/"
        }
      },
      "execution_count": 34,
      "outputs": [
        {
          "output_type": "execute_result",
          "data": {
            "text/plain": [
              "array(['Lung Cancer', 'Cirrhosis', 'ARF/MOSF w/Sepsis', 'Coma', 'CHF',\n",
              "       'Colon Cancer', 'COPD', 'MOSF w/Malig'], dtype=object)"
            ]
          },
          "metadata": {},
          "execution_count": 34
        }
      ]
    },
    {
      "cell_type": "code",
      "source": [
        "df.dzclass.unique()"
      ],
      "metadata": {
        "id": "fTPJUvx7xnVn",
        "outputId": "e0e66b93-ecda-4d0f-ee06-1cefa182ae50",
        "colab": {
          "base_uri": "https://localhost:8080/"
        }
      },
      "execution_count": 35,
      "outputs": [
        {
          "output_type": "execute_result",
          "data": {
            "text/plain": [
              "array(['Cancer', 'COPD/CHF/Cirrhosis', 'ARF/MOSF', 'Coma'], dtype=object)"
            ]
          },
          "metadata": {},
          "execution_count": 35
        }
      ]
    },
    {
      "cell_type": "code",
      "source": [
        "sns.heatmap(df.corr())"
      ],
      "metadata": {
        "id": "FHwOEvjdxvyQ",
        "outputId": "282697e8-24e4-4e5f-ac8a-94ac62ec9fd6",
        "colab": {
          "base_uri": "https://localhost:8080/",
          "height": 556
        }
      },
      "execution_count": 36,
      "outputs": [
        {
          "output_type": "stream",
          "name": "stderr",
          "text": [
            "<ipython-input-36-aa4f4450a243>:1: FutureWarning: The default value of numeric_only in DataFrame.corr is deprecated. In a future version, it will default to False. Select only valid columns or specify the value of numeric_only to silence this warning.\n",
            "  sns.heatmap(df.corr())\n"
          ]
        },
        {
          "output_type": "execute_result",
          "data": {
            "text/plain": [
              "<Axes: >"
            ]
          },
          "metadata": {},
          "execution_count": 36
        },
        {
          "output_type": "display_data",
          "data": {
            "text/plain": [
              "<Figure size 640x480 with 2 Axes>"
            ],
            "image/png": "[encoded data removed]"
          },
          "metadata": {}
        }
      ]
    },
    {
      "cell_type": "code",
      "source": [],
      "metadata": {
        "id": "pxZrYuas4Wwk"
      },
      "execution_count": null,
      "outputs": []
    }
  ]
}