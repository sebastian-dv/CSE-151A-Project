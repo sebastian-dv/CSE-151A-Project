{
  "nbformat": 4,
  "nbformat_minor": 0,
  "metadata": {
    "colab": {
      "provenance": [],
      "authorship_tag": "ABX9TyPZrz9jQRJMXUlzxj6unZQY",
      "include_colab_link": true
    },
    "kernelspec": {
      "name": "python3",
      "display_name": "Python 3"
    },
    "language_info": {
      "name": "python"
    }
  },
  "cells": [
    {
      "cell_type": "markdown",
      "metadata": {
        "id": "view-in-github",
        "colab_type": "text"
      },
      "source": [
        "<a href=\"https://colab.research.google.com/github/sebastian-dv/CSE-151A-Project/blob/main/SUPPORT2_Notebook.ipynb\" target=\"_parent\"><img src=\"https://colab.research.google.com/assets/colab-badge.svg\" alt=\"Open In Colab\"/></a>"
      ]
    },
    {
      "cell_type": "code",
      "execution_count": 1,
      "metadata": {
        "colab": {
          "base_uri": "https://localhost:8080/"
        },
        "id": "43TqkmG2nTsG",
        "outputId": "f7957441-f443-4663-d10e-64dff7a6dd39"
      },
      "outputs": [
        {
          "output_type": "stream",
          "name": "stdout",
          "text": [
            "Collecting ucimlrepo\n",
            "  Downloading ucimlrepo-0.0.3-py3-none-any.whl (7.0 kB)\n",
            "Installing collected packages: ucimlrepo\n",
            "Successfully installed ucimlrepo-0.0.3\n"
          ]
        }
      ],
      "source": [
        "!pip install ucimlrepo"
      ]
    },
    {
      "cell_type": "code",
      "source": [
        "from ucimlrepo import fetch_ucirepo\n",
        "\n",
        "# fetch dataset\n",
        "support2 = fetch_ucirepo(id=880)\n",
        "\n",
        "# data (as pandas dataframes)\n",
        "X = support2.data.features\n",
        "y = support2.data.targets\n",
        "\n",
        "# metadata\n",
        "print(support2.metadata)\n",
        "\n",
        "# variable information\n",
        "print(support2.variables)"
      ],
      "metadata": {
        "colab": {
          "base_uri": "https://localhost:8080/"
        },
        "id": "UockDSown8Fa",
        "outputId": "da5db1b8-3c0e-4550-f0b7-146ead4e9315"
      },
      "execution_count": 2,
      "outputs": [
        {
          "output_type": "stream",
          "name": "stdout",
          "text": [
            "{'uci_id': 880, 'name': 'SUPPORT2', 'repository_url': 'https://archive.ics.uci.edu/dataset/880/support2', 'data_url': 'https://archive.ics.uci.edu/static/public/880/data.csv', 'abstract': \"This dataset comprises 9105 individual critically ill patients across 5 United States medical centers, accessioned throughout 1989-1991 and 1992-1994.\\nEach row concerns hospitalized patient records who met the inclusion and exclusion criteria for nine disease categories: acute respiratory failure, chronic obstructive pulmonary disease, congestive heart failure, liver disease, coma, colon cancer, lung cancer, multiple organ system failure with malignancy, and multiple organ system failure with sepsis. The goal is to determine these patients' 2- and 6-month survival rates based on several physiologic, demographics, and disease severity information. \\nIt is an important problem because it addresses the growing national concern over patients' loss of control near the end of life. It enables earlier decisions and planning to reduce the frequency of a mechanical, painful, and prolonged dying process.\", 'area': 'Health and Medicine', 'tasks': ['Classification', 'Regression', 'Other'], 'characteristics': ['Tabular', 'Multivariate'], 'num_instances': 9105, 'num_features': 42, 'feature_types': ['Real', 'Categorical', 'Integer'], 'demographics': ['Age', 'Sex', 'Education Level', 'Income', 'Race'], 'target_col': ['death', 'hospdead', 'sfdm2'], 'index_col': ['id'], 'has_missing_values': 'yes', 'missing_values_symbol': 'NaN', 'year_of_dataset_creation': 1995, 'last_updated': 'Fri Nov 03 2023', 'dataset_doi': '10.3886/ICPSR02957.v2', 'creators': ['Frank Harrel'], 'intro_paper': {'title': 'A controlled trial to improve care for seriously ill hospitalized patients. The study to understand prognoses and preferences for outcomes and risks of treatments (SUPPORT)', 'authors': 'The SUPPORT Principal Investigators', 'published_in': 'In the Journal of the American Medical Association, 274(20):1591–1598', 'year': 1995, 'url': 'https://pubmed.ncbi.nlm.nih.gov/7474243/', 'doi': None}, 'additional_info': {'summary': \"Data sources are medical records, personal interviews, and the National Death Index (NDI). For each patient administrative records data, clinical data and survey data were collected.\\nThe objective of the SUPPORT project was to improve decision-making in order to address the growing national concern over the loss of control that patients have near the end of life and to reduce the frequency of a mechanical, painful, and prolonged process of dying. SUPPORT comprised a two-year prospective observational study (Phase I) followed by a two-year controlled clinical trial (Phase II). Phase I of SUPPORT collected data from patients accessioned during 1989-1991 to characterize the care, treatment preferences, and patterns of decision-making among critically ill patients. It also served as a preliminary step for devising an intervention strategy for improving critically-ill patients' care and for the construction of statistical models for predicting patient prognosis and functional status. An intervention was implemented in Phase II of SUPPORT, which accessioned patients during 1992-1994. The Phase II intervention provided physicians with accurate predictive information on future functional ability, survival probability to six months, and patients' preferences for end-of-life care. Additionally, a skilled nurse was provided as part of the intervention to elicit patient preferences, provide prognoses, enhance understanding, enable palliative care, and facilitate advance planning. The intervention was expected to increase communication, resulting in earlier decisions to have orders against resuscitation, decrease time that patients spent in undesirable states (e.g., in the Intensive Care Unit, on a ventilator, and in a coma), increase physician understanding of patients' preferences for care, decrease patient pain, and decrease hospital resource use. Data collection in both phases of SUPPORT consisted of questionnaires administered to patients, their surrogates, and physicians, plus chart reviews for abstracting clinical, treatment, and decision information. Phase II also collected information regarding the implementation of the intervention, such as patient-specific logs maintained by nurses assigned to patients as part of the intervention. SUPPORT patients were followed for six months after inclusion in the study. Those who did not die within six months or were lost to follow-up were matched against the National Death Index to identify deaths through 1997. Patients who did not die within one year or were lost to follow-up were matched against the National Death Index to identify deaths through 1997.\\nAll patients in five United States medical centers who met inclusion and exclusion criteria for nine disease categories: acute respiratory failure, chronic obstructive pulmonary disease, congestive heart failure, liver disease, coma, colon cancer, lung cancer, multiple organ system failure with malignancy, and multiple organ system failure with sepsis. SUPPORT is a combination of patients from 2 studies, each of which lasted 2 years. The first phase concerns 4,301 patients, whereas the second phase concerns 4,804 patients. Time wise, these studies were accessioned in 1989 (June 12) through 1991 (June 11) for phase I and in 1992 (January 7) through 1994 (January 24).\", 'purpose': \"To develop and validate a prognostic model that estimates survival over a 180-day period for seriously ill hospitalized adults (phase I of SUPPORT) and to compare this model's predictions with those of an existing prognostic system and with physicians' independent estimates (SUPPORT phase II).\", 'funded_by': 'Funded by the Robert Wood Johnson Foundation\\n', 'instances_represent': 'The instances represent records of critically ill patients admitted to United States hospitals with advanced stages of serious illness.\\n', 'recommended_data_splits': 'No recommendation, standard train-test split could be used. Can use three-way holdout split (i.e., train-validation-test) when doing model selection.', 'sensitive_data': 'Yes. There is information about race, gender, income, and education level.', 'preprocessing_description': 'No.  Due to the high percentage of missing values, there are a couple of recommended imputation values:\\nAccording to the HBiostat Repository (https://hbiostat.org/data/repo/supportdesc, Professor Frank Harrell) the following default values have been found to be useful in imputing missing baseline physiologic data:\\nBaseline Variable\\tNormal Fill-in Value\\n- Serum albumin (alb)\\t3.5\\n- PaO2/FiO2 ratio (pafi) \\t333.3\\n- Bilirubin (bili)\\t1.01\\n- Creatinine (crea)\\t1.01\\n- bun\\t6.51\\n- White blood count (wblc)\\t9 (thousands)\\n- Urine output (urine)\\t2502\\nThere are 159 patients surviving 2 months for whom there were no patient or surrogate interviews. These patients have missing sfdm2.', 'variable_info': None, 'citation': 'Please acknowledge the source of this dataset as being from Vanderbilt University Department of Biostatistics, Professor Frank Harrell 2022, url: https://hbiostat.org/data/'}, 'external_url': 'https://hbiostat.org/data'}\n",
            "        name     role         type      demographic  \\\n",
            "0         id       ID      Integer             None   \n",
            "1        age  Feature   Continuous              Age   \n",
            "2      death   Target   Continuous             None   \n",
            "3        sex  Feature  Categorical              Sex   \n",
            "4   hospdead   Target       Binary             None   \n",
            "5       slos    Other   Continuous             None   \n",
            "6     d.time    Other   Continuous             None   \n",
            "7    dzgroup  Feature  Categorical             None   \n",
            "8    dzclass  Feature  Categorical             None   \n",
            "9     num.co  Feature   Continuous             None   \n",
            "10       edu  Feature  Categorical  Education Level   \n",
            "11    income  Feature  Categorical           Income   \n",
            "12     scoma  Feature   Continuous             None   \n",
            "13   charges  Feature   Continuous             None   \n",
            "14    totcst  Feature   Continuous             None   \n",
            "15   totmcst  Feature   Continuous             None   \n",
            "16   avtisst  Feature   Continuous             None   \n",
            "17      race  Feature  Categorical             Race   \n",
            "18       sps  Feature   Continuous             None   \n",
            "19       aps  Feature   Continuous             None   \n",
            "20    surv2m  Feature   Continuous             None   \n",
            "21    surv6m  Feature   Continuous             None   \n",
            "22      hday  Feature      Integer             None   \n",
            "23  diabetes  Feature   Continuous             None   \n",
            "24  dementia  Feature   Continuous             None   \n",
            "25        ca  Feature  Categorical             None   \n",
            "26     prg2m  Feature   Continuous             None   \n",
            "27     prg6m  Feature  Categorical             None   \n",
            "28       dnr  Feature  Categorical             None   \n",
            "29    dnrday  Feature   Continuous             None   \n",
            "30    meanbp  Feature   Continuous             None   \n",
            "31      wblc  Feature   Continuous             None   \n",
            "32       hrt  Feature   Continuous             None   \n",
            "33      resp  Feature   Continuous             None   \n",
            "34      temp  Feature   Continuous             None   \n",
            "35      pafi  Feature   Continuous             None   \n",
            "36       alb  Feature   Continuous             None   \n",
            "37      bili  Feature   Continuous             None   \n",
            "38      crea  Feature   Continuous             None   \n",
            "39       sod  Feature   Continuous             None   \n",
            "40        ph  Feature   Continuous             None   \n",
            "41   glucose  Feature      Integer             None   \n",
            "42       bun  Feature      Integer             None   \n",
            "43     urine  Feature      Integer             None   \n",
            "44      adlp  Feature  Categorical             None   \n",
            "45      adls  Feature   Continuous             None   \n",
            "46     sfdm2   Target  Categorical             None   \n",
            "47     adlsc  Feature   Continuous             None   \n",
            "\n",
            "                                          description  units missing_values  \n",
            "0                                                None   None             no  \n",
            "1                        Age of the patients in years  years             no  \n",
            "2   Death at any time up to National Death Index (...   None             no  \n",
            "3   Gender of the patient. Listed values are {male...   None             no  \n",
            "4                                   Death in hospital   None             no  \n",
            "5                  Days from Study Entry to Discharge   None             no  \n",
            "6                                   Days of follow-up   None             no  \n",
            "7   The patient's disease sub category amogst ARF/...   None             no  \n",
            "8   The patient's disease category amongst \"ARF/MO...   None             no  \n",
            "9   The number of simultaneous diseases (or comorb...   None             no  \n",
            "10                                 Years of education  years            yes  \n",
            "11  Income of the patient. Listed values are {\"$11...   None            yes  \n",
            "12  SUPPORT day 3 Coma Score based on Glasgow scal...   None            yes  \n",
            "13                                   Hospital charges   None            yes  \n",
            "14         Total ratio of costs to charges (RCC) cost   None            yes  \n",
            "15                                   Total micro cost   None            yes  \n",
            "16  Average TISS score, days 3-25, where Therapeut...   None            yes  \n",
            "17  Race of the patient. Listed values are {asian,...   None            yes  \n",
            "18  SUPPORT physiology score on day 3 (predicted b...   None            yes  \n",
            "19  APACHE III day 3 physiology score (no coma, im...   None            yes  \n",
            "20  SUPPORT model 2-month survival estimate at day...   None            yes  \n",
            "21  SUPPORT model 6-month survival estimate at day...   None            yes  \n",
            "22    Day in hospital at which patient entered study.   None             no  \n",
            "23  Whether the patient exhibits diabetes (Com 27-...   None             no  \n",
            "24  Whether the patient exhibits dementia (Comorbi...   None             no  \n",
            "25  Whether the patient has cancer (yes), whether ...   None             no  \n",
            "26  Physician’s 2-month survival estimate for pati...   None            yes  \n",
            "27  Physician’s 6-month survival estimate for pati...   None            yes  \n",
            "28  Whether the patient has a do not rescuscitate ...   None            yes  \n",
            "29              Day of DNR order (<0 if before study)   None            yes  \n",
            "30  mean arterial blood pressure of the patient, m...   None            yes  \n",
            "31  counts of white blood cells (in thousands) mea...   None            yes  \n",
            "32       heart rate of the patient measured at day 3.   None            yes  \n",
            "33  respiration rate of the patient measured at da...   None            yes  \n",
            "34  temperature in Celsius degrees measured at day 3.   None             no  \n",
            "35  $PaO_2/FiO_2$ ratio measured at day 3. The rat...   None            yes  \n",
            "36            serum albumin levels measured at day 3.   None            yes  \n",
            "37                bilirubin levels measured at day 3.   None            yes  \n",
            "38         serum creatinine levels measured at day 3.   None            yes  \n",
            "39      serum sodium concentration measured at day 3.   None            yes  \n",
            "40  Arterial blood pH. The pH of blood is usually ...   None            yes  \n",
            "41                  Glucose levels measured at day 3.   None            yes  \n",
            "42      Blood urea nitrogen levels measured at day 3.   None            yes  \n",
            "43                    Urine output measured at day 3.   None            yes  \n",
            "44  Index of Activities of Daily Living (ADL) of t...   None            yes  \n",
            "45  Index of Activities of Daily Living (ADL) of t...   None            yes  \n",
            "46  Level of functional disability of the patient ...   None            yes  \n",
            "47               Imputed ADL Calibrated to Surrogate.   None             no  \n"
          ]
        }
      ]
    }
  ]
}