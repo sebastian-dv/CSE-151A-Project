{
  "nbformat": 4,
  "nbformat_minor": 0,
  "metadata": {
    "colab": {
      "provenance": [],
      "include_colab_link": true
    },
    "kernelspec": {
      "name": "python3",
      "display_name": "Python 3"
    },
    "language_info": {
      "name": "python"
    }
  },
  "cells": [
    {
      "cell_type": "markdown",
      "metadata": {
        "id": "view-in-github",
        "colab_type": "text"
      },
      "source": [
        "<a href=\"https://colab.research.google.com/github/sebastian-dv/CSE-151A-Project/blob/main/Model_3_and_Final_Submission.ipynb\" target=\"_parent\"><img src=\"https://colab.research.google.com/assets/colab-badge.svg\" alt=\"Open In Colab\"/></a>"
      ]
    },
    {
      "cell_type": "markdown",
      "source": [
        "# Model 3 - Support Vector Machine"
      ],
      "metadata": {
        "id": "tOAkPcMOklxn"
      }
    },
    {
      "cell_type": "code",
      "source": [
        "import numpy as np\n",
        "import pandas as pd\n",
        "import matplotlib.pyplot as plt\n",
        "import seaborn as sns\n",
        "from sklearn import datasets\n",
        "from sklearn.model_selection import train_test_split, GridSearchCV, cross_val_score\n",
        "from sklearn.linear_model import LinearRegression, LogisticRegression\n",
        "from sklearn.svm import SVC\n",
        "from sklearn.neighbors import KNeighborsClassifier\n",
        "from sklearn.metrics import mean_squared_error, classification_report, accuracy_score\n",
        "from sklearn.preprocessing import OneHotEncoder, MinMaxScaler, StandardScaler, LabelEncoder\n",
        "from imblearn.over_sampling import SMOTE, RandomOverSampler\n",
        "from sklearn.ensemble import GradientBoostingClassifier,RandomForestClassifier\n",
        "import xgboost as xgb\n",
        "from sklearn.metrics import log_loss"
      ],
      "metadata": {
        "id": "5EXHrF2bQ37R"
      },
      "execution_count": null,
      "outputs": []
    },
    {
      "cell_type": "code",
      "source": [
        "df = pd.read_csv('https://archive.ics.uci.edu/static/public/880/data.csv')\n",
        "df = df[['age','sex','death','dzgroup','scoma','race','sps','aps','diabetes','dementia','meanbp','wblc','hrt','resp','temp','pafi','alb','bili','crea','sod','ph']]"
      ],
      "metadata": {
        "id": "0QDirYuKQ_4y"
      },
      "execution_count": null,
      "outputs": []
    },
    {
      "cell_type": "code",
      "execution_count": null,
      "metadata": {
        "id": "4vrDbhM7Qhkb"
      },
      "outputs": [],
      "source": [
        "# one hot encoding race\n",
        "ohe = pd.get_dummies(df[['race']])\n",
        "df = df.drop(['race'], axis = 1)\n",
        "df = pd.concat([df, ohe], axis = 1)\n",
        "\n",
        "# dropping nan values\n",
        "df = df.dropna(axis = 0, how = 'any')\n",
        "\n",
        "# encoding sex\n",
        "df['sex'].replace('female', 0, inplace=True)\n",
        "df['sex'].replace('male', 1, inplace=True)\n",
        "\n",
        "# one hot encoding dzgroup\n",
        "# ohe = pd.get_dummies(df[['dzgroup']])\n",
        "# df = df.drop(['dzgroup'], axis = 1)\n",
        "\n",
        "#label encode dzgroup\n",
        "label_encoder = LabelEncoder()\n",
        "y = label_encoder.fit_transform(df['dzgroup'])\n",
        "\n",
        "X = df.copy().drop(columns = 'dzgroup')\n",
        "#y = ohe.copy()\n",
        "df = pd.concat([df, ohe], axis = 1)"
      ]
    },
    {
      "cell_type": "code",
      "source": [
        "X"
      ],
      "metadata": {
        "id": "DNfv3ezb9tAV",
        "outputId": "21d15b24-c982-43d1-98d9-d281dcfac21d",
        "colab": {
          "base_uri": "https://localhost:8080/",
          "height": 443
        }
      },
      "execution_count": null,
      "outputs": [
        {
          "output_type": "execute_result",
          "data": {
            "text/plain": [
              "           age  sex  death  scoma        sps   aps  diabetes  dementia  \\\n",
              "0     62.84998    1      0    0.0  33.898438  20.0         0         0   \n",
              "6     62.37097    1      1    0.0  17.296875  46.0         0         0   \n",
              "17    63.66299    0      1   26.0  40.296875  58.0         0         0   \n",
              "22    49.61298    0      0    0.0  31.699219  42.0         0         0   \n",
              "25    53.84000    1      1    0.0  14.199219  16.0         0         0   \n",
              "...        ...  ...    ...    ...        ...   ...       ...       ...   \n",
              "9091  79.17596    1      0    9.0  22.097656  28.0         0         0   \n",
              "9099  68.61597    0      0    0.0  15.298828  19.0         0         0   \n",
              "9100  66.07300    1      0    0.0  16.296875  22.0         0         0   \n",
              "9103  47.01999    1      1    0.0  40.195312  51.0         0         0   \n",
              "9104  81.53894    0      1    0.0  18.097656   7.0         1         0   \n",
              "\n",
              "      meanbp       wblc  ...       alb       bili      crea    sod        ph  \\\n",
              "0       97.0   6.000000  ...  1.799805   0.199982  1.199951  141.0  7.459961   \n",
              "6       78.0  11.699219  ...  4.799805   0.399963  1.599854  132.0  7.479492   \n",
              "17      69.0  30.097656  ...  2.899902  14.000000  2.899902  130.0  7.449219   \n",
              "22      67.0  11.000000  ...  2.000000   4.099609  0.599976  130.0  7.399414   \n",
              "25     134.0   7.799805  ...  3.799805   0.500000  0.799927  141.0  7.379883   \n",
              "...      ...        ...  ...       ...        ...       ...    ...       ...   \n",
              "9091    80.0  15.798828  ...  3.000000   0.299988  0.699951  135.0  7.449219   \n",
              "9099    71.0  12.599609  ...  4.099609   0.599976  0.799927  128.0  7.489258   \n",
              "9100   109.0   7.399414  ...  3.699707   0.399963  1.099854  131.0  7.459961   \n",
              "9103    99.0   7.599609  ...  1.199951   0.399963  3.500000  135.0  7.469727   \n",
              "9104    75.0   8.599609  ...  4.500000   0.599976  1.199951  137.0  7.289062   \n",
              "\n",
              "      race_asian  race_black  race_hispanic  race_other  race_white  \n",
              "0              0           0              0           1           0  \n",
              "6              0           0              0           0           1  \n",
              "17             0           0              0           0           1  \n",
              "22             0           0              0           0           1  \n",
              "25             0           0              0           0           1  \n",
              "...          ...         ...            ...         ...         ...  \n",
              "9091           0           0              0           0           1  \n",
              "9099           0           0              0           0           1  \n",
              "9100           0           0              0           0           1  \n",
              "9103           0           0              0           0           1  \n",
              "9104           0           0              0           0           1  \n",
              "\n",
              "[3840 rows x 24 columns]"
            ],
            "text/html": [
              "\n",
              "  <div id=\"df-92bcd919-3713-41d6-a212-14a9c0d6c56f\" class=\"colab-df-container\">\n",
              "    <div>\n",
              "<style scoped>\n",
              "    .dataframe tbody tr th:only-of-type {\n",
              "        vertical-align: middle;\n",
              "    }\n",
              "\n",
              "    .dataframe tbody tr th {\n",
              "        vertical-align: top;\n",
              "    }\n",
              "\n",
              "    .dataframe thead th {\n",
              "        text-align: right;\n",
              "    }\n",
              "</style>\n",
              "<table border=\"1\" class=\"dataframe\">\n",
              "  <thead>\n",
              "    <tr style=\"text-align: right;\">\n",
              "      <th></th>\n",
              "      <th>age</th>\n",
              "      <th>sex</th>\n",
              "      <th>death</th>\n",
              "      <th>scoma</th>\n",
              "      <th>sps</th>\n",
              "      <th>aps</th>\n",
              "      <th>diabetes</th>\n",
              "      <th>dementia</th>\n",
              "      <th>meanbp</th>\n",
              "      <th>wblc</th>\n",
              "      <th>...</th>\n",
              "      <th>alb</th>\n",
              "      <th>bili</th>\n",
              "      <th>crea</th>\n",
              "      <th>sod</th>\n",
              "      <th>ph</th>\n",
              "      <th>race_asian</th>\n",
              "      <th>race_black</th>\n",
              "      <th>race_hispanic</th>\n",
              "      <th>race_other</th>\n",
              "      <th>race_white</th>\n",
              "    </tr>\n",
              "  </thead>\n",
              "  <tbody>\n",
              "    <tr>\n",
              "      <th>0</th>\n",
              "      <td>62.84998</td>\n",
              "      <td>1</td>\n",
              "      <td>0</td>\n",
              "      <td>0.0</td>\n",
              "      <td>33.898438</td>\n",
              "      <td>20.0</td>\n",
              "      <td>0</td>\n",
              "      <td>0</td>\n",
              "      <td>97.0</td>\n",
              "      <td>6.000000</td>\n",
              "      <td>...</td>\n",
              "      <td>1.799805</td>\n",
              "      <td>0.199982</td>\n",
              "      <td>1.199951</td>\n",
              "      <td>141.0</td>\n",
              "      <td>7.459961</td>\n",
              "      <td>0</td>\n",
              "      <td>0</td>\n",
              "      <td>0</td>\n",
              "      <td>1</td>\n",
              "      <td>0</td>\n",
              "    </tr>\n",
              "    <tr>\n",
              "      <th>6</th>\n",
              "      <td>62.37097</td>\n",
              "      <td>1</td>\n",
              "      <td>1</td>\n",
              "      <td>0.0</td>\n",
              "      <td>17.296875</td>\n",
              "      <td>46.0</td>\n",
              "      <td>0</td>\n",
              "      <td>0</td>\n",
              "      <td>78.0</td>\n",
              "      <td>11.699219</td>\n",
              "      <td>...</td>\n",
              "      <td>4.799805</td>\n",
              "      <td>0.399963</td>\n",
              "      <td>1.599854</td>\n",
              "      <td>132.0</td>\n",
              "      <td>7.479492</td>\n",
              "      <td>0</td>\n",
              "      <td>0</td>\n",
              "      <td>0</td>\n",
              "      <td>0</td>\n",
              "      <td>1</td>\n",
              "    </tr>\n",
              "    <tr>\n",
              "      <th>17</th>\n",
              "      <td>63.66299</td>\n",
              "      <td>0</td>\n",
              "      <td>1</td>\n",
              "      <td>26.0</td>\n",
              "      <td>40.296875</td>\n",
              "      <td>58.0</td>\n",
              "      <td>0</td>\n",
              "      <td>0</td>\n",
              "      <td>69.0</td>\n",
              "      <td>30.097656</td>\n",
              "      <td>...</td>\n",
              "      <td>2.899902</td>\n",
              "      <td>14.000000</td>\n",
              "      <td>2.899902</td>\n",
              "      <td>130.0</td>\n",
              "      <td>7.449219</td>\n",
              "      <td>0</td>\n",
              "      <td>0</td>\n",
              "      <td>0</td>\n",
              "      <td>0</td>\n",
              "      <td>1</td>\n",
              "    </tr>\n",
              "    <tr>\n",
              "      <th>22</th>\n",
              "      <td>49.61298</td>\n",
              "      <td>0</td>\n",
              "      <td>0</td>\n",
              "      <td>0.0</td>\n",
              "      <td>31.699219</td>\n",
              "      <td>42.0</td>\n",
              "      <td>0</td>\n",
              "      <td>0</td>\n",
              "      <td>67.0</td>\n",
              "      <td>11.000000</td>\n",
              "      <td>...</td>\n",
              "      <td>2.000000</td>\n",
              "      <td>4.099609</td>\n",
              "      <td>0.599976</td>\n",
              "      <td>130.0</td>\n",
              "      <td>7.399414</td>\n",
              "      <td>0</td>\n",
              "      <td>0</td>\n",
              "      <td>0</td>\n",
              "      <td>0</td>\n",
              "      <td>1</td>\n",
              "    </tr>\n",
              "    <tr>\n",
              "      <th>25</th>\n",
              "      <td>53.84000</td>\n",
              "      <td>1</td>\n",
              "      <td>1</td>\n",
              "      <td>0.0</td>\n",
              "      <td>14.199219</td>\n",
              "      <td>16.0</td>\n",
              "      <td>0</td>\n",
              "      <td>0</td>\n",
              "      <td>134.0</td>\n",
              "      <td>7.799805</td>\n",
              "      <td>...</td>\n",
              "      <td>3.799805</td>\n",
              "      <td>0.500000</td>\n",
              "      <td>0.799927</td>\n",
              "      <td>141.0</td>\n",
              "      <td>7.379883</td>\n",
              "      <td>0</td>\n",
              "      <td>0</td>\n",
              "      <td>0</td>\n",
              "      <td>0</td>\n",
              "      <td>1</td>\n",
              "    </tr>\n",
              "    <tr>\n",
              "      <th>...</th>\n",
              "      <td>...</td>\n",
              "      <td>...</td>\n",
              "      <td>...</td>\n",
              "      <td>...</td>\n",
              "      <td>...</td>\n",
              "      <td>...</td>\n",
              "      <td>...</td>\n",
              "      <td>...</td>\n",
              "      <td>...</td>\n",
              "      <td>...</td>\n",
              "      <td>...</td>\n",
              "      <td>...</td>\n",
              "      <td>...</td>\n",
              "      <td>...</td>\n",
              "      <td>...</td>\n",
              "      <td>...</td>\n",
              "      <td>...</td>\n",
              "      <td>...</td>\n",
              "      <td>...</td>\n",
              "      <td>...</td>\n",
              "      <td>...</td>\n",
              "    </tr>\n",
              "    <tr>\n",
              "      <th>9091</th>\n",
              "      <td>79.17596</td>\n",
              "      <td>1</td>\n",
              "      <td>0</td>\n",
              "      <td>9.0</td>\n",
              "      <td>22.097656</td>\n",
              "      <td>28.0</td>\n",
              "      <td>0</td>\n",
              "      <td>0</td>\n",
              "      <td>80.0</td>\n",
              "      <td>15.798828</td>\n",
              "      <td>...</td>\n",
              "      <td>3.000000</td>\n",
              "      <td>0.299988</td>\n",
              "      <td>0.699951</td>\n",
              "      <td>135.0</td>\n",
              "      <td>7.449219</td>\n",
              "      <td>0</td>\n",
              "      <td>0</td>\n",
              "      <td>0</td>\n",
              "      <td>0</td>\n",
              "      <td>1</td>\n",
              "    </tr>\n",
              "    <tr>\n",
              "      <th>9099</th>\n",
              "      <td>68.61597</td>\n",
              "      <td>0</td>\n",
              "      <td>0</td>\n",
              "      <td>0.0</td>\n",
              "      <td>15.298828</td>\n",
              "      <td>19.0</td>\n",
              "      <td>0</td>\n",
              "      <td>0</td>\n",
              "      <td>71.0</td>\n",
              "      <td>12.599609</td>\n",
              "      <td>...</td>\n",
              "      <td>4.099609</td>\n",
              "      <td>0.599976</td>\n",
              "      <td>0.799927</td>\n",
              "      <td>128.0</td>\n",
              "      <td>7.489258</td>\n",
              "      <td>0</td>\n",
              "      <td>0</td>\n",
              "      <td>0</td>\n",
              "      <td>0</td>\n",
              "      <td>1</td>\n",
              "    </tr>\n",
              "    <tr>\n",
              "      <th>9100</th>\n",
              "      <td>66.07300</td>\n",
              "      <td>1</td>\n",
              "      <td>0</td>\n",
              "      <td>0.0</td>\n",
              "      <td>16.296875</td>\n",
              "      <td>22.0</td>\n",
              "      <td>0</td>\n",
              "      <td>0</td>\n",
              "      <td>109.0</td>\n",
              "      <td>7.399414</td>\n",
              "      <td>...</td>\n",
              "      <td>3.699707</td>\n",
              "      <td>0.399963</td>\n",
              "      <td>1.099854</td>\n",
              "      <td>131.0</td>\n",
              "      <td>7.459961</td>\n",
              "      <td>0</td>\n",
              "      <td>0</td>\n",
              "      <td>0</td>\n",
              "      <td>0</td>\n",
              "      <td>1</td>\n",
              "    </tr>\n",
              "    <tr>\n",
              "      <th>9103</th>\n",
              "      <td>47.01999</td>\n",
              "      <td>1</td>\n",
              "      <td>1</td>\n",
              "      <td>0.0</td>\n",
              "      <td>40.195312</td>\n",
              "      <td>51.0</td>\n",
              "      <td>0</td>\n",
              "      <td>0</td>\n",
              "      <td>99.0</td>\n",
              "      <td>7.599609</td>\n",
              "      <td>...</td>\n",
              "      <td>1.199951</td>\n",
              "      <td>0.399963</td>\n",
              "      <td>3.500000</td>\n",
              "      <td>135.0</td>\n",
              "      <td>7.469727</td>\n",
              "      <td>0</td>\n",
              "      <td>0</td>\n",
              "      <td>0</td>\n",
              "      <td>0</td>\n",
              "      <td>1</td>\n",
              "    </tr>\n",
              "    <tr>\n",
              "      <th>9104</th>\n",
              "      <td>81.53894</td>\n",
              "      <td>0</td>\n",
              "      <td>1</td>\n",
              "      <td>0.0</td>\n",
              "      <td>18.097656</td>\n",
              "      <td>7.0</td>\n",
              "      <td>1</td>\n",
              "      <td>0</td>\n",
              "      <td>75.0</td>\n",
              "      <td>8.599609</td>\n",
              "      <td>...</td>\n",
              "      <td>4.500000</td>\n",
              "      <td>0.599976</td>\n",
              "      <td>1.199951</td>\n",
              "      <td>137.0</td>\n",
              "      <td>7.289062</td>\n",
              "      <td>0</td>\n",
              "      <td>0</td>\n",
              "      <td>0</td>\n",
              "      <td>0</td>\n",
              "      <td>1</td>\n",
              "    </tr>\n",
              "  </tbody>\n",
              "</table>\n",
              "<p>3840 rows × 24 columns</p>\n",
              "</div>\n",
              "    <div class=\"colab-df-buttons\">\n",
              "\n",
              "  <div class=\"colab-df-container\">\n",
              "    <button class=\"colab-df-convert\" onclick=\"convertToInteractive('df-92bcd919-3713-41d6-a212-14a9c0d6c56f')\"\n",
              "            title=\"Convert this dataframe to an interactive table.\"\n",
              "            style=\"display:none;\">\n",
              "\n",
              "  <svg xmlns=\"http://www.w3.org/2000/svg\" height=\"24px\" viewBox=\"0 -960 960 960\">\n",
              "    <path d=\"M120-120v-720h720v720H120Zm60-500h600v-160H180v160Zm220 220h160v-160H400v160Zm0 220h160v-160H400v160ZM180-400h160v-160H180v160Zm440 0h160v-160H620v160ZM180-180h160v-160H180v160Zm440 0h160v-160H620v160Z\"/>\n",
              "  </svg>\n",
              "    </button>\n",
              "\n",
              "  <style>\n",
              "    .colab-df-container {\n",
              "      display:flex;\n",
              "      gap: 12px;\n",
              "    }\n",
              "\n",
              "    .colab-df-convert {\n",
              "      background-color: #E8F0FE;\n",
              "      border: none;\n",
              "      border-radius: 50%;\n",
              "      cursor: pointer;\n",
              "      display: none;\n",
              "      fill: #1967D2;\n",
              "      height: 32px;\n",
              "      padding: 0 0 0 0;\n",
              "      width: 32px;\n",
              "    }\n",
              "\n",
              "    .colab-df-convert:hover {\n",
              "      background-color: #E2EBFA;\n",
              "      box-shadow: 0px 1px 2px rgba(60, 64, 67, 0.3), 0px 1px 3px 1px rgba(60, 64, 67, 0.15);\n",
              "      fill: #174EA6;\n",
              "    }\n",
              "\n",
              "    .colab-df-buttons div {\n",
              "      margin-bottom: 4px;\n",
              "    }\n",
              "\n",
              "    [theme=dark] .colab-df-convert {\n",
              "      background-color: #3B4455;\n",
              "      fill: #D2E3FC;\n",
              "    }\n",
              "\n",
              "    [theme=dark] .colab-df-convert:hover {\n",
              "      background-color: #434B5C;\n",
              "      box-shadow: 0px 1px 3px 1px rgba(0, 0, 0, 0.15);\n",
              "      filter: drop-shadow(0px 1px 2px rgba(0, 0, 0, 0.3));\n",
              "      fill: #FFFFFF;\n",
              "    }\n",
              "  </style>\n",
              "\n",
              "    <script>\n",
              "      const buttonEl =\n",
              "        document.querySelector('#df-92bcd919-3713-41d6-a212-14a9c0d6c56f button.colab-df-convert');\n",
              "      buttonEl.style.display =\n",
              "        google.colab.kernel.accessAllowed ? 'block' : 'none';\n",
              "\n",
              "      async function convertToInteractive(key) {\n",
              "        const element = document.querySelector('#df-92bcd919-3713-41d6-a212-14a9c0d6c56f');\n",
              "        const dataTable =\n",
              "          await google.colab.kernel.invokeFunction('convertToInteractive',\n",
              "                                                    [key], {});\n",
              "        if (!dataTable) return;\n",
              "\n",
              "        const docLinkHtml = 'Like what you see? Visit the ' +\n",
              "          '<a target=\"_blank\" href=https://colab.research.google.com/notebooks/data_table.ipynb>data table notebook</a>'\n",
              "          + ' to learn more about interactive tables.';\n",
              "        element.innerHTML = '';\n",
              "        dataTable['output_type'] = 'display_data';\n",
              "        await google.colab.output.renderOutput(dataTable, element);\n",
              "        const docLink = document.createElement('div');\n",
              "        docLink.innerHTML = docLinkHtml;\n",
              "        element.appendChild(docLink);\n",
              "      }\n",
              "    </script>\n",
              "  </div>\n",
              "\n",
              "\n",
              "<div id=\"df-4bb044f2-48e2-4f59-a908-ebcfb0fbe614\">\n",
              "  <button class=\"colab-df-quickchart\" onclick=\"quickchart('df-4bb044f2-48e2-4f59-a908-ebcfb0fbe614')\"\n",
              "            title=\"Suggest charts\"\n",
              "            style=\"display:none;\">\n",
              "\n",
              "<svg xmlns=\"http://www.w3.org/2000/svg\" height=\"24px\"viewBox=\"0 0 24 24\"\n",
              "     width=\"24px\">\n",
              "    <g>\n",
              "        <path d=\"M19 3H5c-1.1 0-2 .9-2 2v14c0 1.1.9 2 2 2h14c1.1 0 2-.9 2-2V5c0-1.1-.9-2-2-2zM9 17H7v-7h2v7zm4 0h-2V7h2v10zm4 0h-2v-4h2v4z\"/>\n",
              "    </g>\n",
              "</svg>\n",
              "  </button>\n",
              "\n",
              "<style>\n",
              "  .colab-df-quickchart {\n",
              "      --bg-color: #E8F0FE;\n",
              "      --fill-color: #1967D2;\n",
              "      --hover-bg-color: #E2EBFA;\n",
              "      --hover-fill-color: #174EA6;\n",
              "      --disabled-fill-color: #AAA;\n",
              "      --disabled-bg-color: #DDD;\n",
              "  }\n",
              "\n",
              "  [theme=dark] .colab-df-quickchart {\n",
              "      --bg-color: #3B4455;\n",
              "      --fill-color: #D2E3FC;\n",
              "      --hover-bg-color: #434B5C;\n",
              "      --hover-fill-color: #FFFFFF;\n",
              "      --disabled-bg-color: #3B4455;\n",
              "      --disabled-fill-color: #666;\n",
              "  }\n",
              "\n",
              "  .colab-df-quickchart {\n",
              "    background-color: var(--bg-color);\n",
              "    border: none;\n",
              "    border-radius: 50%;\n",
              "    cursor: pointer;\n",
              "    display: none;\n",
              "    fill: var(--fill-color);\n",
              "    height: 32px;\n",
              "    padding: 0;\n",
              "    width: 32px;\n",
              "  }\n",
              "\n",
              "  .colab-df-quickchart:hover {\n",
              "    background-color: var(--hover-bg-color);\n",
              "    box-shadow: 0 1px 2px rgba(60, 64, 67, 0.3), 0 1px 3px 1px rgba(60, 64, 67, 0.15);\n",
              "    fill: var(--button-hover-fill-color);\n",
              "  }\n",
              "\n",
              "  .colab-df-quickchart-complete:disabled,\n",
              "  .colab-df-quickchart-complete:disabled:hover {\n",
              "    background-color: var(--disabled-bg-color);\n",
              "    fill: var(--disabled-fill-color);\n",
              "    box-shadow: none;\n",
              "  }\n",
              "\n",
              "  .colab-df-spinner {\n",
              "    border: 2px solid var(--fill-color);\n",
              "    border-color: transparent;\n",
              "    border-bottom-color: var(--fill-color);\n",
              "    animation:\n",
              "      spin 1s steps(1) infinite;\n",
              "  }\n",
              "\n",
              "  @keyframes spin {\n",
              "    0% {\n",
              "      border-color: transparent;\n",
              "      border-bottom-color: var(--fill-color);\n",
              "      border-left-color: var(--fill-color);\n",
              "    }\n",
              "    20% {\n",
              "      border-color: transparent;\n",
              "      border-left-color: var(--fill-color);\n",
              "      border-top-color: var(--fill-color);\n",
              "    }\n",
              "    30% {\n",
              "      border-color: transparent;\n",
              "      border-left-color: var(--fill-color);\n",
              "      border-top-color: var(--fill-color);\n",
              "      border-right-color: var(--fill-color);\n",
              "    }\n",
              "    40% {\n",
              "      border-color: transparent;\n",
              "      border-right-color: var(--fill-color);\n",
              "      border-top-color: var(--fill-color);\n",
              "    }\n",
              "    60% {\n",
              "      border-color: transparent;\n",
              "      border-right-color: var(--fill-color);\n",
              "    }\n",
              "    80% {\n",
              "      border-color: transparent;\n",
              "      border-right-color: var(--fill-color);\n",
              "      border-bottom-color: var(--fill-color);\n",
              "    }\n",
              "    90% {\n",
              "      border-color: transparent;\n",
              "      border-bottom-color: var(--fill-color);\n",
              "    }\n",
              "  }\n",
              "</style>\n",
              "\n",
              "  <script>\n",
              "    async function quickchart(key) {\n",
              "      const quickchartButtonEl =\n",
              "        document.querySelector('#' + key + ' button');\n",
              "      quickchartButtonEl.disabled = true;  // To prevent multiple clicks.\n",
              "      quickchartButtonEl.classList.add('colab-df-spinner');\n",
              "      try {\n",
              "        const charts = await google.colab.kernel.invokeFunction(\n",
              "            'suggestCharts', [key], {});\n",
              "      } catch (error) {\n",
              "        console.error('Error during call to suggestCharts:', error);\n",
              "      }\n",
              "      quickchartButtonEl.classList.remove('colab-df-spinner');\n",
              "      quickchartButtonEl.classList.add('colab-df-quickchart-complete');\n",
              "    }\n",
              "    (() => {\n",
              "      let quickchartButtonEl =\n",
              "        document.querySelector('#df-4bb044f2-48e2-4f59-a908-ebcfb0fbe614 button');\n",
              "      quickchartButtonEl.style.display =\n",
              "        google.colab.kernel.accessAllowed ? 'block' : 'none';\n",
              "    })();\n",
              "  </script>\n",
              "</div>\n",
              "\n",
              "  <div id=\"id_64802457-2a72-46ef-96d2-7e8bb1598da0\">\n",
              "    <style>\n",
              "      .colab-df-generate {\n",
              "        background-color: #E8F0FE;\n",
              "        border: none;\n",
              "        border-radius: 50%;\n",
              "        cursor: pointer;\n",
              "        display: none;\n",
              "        fill: #1967D2;\n",
              "        height: 32px;\n",
              "        padding: 0 0 0 0;\n",
              "        width: 32px;\n",
              "      }\n",
              "\n",
              "      .colab-df-generate:hover {\n",
              "        background-color: #E2EBFA;\n",
              "        box-shadow: 0px 1px 2px rgba(60, 64, 67, 0.3), 0px 1px 3px 1px rgba(60, 64, 67, 0.15);\n",
              "        fill: #174EA6;\n",
              "      }\n",
              "\n",
              "      [theme=dark] .colab-df-generate {\n",
              "        background-color: #3B4455;\n",
              "        fill: #D2E3FC;\n",
              "      }\n",
              "\n",
              "      [theme=dark] .colab-df-generate:hover {\n",
              "        background-color: #434B5C;\n",
              "        box-shadow: 0px 1px 3px 1px rgba(0, 0, 0, 0.15);\n",
              "        filter: drop-shadow(0px 1px 2px rgba(0, 0, 0, 0.3));\n",
              "        fill: #FFFFFF;\n",
              "      }\n",
              "    </style>\n",
              "    <button class=\"colab-df-generate\" onclick=\"generateWithVariable('X')\"\n",
              "            title=\"Generate code using this dataframe.\"\n",
              "            style=\"display:none;\">\n",
              "\n",
              "  <svg xmlns=\"http://www.w3.org/2000/svg\" height=\"24px\"viewBox=\"0 0 24 24\"\n",
              "       width=\"24px\">\n",
              "    <path d=\"M7,19H8.4L18.45,9,17,7.55,7,17.6ZM5,21V16.75L18.45,3.32a2,2,0,0,1,2.83,0l1.4,1.43a1.91,1.91,0,0,1,.58,1.4,1.91,1.91,0,0,1-.58,1.4L9.25,21ZM18.45,9,17,7.55Zm-12,3A5.31,5.31,0,0,0,4.9,8.1,5.31,5.31,0,0,0,1,6.5,5.31,5.31,0,0,0,4.9,4.9,5.31,5.31,0,0,0,6.5,1,5.31,5.31,0,0,0,8.1,4.9,5.31,5.31,0,0,0,12,6.5,5.46,5.46,0,0,0,6.5,12Z\"/>\n",
              "  </svg>\n",
              "    </button>\n",
              "    <script>\n",
              "      (() => {\n",
              "      const buttonEl =\n",
              "        document.querySelector('#id_64802457-2a72-46ef-96d2-7e8bb1598da0 button.colab-df-generate');\n",
              "      buttonEl.style.display =\n",
              "        google.colab.kernel.accessAllowed ? 'block' : 'none';\n",
              "\n",
              "      buttonEl.onclick = () => {\n",
              "        google.colab.notebook.generateWithVariable('X');\n",
              "      }\n",
              "      })();\n",
              "    </script>\n",
              "  </div>\n",
              "\n",
              "    </div>\n",
              "  </div>\n"
            ],
            "application/vnd.google.colaboratory.intrinsic+json": {
              "type": "dataframe",
              "variable_name": "X"
            }
          },
          "metadata": {},
          "execution_count": 81
        }
      ]
    },
    {
      "cell_type": "markdown",
      "source": [
        "### StandardScaler"
      ],
      "metadata": {
        "id": "GqtLHNbljgsn"
      }
    },
    {
      "cell_type": "code",
      "source": [
        "non_num_X = X.iloc[:, 19:]\n",
        "num_X = X.drop(X.columns[19:], axis=1)\n",
        "num_X = num_X.drop(columns=['sex'])\n",
        "\n",
        "scaler = StandardScaler()\n",
        "StandardScaler()\n",
        "\n",
        "X_scaled = scaler.fit_transform(num_X)\n",
        "X_scaled = np.concatenate([X_scaled, non_num_X.values], axis=1)"
      ],
      "metadata": {
        "id": "FEIkhqkNSX_E"
      },
      "execution_count": null,
      "outputs": []
    },
    {
      "cell_type": "code",
      "source": [
        "# split data\n",
        "X_train, X_test, y_train, y_test = train_test_split(X_scaled, y, test_size=0.2, random_state=21)"
      ],
      "metadata": {
        "id": "Y8b1xZs_Wty1"
      },
      "execution_count": null,
      "outputs": []
    },
    {
      "cell_type": "markdown",
      "source": [
        "# XgBoost\n"
      ],
      "metadata": {
        "id": "FZCL0kViD_MT"
      }
    },
    {
      "cell_type": "code",
      "source": [
        "eval_set = [(X_train, y_train), (X_test, y_test)]\n",
        "model = xgb.XGBClassifier(objective='multi:softmax', max_depth=2, learning_rate=0.1, n_estimators=100, eval_metric='mlogloss')\n",
        "model.fit(X_train, y_train, eval_set=eval_set, verbose=0)\n",
        "\n",
        "results = model.evals_result()\n",
        "epochs = len(results['validation_0']['mlogloss'])\n",
        "x_axis = range(0, epochs)\n",
        "\n",
        "train_error = results['validation_0']['mlogloss']\n",
        "test_error = results['validation_1']['mlogloss']\n",
        "\n",
        "plt.figure(figsize=(12, 7))\n",
        "plt.plot(x_axis, train_error, label='Train')\n",
        "plt.plot(x_axis, test_error, label='Test')\n",
        "\n",
        "plt.legend()\n",
        "plt.ylabel('Log Loss Error')\n",
        "plt.xlabel('Epochs')\n",
        "plt.title('XGBoost Log Loss Error')\n",
        "plt.show()"
      ],
      "metadata": {
        "id": "jmbTej5n_zAn",
        "outputId": "28a797dd-34fa-4a94-a994-15e203102498",
        "colab": {
          "base_uri": "https://localhost:8080/",
          "height": 641
        }
      },
      "execution_count": null,
      "outputs": [
        {
          "output_type": "display_data",
          "data": {
            "text/plain": [
              "<Figure size 1200x700 with 1 Axes>"
            ],
            "image/png": "[encoded data removed]"
          },
          "metadata": {}
        }
      ]
    },
    {
      "cell_type": "code",
      "source": [
        "y_pred = model.predict(X_test)\n",
        "print(classification_report(y_test,y_pred))"
      ],
      "metadata": {
        "id": "r9sqG6r4EGOf",
        "outputId": "83adc930-c3fb-4b3a-e7b0-c3ca7957bc99",
        "colab": {
          "base_uri": "https://localhost:8080/"
        }
      },
      "execution_count": null,
      "outputs": [
        {
          "output_type": "stream",
          "name": "stdout",
          "text": [
            "              precision    recall  f1-score   support\n",
            "\n",
            "           0       0.57      0.86      0.69       333\n",
            "           1       0.42      0.35      0.39        96\n",
            "           2       0.37      0.27      0.31        83\n",
            "           3       0.50      0.12      0.20        49\n",
            "           4       0.50      0.11      0.18        18\n",
            "           5       0.71      0.52      0.60        77\n",
            "           6       0.42      0.38      0.40        42\n",
            "           7       0.88      0.21      0.34        70\n",
            "\n",
            "    accuracy                           0.55       768\n",
            "   macro avg       0.55      0.35      0.39       768\n",
            "weighted avg       0.56      0.55      0.51       768\n",
            "\n"
          ]
        }
      ]
    },
    {
      "cell_type": "code",
      "source": [
        "from sklearn.model_selection import RandomizedSearchCV\n",
        "\n",
        "model = xgb.XGBClassifier()\n",
        "\n",
        "param_dist = {\n",
        "    'max_depth': [3, 4, 5, 6, 7],\n",
        "    'learning_rate': [0.1, 0.01, 0.05],\n",
        "    'n_estimators': [100, 200, 300, 400, 500],\n",
        "    'subsample': [0.6, 0.7, 0.8, 0.9, 1.0]\n",
        "}\n",
        "\n",
        "random_search = RandomizedSearchCV(model, param_distributions=param_dist, n_iter=25, scoring='accuracy', cv=3, verbose=1, random_state=0)\n",
        "\n",
        "random_search.fit(X_train, y_train)\n",
        "\n",
        "print(\"Best parameters found: \", random_search.best_params_)\n",
        "print(\"Best accuracy found: \", random_search.best_score_)"
      ],
      "metadata": {
        "id": "FmATyzGQGqal",
        "outputId": "910c5af8-cf15-46cc-a88b-bd00eb769e2e",
        "colab": {
          "base_uri": "https://localhost:8080/"
        }
      },
      "execution_count": null,
      "outputs": [
        {
          "output_type": "stream",
          "name": "stdout",
          "text": [
            "Fitting 3 folds for each of 25 candidates, totalling 75 fits\n",
            "Best parameters found:  {'subsample': 0.6, 'n_estimators': 100, 'max_depth': 3, 'learning_rate': 0.1}\n",
            "Best accuracy found:  0.5810546875\n"
          ]
        }
      ]
    },
    {
      "cell_type": "code",
      "source": [
        "from sklearn.model_selection import GridSearchCV\n",
        "\n",
        "model = xgb.XGBClassifier()\n",
        "\n",
        "param_grid = {\n",
        "    'max_depth': [3, 4, 5, 6, 7],\n",
        "    'learning_rate': [0.1, 0.01, 0.05],\n",
        "    'n_estimators': [100, 200, 300, 400, 500],\n",
        "    'subsample': [0.6, 0.7, 0.8, 0.9, 1.0]\n",
        "}\n",
        "\n",
        "grid_search = GridSearchCV(estimator=model, param_grid=param_grid, scoring='accuracy', cv=3, verbose=1)\n",
        "\n",
        "grid_search.fit(X_train, y_train)\n",
        "\n",
        "print(\"Best parameters found: \", grid_search.best_params_)\n",
        "print(\"Best accuracy found: \", grid_search.best_score_)"
      ],
      "metadata": {
        "id": "YZHL_iuiIDWn",
        "outputId": "d0e4f540-373a-48e8-f8fa-f4c5924de8e8",
        "colab": {
          "base_uri": "https://localhost:8080/"
        }
      },
      "execution_count": null,
      "outputs": [
        {
          "output_type": "stream",
          "name": "stdout",
          "text": [
            "Fitting 3 folds for each of 375 candidates, totalling 1125 fits\n",
            "Best parameters found:  {'learning_rate': 0.1, 'max_depth': 3, 'n_estimators': 100, 'subsample': 0.7}\n",
            "Best accuracy found:  0.583984375\n"
          ]
        }
      ]
    },
    {
      "cell_type": "markdown",
      "source": [
        "# Gradient boosted Tree\n"
      ],
      "metadata": {
        "id": "otZsDpLL8F5l"
      }
    },
    {
      "cell_type": "code",
      "source": [
        "model = GradientBoostingClassifier(n_estimators=100, learning_rate=0.1, max_depth=2, random_state=21)\n",
        "\n",
        "# Train the model\n",
        "model.fit(X_train, y_train)\n",
        "\n",
        "# Retrieve the staged predictions\n",
        "train_error = [log_loss(y_train, y_pred_proba) for y_pred_proba in model.staged_predict_proba(X_train)]\n",
        "test_error = [log_loss(y_test, y_pred_proba) for y_pred_proba in model.staged_predict_proba(X_test)]\n",
        "\n",
        "x_axis = range(1, len(train_error) + 1)\n",
        "\n",
        "# Plot the log loss error for each iteration\n",
        "plt.figure(figsize=(12, 7))\n",
        "plt.plot(x_axis, train_error, label='Train')\n",
        "plt.plot(x_axis, test_error, label='Test')\n",
        "\n",
        "plt.legend()\n",
        "plt.ylabel('Log Loss')\n",
        "plt.xlabel('Number of Trees')\n",
        "plt.title('Gradient Boosting Log Loss Error')\n",
        "plt.show()"
      ],
      "metadata": {
        "id": "dGS_iOYQ76df",
        "outputId": "f4f6ac25-9191-478b-ee48-5e89f769ce71",
        "colab": {
          "base_uri": "https://localhost:8080/",
          "height": 641
        }
      },
      "execution_count": null,
      "outputs": [
        {
          "output_type": "display_data",
          "data": {
            "text/plain": [
              "<Figure size 1200x700 with 1 Axes>"
            ],
            "image/png": "[encoded data removed]"
          },
          "metadata": {}
        }
      ]
    },
    {
      "cell_type": "code",
      "source": [
        "y_pred = model.predict(X_test)\n",
        "print(classification_report(y_test,y_pred))"
      ],
      "metadata": {
        "id": "HRo7ImBx8RtM",
        "outputId": "baba6a88-a1d1-4e94-a1c5-c3d16ba6e700",
        "colab": {
          "base_uri": "https://localhost:8080/"
        }
      },
      "execution_count": null,
      "outputs": [
        {
          "output_type": "stream",
          "name": "stdout",
          "text": [
            "              precision    recall  f1-score   support\n",
            "\n",
            "           0       0.58      0.84      0.69       333\n",
            "           1       0.44      0.40      0.42        96\n",
            "           2       0.40      0.30      0.34        83\n",
            "           3       0.60      0.24      0.35        49\n",
            "           4       0.38      0.17      0.23        18\n",
            "           5       0.71      0.53      0.61        77\n",
            "           6       0.44      0.36      0.39        42\n",
            "           7       0.75      0.21      0.33        70\n",
            "\n",
            "    accuracy                           0.56       768\n",
            "   macro avg       0.54      0.38      0.42       768\n",
            "weighted avg       0.56      0.56      0.53       768\n",
            "\n"
          ]
        }
      ]
    },
    {
      "cell_type": "code",
      "source": [
        "y_pred = model.predict(X_train)\n",
        "print(classification_report(y_train,y_pred))"
      ],
      "metadata": {
        "id": "Ev0GCvNE8TFQ",
        "outputId": "59e35913-b01f-4f02-e8a6-eebaa1f3767c",
        "colab": {
          "base_uri": "https://localhost:8080/"
        }
      },
      "execution_count": null,
      "outputs": [
        {
          "output_type": "stream",
          "name": "stdout",
          "text": [
            "              precision    recall  f1-score   support\n",
            "\n",
            "           0       0.66      0.92      0.76      1392\n",
            "           1       0.68      0.55      0.61       377\n",
            "           2       0.65      0.45      0.53       364\n",
            "           3       0.74      0.37      0.49       199\n",
            "           4       0.96      0.54      0.69        80\n",
            "           5       0.80      0.65      0.72       188\n",
            "           6       0.68      0.62      0.65       204\n",
            "           7       0.88      0.31      0.45       268\n",
            "\n",
            "    accuracy                           0.68      3072\n",
            "   macro avg       0.76      0.55      0.61      3072\n",
            "weighted avg       0.70      0.68      0.66      3072\n",
            "\n"
          ]
        }
      ]
    },
    {
      "cell_type": "markdown",
      "source": [
        "**oversampling for tree**"
      ],
      "metadata": {
        "id": "mpkZUPNX8Uis"
      }
    },
    {
      "cell_type": "code",
      "source": [
        "smote = SMOTE(random_state=21)\n",
        "X_train_resampled, y_train_resampled = smote.fit_resample(X_train, y_train)"
      ],
      "metadata": {
        "id": "2ET0Vype6VvG"
      },
      "execution_count": null,
      "outputs": []
    },
    {
      "cell_type": "code",
      "source": [
        "tree_oversampled = GradientBoostingClassifier(n_estimators=100, learning_rate=0.1, max_depth=3, random_state=21)\n",
        "\n",
        "# Train the model\n",
        "tree_oversampled.fit(X_train_resampled, y_train_resampled)"
      ],
      "metadata": {
        "id": "vXZmtJII4QxY",
        "outputId": "7a05b97a-38aa-4199-961a-d4cfbd7afdac",
        "colab": {
          "base_uri": "https://localhost:8080/",
          "height": 74
        }
      },
      "execution_count": null,
      "outputs": [
        {
          "output_type": "execute_result",
          "data": {
            "text/plain": [
              "GradientBoostingClassifier(random_state=21)"
            ],
            "text/html": [
              "<style>#sk-container-id-2 {color: black;background-color: white;}#sk-container-id-2 pre{padding: 0;}#sk-container-id-2 div.sk-toggleable {background-color: white;}#sk-container-id-2 label.sk-toggleable__label {cursor: pointer;display: block;width: 100%;margin-bottom: 0;padding: 0.3em;box-sizing: border-box;text-align: center;}#sk-container-id-2 label.sk-toggleable__label-arrow:before {content: \"▸\";float: left;margin-right: 0.25em;color: #696969;}#sk-container-id-2 label.sk-toggleable__label-arrow:hover:before {color: black;}#sk-container-id-2 div.sk-estimator:hover label.sk-toggleable__label-arrow:before {color: black;}#sk-container-id-2 div.sk-toggleable__content {max-height: 0;max-width: 0;overflow: hidden;text-align: left;background-color: #f0f8ff;}#sk-container-id-2 div.sk-toggleable__content pre {margin: 0.2em;color: black;border-radius: 0.25em;background-color: #f0f8ff;}#sk-container-id-2 input.sk-toggleable__control:checked~div.sk-toggleable__content {max-height: 200px;max-width: 100%;overflow: auto;}#sk-container-id-2 input.sk-toggleable__control:checked~label.sk-toggleable__label-arrow:before {content: \"▾\";}#sk-container-id-2 div.sk-estimator input.sk-toggleable__control:checked~label.sk-toggleable__label {background-color: #d4ebff;}#sk-container-id-2 div.sk-label input.sk-toggleable__control:checked~label.sk-toggleable__label {background-color: #d4ebff;}#sk-container-id-2 input.sk-hidden--visually {border: 0;clip: rect(1px 1px 1px 1px);clip: rect(1px, 1px, 1px, 1px);height: 1px;margin: -1px;overflow: hidden;padding: 0;position: absolute;width: 1px;}#sk-container-id-2 div.sk-estimator {font-family: monospace;background-color: #f0f8ff;border: 1px dotted black;border-radius: 0.25em;box-sizing: border-box;margin-bottom: 0.5em;}#sk-container-id-2 div.sk-estimator:hover {background-color: #d4ebff;}#sk-container-id-2 div.sk-parallel-item::after {content: \"\";width: 100%;border-bottom: 1px solid gray;flex-grow: 1;}#sk-container-id-2 div.sk-label:hover label.sk-toggleable__label {background-color: #d4ebff;}#sk-container-id-2 div.sk-serial::before {content: \"\";position: absolute;border-left: 1px solid gray;box-sizing: border-box;top: 0;bottom: 0;left: 50%;z-index: 0;}#sk-container-id-2 div.sk-serial {display: flex;flex-direction: column;align-items: center;background-color: white;padding-right: 0.2em;padding-left: 0.2em;position: relative;}#sk-container-id-2 div.sk-item {position: relative;z-index: 1;}#sk-container-id-2 div.sk-parallel {display: flex;align-items: stretch;justify-content: center;background-color: white;position: relative;}#sk-container-id-2 div.sk-item::before, #sk-container-id-2 div.sk-parallel-item::before {content: \"\";position: absolute;border-left: 1px solid gray;box-sizing: border-box;top: 0;bottom: 0;left: 50%;z-index: -1;}#sk-container-id-2 div.sk-parallel-item {display: flex;flex-direction: column;z-index: 1;position: relative;background-color: white;}#sk-container-id-2 div.sk-parallel-item:first-child::after {align-self: flex-end;width: 50%;}#sk-container-id-2 div.sk-parallel-item:last-child::after {align-self: flex-start;width: 50%;}#sk-container-id-2 div.sk-parallel-item:only-child::after {width: 0;}#sk-container-id-2 div.sk-dashed-wrapped {border: 1px dashed gray;margin: 0 0.4em 0.5em 0.4em;box-sizing: border-box;padding-bottom: 0.4em;background-color: white;}#sk-container-id-2 div.sk-label label {font-family: monospace;font-weight: bold;display: inline-block;line-height: 1.2em;}#sk-container-id-2 div.sk-label-container {text-align: center;}#sk-container-id-2 div.sk-container {/* jupyter's `normalize.less` sets `[hidden] { display: none; }` but bootstrap.min.css set `[hidden] { display: none !important; }` so we also need the `!important` here to be able to override the default hidden behavior on the sphinx rendered scikit-learn.org. See: https://github.com/scikit-learn/scikit-learn/issues/21755 */display: inline-block !important;position: relative;}#sk-container-id-2 div.sk-text-repr-fallback {display: none;}</style><div id=\"sk-container-id-2\" class=\"sk-top-container\"><div class=\"sk-text-repr-fallback\"><pre>GradientBoostingClassifier(random_state=21)</pre><b>In a Jupyter environment, please rerun this cell to show the HTML representation or trust the notebook. <br />On GitHub, the HTML representation is unable to render, please try loading this page with nbviewer.org.</b></div><div class=\"sk-container\" hidden><div class=\"sk-item\"><div class=\"sk-estimator sk-toggleable\"><input class=\"sk-toggleable__control sk-hidden--visually\" id=\"sk-estimator-id-2\" type=\"checkbox\" checked><label for=\"sk-estimator-id-2\" class=\"sk-toggleable__label sk-toggleable__label-arrow\">GradientBoostingClassifier</label><div class=\"sk-toggleable__content\"><pre>GradientBoostingClassifier(random_state=21)</pre></div></div></div></div></div>"
            ]
          },
          "metadata": {},
          "execution_count": 90
        }
      ]
    },
    {
      "cell_type": "code",
      "source": [
        "y_pred = tree_oversampled.predict(X_test)\n",
        "print(classification_report(y_test,y_pred))"
      ],
      "metadata": {
        "id": "l7ekFPTs2ER7",
        "outputId": "00be2c84-ef9a-4be5-920b-f49132c206ae",
        "colab": {
          "base_uri": "https://localhost:8080/"
        }
      },
      "execution_count": null,
      "outputs": [
        {
          "output_type": "stream",
          "name": "stdout",
          "text": [
            "              precision    recall  f1-score   support\n",
            "\n",
            "           0       0.71      0.58      0.64       333\n",
            "           1       0.40      0.45      0.42        96\n",
            "           2       0.33      0.35      0.34        83\n",
            "           3       0.43      0.51      0.47        49\n",
            "           4       0.22      0.28      0.24        18\n",
            "           5       0.64      0.73      0.68        77\n",
            "           6       0.39      0.57      0.46        42\n",
            "           7       0.41      0.40      0.40        70\n",
            "\n",
            "    accuracy                           0.53       768\n",
            "   macro avg       0.44      0.48      0.46       768\n",
            "weighted avg       0.55      0.53      0.53       768\n",
            "\n"
          ]
        }
      ]
    },
    {
      "cell_type": "code",
      "source": [
        "y_pred = tree_oversampled.predict(X_train)\n",
        "print(classification_report(y_train,y_pred))"
      ],
      "metadata": {
        "id": "BzrCLF3nu5of",
        "outputId": "f182934e-deef-49b8-97e7-fde5b67ba771",
        "colab": {
          "base_uri": "https://localhost:8080/"
        }
      },
      "execution_count": null,
      "outputs": [
        {
          "output_type": "stream",
          "name": "stdout",
          "text": [
            "              precision    recall  f1-score   support\n",
            "\n",
            "           0       0.83      0.71      0.77      1392\n",
            "           1       0.67      0.71      0.69       377\n",
            "           2       0.65      0.67      0.66       364\n",
            "           3       0.62      0.72      0.67       199\n",
            "           4       0.70      0.86      0.77        80\n",
            "           5       0.70      0.85      0.77       188\n",
            "           6       0.68      0.79      0.73       204\n",
            "           7       0.56      0.64      0.59       268\n",
            "\n",
            "    accuracy                           0.72      3072\n",
            "   macro avg       0.67      0.75      0.71      3072\n",
            "weighted avg       0.73      0.72      0.72      3072\n",
            "\n"
          ]
        }
      ]
    },
    {
      "cell_type": "markdown",
      "source": [
        "# SVM"
      ],
      "metadata": {
        "id": "WMiqBBuA9Msh"
      }
    },
    {
      "cell_type": "code",
      "source": [
        "# Create an Instance of SVM and Fit out the data.\n",
        "# Data is not scaled so as to be able to plot the support vectors\n",
        "svm = SVC(kernel ='poly', degree = 2)\n",
        "svm.fit(X_train,y_train)\n",
        "y_true = y_test\n",
        "y_pred = svm.predict(X_test)\n",
        "print(classification_report(y_true, y_pred, zero_division=0))\n",
        "# Evaluate the accuracy\n",
        "accuracy = accuracy_score(y_true, y_pred)\n",
        "print(f\"Accuracy: {accuracy}\")"
      ],
      "metadata": {
        "colab": {
          "base_uri": "https://localhost:8080/"
        },
        "id": "mAg1Z6gxSCcT",
        "outputId": "c5cff466-4e66-423f-9a90-39cb52d4d7a6"
      },
      "execution_count": null,
      "outputs": [
        {
          "output_type": "stream",
          "name": "stdout",
          "text": [
            "              precision    recall  f1-score   support\n",
            "\n",
            "           0       0.52      0.89      0.66       333\n",
            "           1       0.45      0.29      0.35        96\n",
            "           2       0.37      0.23      0.28        83\n",
            "           3       0.67      0.08      0.15        49\n",
            "           4       0.00      0.00      0.00        18\n",
            "           5       0.70      0.40      0.51        77\n",
            "           6       0.32      0.21      0.26        42\n",
            "           7       0.64      0.10      0.17        70\n",
            "\n",
            "    accuracy                           0.51       768\n",
            "   macro avg       0.46      0.28      0.30       768\n",
            "weighted avg       0.51      0.51      0.45       768\n",
            "\n",
            "Accuracy: 0.5130208333333334\n"
          ]
        }
      ]
    },
    {
      "cell_type": "markdown",
      "source": [
        "## Try to find optimiaze parameters\n"
      ],
      "metadata": {
        "id": "VfDp0n70i1w4"
      }
    },
    {
      "cell_type": "code",
      "source": [
        "# find the beter parameters\n",
        "# test for best model\n",
        "\n",
        "# Define the hyperparameter grid\n",
        "param_grid = {'C': [0.1, 1, 10], 'gamma': [0.01, 0.1, 1], 'kernel': ['linear', 'rbf', 'poly']}\n",
        "# Create an SVM classifier\n",
        "svm_classifier = SVC()\n",
        "# Create the GridSearchCV object\n",
        "grid_search = GridSearchCV(svm_classifier, param_grid, cv=3, scoring='accuracy')\n",
        "# Fit the model with different hyperparameter combinations\n",
        "grid_search.fit(X_train,y_train.idxmax(axis=1).values)\n",
        "# Get the best hyperparameters\n",
        "best_params = grid_search.best_params_\n",
        "# Get the best model\n",
        "best_model = grid_search.best_estimator_\n",
        "# Evaluate the best model on the test set\n",
        "accuracy = best_model.score(X_test, y_test.idxmax(axis=1).values)\n",
        "print(f\"Best Hyperparameters: {best_params}\")\n",
        "print(f\"Accuracy on Test Set: {accuracy}\")"
      ],
      "metadata": {
        "colab": {
          "base_uri": "https://localhost:8080/"
        },
        "id": "RXdJvNt0Yr9T",
        "outputId": "0a0b66b7-bbc0-4f5d-d8e8-c41a45287f6c"
      },
      "execution_count": null,
      "outputs": [
        {
          "output_type": "stream",
          "name": "stdout",
          "text": [
            "Best Hyperparameters: {'C': 10, 'gamma': 0.01, 'kernel': 'rbf'}\n",
            "Accuracy on Test Set: 0.53515625\n"
          ]
        }
      ]
    },
    {
      "cell_type": "markdown",
      "source": [
        "## OverSamplying with scaled data\n",
        "\n",
        "### SMOTE\n"
      ],
      "metadata": {
        "id": "vN47UktLccph"
      }
    },
    {
      "cell_type": "code",
      "source": [
        "# Apply SMOTE to oversample the minority class\n",
        "smote = SMOTE(random_state=21)\n",
        "X_train_resampled, y_train_resampled = smote.fit_resample(X_train, y_train.idxmax(axis=1).values)\n",
        "# After oversampling\n",
        "unique_classes_resampled, class_counts_resampled = np.unique(y_train_resampled, return_counts=True)\n",
        "for class_label, count in zip(unique_classes_resampled, class_counts_resampled):\n",
        "    print(f\"Frequency of Class {class_label}: {count} instances\")"
      ],
      "metadata": {
        "colab": {
          "base_uri": "https://localhost:8080/"
        },
        "id": "4FtH4h7zbjqu",
        "outputId": "38cb5f80-4d87-4494-d6f6-ee09a75352c8"
      },
      "execution_count": null,
      "outputs": [
        {
          "output_type": "stream",
          "name": "stdout",
          "text": [
            "Frequency of Class dzgroup_ARF/MOSF w/Sepsis: 1392 instances\n",
            "Frequency of Class dzgroup_CHF: 1392 instances\n",
            "Frequency of Class dzgroup_COPD: 1392 instances\n",
            "Frequency of Class dzgroup_Cirrhosis: 1392 instances\n",
            "Frequency of Class dzgroup_Colon Cancer: 1392 instances\n",
            "Frequency of Class dzgroup_Coma: 1392 instances\n",
            "Frequency of Class dzgroup_Lung Cancer: 1392 instances\n",
            "Frequency of Class dzgroup_MOSF w/Malig: 1392 instances\n"
          ]
        }
      ]
    },
    {
      "cell_type": "markdown",
      "source": [
        "### Evaluation"
      ],
      "metadata": {
        "id": "3AUqjtqKjZMn"
      }
    },
    {
      "cell_type": "code",
      "source": [
        "svm_classifier = SVC(kernel='rbf', C = 10, gamma = 0.1)\n",
        "svm_classifier.fit(X_train_resampled,y_train_resampled)\n",
        "y_true = y_test.idxmax(axis=1).values\n",
        "y_pred = svm_classifier.predict(X_test)\n",
        "print(classification_report(y_true, y_pred))\n",
        "# Evaluate the accuracy\n",
        "accuracy = accuracy_score(y_true, y_pred)\n",
        "print(f\"Accuracy: {accuracy}\")"
      ],
      "metadata": {
        "colab": {
          "base_uri": "https://localhost:8080/"
        },
        "outputId": "ece89298-4891-4cbb-e191-aed45729b578",
        "id": "fTt05JqyjZMo"
      },
      "execution_count": null,
      "outputs": [
        {
          "output_type": "stream",
          "name": "stdout",
          "text": [
            "                           precision    recall  f1-score   support\n",
            "\n",
            "dzgroup_ARF/MOSF w/Sepsis       0.60      0.71      0.65       333\n",
            "              dzgroup_CHF       0.41      0.38      0.39        96\n",
            "             dzgroup_COPD       0.31      0.29      0.30        83\n",
            "        dzgroup_Cirrhosis       0.42      0.33      0.37        49\n",
            "     dzgroup_Colon Cancer       0.06      0.06      0.06        18\n",
            "             dzgroup_Coma       0.55      0.39      0.45        77\n",
            "      dzgroup_Lung Cancer       0.28      0.26      0.27        42\n",
            "     dzgroup_MOSF w/Malig       0.30      0.24      0.27        70\n",
            "\n",
            "                 accuracy                           0.48       768\n",
            "                macro avg       0.37      0.33      0.34       768\n",
            "             weighted avg       0.47      0.48      0.47       768\n",
            "\n",
            "Accuracy: 0.484375\n"
          ]
        }
      ]
    },
    {
      "cell_type": "markdown",
      "source": [
        "### RandomOverSampler"
      ],
      "metadata": {
        "id": "Qd6Ljpj2jRj6"
      }
    },
    {
      "cell_type": "code",
      "source": [
        "rs = RandomOverSampler(random_state=11)\n",
        "X_train_resampled, y_train_resampled = rs.fit_resample(X_train, y_train.idxmax(axis=1).values)\n",
        "# After oversampling\n",
        "unique_classes_resampled, class_counts_resampled = np.unique(y_train_resampled, return_counts=True)\n",
        "for class_label, count in zip(unique_classes_resampled, class_counts_resampled):\n",
        "    print(f\"Frequency of Class {class_label}: {count} instances\")\n"
      ],
      "metadata": {
        "colab": {
          "base_uri": "https://localhost:8080/"
        },
        "id": "WPqWFpdofMPT",
        "outputId": "a3176aa4-dc03-41cc-e10e-5400d2038394"
      },
      "execution_count": null,
      "outputs": [
        {
          "output_type": "stream",
          "name": "stdout",
          "text": [
            "Frequency of Class dzgroup_ARF/MOSF w/Sepsis: 1392 instances\n",
            "Frequency of Class dzgroup_CHF: 1392 instances\n",
            "Frequency of Class dzgroup_COPD: 1392 instances\n",
            "Frequency of Class dzgroup_Cirrhosis: 1392 instances\n",
            "Frequency of Class dzgroup_Colon Cancer: 1392 instances\n",
            "Frequency of Class dzgroup_Coma: 1392 instances\n",
            "Frequency of Class dzgroup_Lung Cancer: 1392 instances\n",
            "Frequency of Class dzgroup_MOSF w/Malig: 1392 instances\n"
          ]
        }
      ]
    },
    {
      "cell_type": "markdown",
      "source": [
        "### Evaluation"
      ],
      "metadata": {
        "id": "Lg-A6EAdjTPe"
      }
    },
    {
      "cell_type": "code",
      "source": [
        "svm_classifier = SVC(kernel='rbf', C = 10, gamma = 0.1)\n",
        "svm_classifier.fit(X_train_resampled,y_train_resampled)\n",
        "y_true = y_test.idxmax(axis=1).values\n",
        "y_pred = svm_classifier.predict(X_test)\n",
        "print(classification_report(y_true, y_pred))\n",
        "# Evaluate the accuracy\n",
        "accuracy = accuracy_score(y_true, y_pred)\n",
        "print(f\"Accuracy: {accuracy}\")"
      ],
      "metadata": {
        "colab": {
          "base_uri": "https://localhost:8080/"
        },
        "id": "iR-TFtH1ddvn",
        "outputId": "ba94b8d3-a122-4ae0-a08a-716cedce5fc1"
      },
      "execution_count": null,
      "outputs": [
        {
          "output_type": "stream",
          "name": "stdout",
          "text": [
            "                           precision    recall  f1-score   support\n",
            "\n",
            "dzgroup_ARF/MOSF w/Sepsis       0.61      0.75      0.67       333\n",
            "              dzgroup_CHF       0.48      0.43      0.45        96\n",
            "             dzgroup_COPD       0.32      0.29      0.30        83\n",
            "        dzgroup_Cirrhosis       0.50      0.37      0.42        49\n",
            "     dzgroup_Colon Cancer       0.06      0.06      0.06        18\n",
            "             dzgroup_Coma       0.56      0.40      0.47        77\n",
            "      dzgroup_Lung Cancer       0.20      0.17      0.18        42\n",
            "     dzgroup_MOSF w/Malig       0.36      0.27      0.31        70\n",
            "\n",
            "                 accuracy                           0.51       768\n",
            "                macro avg       0.39      0.34      0.36       768\n",
            "             weighted avg       0.49      0.51      0.49       768\n",
            "\n",
            "Accuracy: 0.5091145833333334\n"
          ]
        }
      ]
    },
    {
      "cell_type": "markdown",
      "source": [
        "# K-Nearest Neighbor"
      ],
      "metadata": {
        "id": "ysBADWiekbAp"
      }
    },
    {
      "cell_type": "code",
      "source": [
        "#oversample.  we don't use because it decreases accuracy\n",
        "\n",
        "# smote = SMOTE()\n",
        "# X_train_resampled, y_train_resampled = smote.fit_resample(X_train, y_train)"
      ],
      "metadata": {
        "id": "nAqAC0HGFHAI"
      },
      "execution_count": null,
      "outputs": []
    },
    {
      "cell_type": "code",
      "source": [
        "#KNN. similar result to SVM\n",
        "k = 10\n",
        "knn_classifier = KNeighborsClassifier(n_neighbors=k)\n",
        "knn_classifier.fit(X_train, y_train)\n",
        "\n",
        "# Predict the labels for the test set\n",
        "y_true = y_test\n",
        "y_pred = knn_classifier.predict(X_test)\n",
        "print(classification_report(y_true, y_pred, zero_division = 0))"
      ],
      "metadata": {
        "colab": {
          "base_uri": "https://localhost:8080/"
        },
        "id": "MQvVfbZ6-xM0",
        "outputId": "c99e1cac-5f4d-44a1-f089-47655d87e061"
      },
      "execution_count": null,
      "outputs": [
        {
          "output_type": "stream",
          "name": "stdout",
          "text": [
            "              precision    recall  f1-score   support\n",
            "\n",
            "           0       0.53      0.83      0.64       333\n",
            "           1       0.37      0.35      0.36        96\n",
            "           2       0.30      0.28      0.29        83\n",
            "           3       0.46      0.12      0.19        49\n",
            "           4       0.00      0.00      0.00        18\n",
            "           5       0.74      0.30      0.43        77\n",
            "           6       0.22      0.10      0.13        42\n",
            "           7       0.41      0.10      0.16        70\n",
            "\n",
            "    accuracy                           0.48       768\n",
            "   macro avg       0.38      0.26      0.28       768\n",
            "weighted avg       0.46      0.48      0.43       768\n",
            "\n"
          ]
        }
      ]
    }
  ]
}