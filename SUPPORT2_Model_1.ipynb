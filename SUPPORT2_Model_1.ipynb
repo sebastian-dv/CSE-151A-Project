{
  "nbformat": 4,
  "nbformat_minor": 0,
  "metadata": {
    "colab": {
      "provenance": [],
      "authorship_tag": "ABX9TyM4oQesTAHfCkGYioo4E64/",
      "include_colab_link": true
    },
    "kernelspec": {
      "name": "python3",
      "display_name": "Python 3"
    },
    "language_info": {
      "name": "python"
    }
  },
  "cells": [
    {
      "cell_type": "markdown",
      "metadata": {
        "id": "view-in-github",
        "colab_type": "text"
      },
      "source": [
        "<a href=\"https://colab.research.google.com/github/sebastian-dv/CSE-151A-Project/blob/main/SUPPORT2_Model_1.ipynb\" target=\"_parent\"><img src=\"https://colab.research.google.com/assets/colab-badge.svg\" alt=\"Open In Colab\"/></a>"
      ]
    },
    {
      "cell_type": "markdown",
      "source": [
        "# CSE 151A Group Project\n",
        "# Names\n",
        "\n",
        "- Pranav Prabu\n",
        "- Sebastian Diaz\n",
        "- Jou-Chih Chang\n",
        "- Juan Yin\n",
        "- Irving Zhao\n",
        "- Xianzhe Guo\n",
        "- Tiankuo Li"
      ],
      "metadata": {
        "id": "G3tWZU7XYbbH"
      }
    },
    {
      "cell_type": "code",
      "execution_count": 1,
      "metadata": {
        "id": "WNCLyGw_YTCi"
      },
      "outputs": [],
      "source": [
        "import pandas as pd\n",
        "import numpy as np\n",
        "import matplotlib.pyplot as plt\n",
        "import seaborn as sns\n",
        "from sklearn import datasets\n",
        "from sklearn.model_selection import cross_val_score, train_test_split\n",
        "from sklearn.linear_model import LinearRegression\n",
        "from sklearn.metrics import mean_squared_error\n",
        "from sklearn.preprocessing import OneHotEncoder\n",
        "from sklearn.linear_model import LogisticRegression\n",
        "from sklearn.metrics import classification_report"
      ]
    },
    {
      "cell_type": "code",
      "source": [
        "!pip install ucimlrepo"
      ],
      "metadata": {
        "colab": {
          "base_uri": "https://localhost:8080/"
        },
        "id": "m2QAACflYkDH",
        "outputId": "515aa12e-0c0e-4812-f9c0-2991822ecf01"
      },
      "execution_count": 2,
      "outputs": [
        {
          "output_type": "stream",
          "name": "stdout",
          "text": [
            "Collecting ucimlrepo\n",
            "  Downloading ucimlrepo-0.0.3-py3-none-any.whl (7.0 kB)\n",
            "Installing collected packages: ucimlrepo\n",
            "Successfully installed ucimlrepo-0.0.3\n"
          ]
        }
      ]
    },
    {
      "cell_type": "code",
      "source": [
        "from ucimlrepo import fetch_ucirepo\n",
        "# fetch dataset\n",
        "support2 = fetch_ucirepo(id=880)"
      ],
      "metadata": {
        "id": "DO0pF6pDYlqd"
      },
      "execution_count": 3,
      "outputs": []
    },
    {
      "cell_type": "code",
      "source": [
        "df = pd.read_csv('https://archive.ics.uci.edu/static/public/880/data.csv')\n",
        "\n",
        "df = df[['age','sex','death','dzgroup','scoma','race','sps','aps','diabetes','dementia','meanbp','wblc','hrt','resp','temp','pafi','alb','bili','crea','sod','ph']]"
      ],
      "metadata": {
        "id": "2kF85YodYqZH"
      },
      "execution_count": 124,
      "outputs": []
    },
    {
      "cell_type": "code",
      "source": [
        "ohe = OneHotEncoder()\n",
        "list1 = ['race']\n",
        "for i in list1:\n",
        "  myohedzgroup = ohe.fit_transform(df[i].values.reshape(-1,1)).toarray()\n",
        "  myohedzgroup=pd.DataFrame(myohedzgroup, columns=ohe.categories_[0])\n",
        "  df=df.drop([i], axis=1)\n",
        "  df=pd.concat([df,myohedzgroup],axis=1)\n",
        "\n",
        "df = df.drop(df.columns[25], axis = 1)"
      ],
      "metadata": {
        "id": "eERN0WTRhqaJ"
      },
      "execution_count": 125,
      "outputs": []
    },
    {
      "cell_type": "code",
      "source": [
        "df = df.dropna(axis = 0, how = 'any')\n",
        "df['sex'].replace('female', 0, inplace=True)\n",
        "df['sex'].replace('male', 1, inplace=True)"
      ],
      "metadata": {
        "id": "jGFXQ-EWhSmb"
      },
      "execution_count": null,
      "outputs": []
    },
    {
      "cell_type": "code",
      "source": [
        "targets = df['dzgroup']\n",
        "features = (df.drop('dzgroup', axis = 1))"
      ],
      "metadata": {
        "id": "XTkVo_qxaPVt"
      },
      "execution_count": 130,
      "outputs": []
    },
    {
      "cell_type": "code",
      "source": [
        "X_train, X_test, y_train, y_test = train_test_split(features, targets, test_size=0.3, random_state=0)\n",
        "logreg = LogisticRegression(max_iter=1000, multi_class='multinomial', solver='lbfgs')\n",
        "logregmodel = logreg.fit(X_train, y_train)\n",
        "yhat_train = logreg.predict(X_train)\n",
        "yhat_test = logreg.predict(X_test)"
      ],
      "metadata": {
        "colab": {
          "base_uri": "https://localhost:8080/"
        },
        "id": "I6oR8aVXZsFd",
        "outputId": "d85acf9b-2d33-46d7-d8c8-0470387e0261"
      },
      "execution_count": 131,
      "outputs": [
        {
          "output_type": "stream",
          "name": "stderr",
          "text": [
            "/usr/local/lib/python3.10/dist-packages/sklearn/linear_model/_logistic.py:458: ConvergenceWarning: lbfgs failed to converge (status=1):\n",
            "STOP: TOTAL NO. of ITERATIONS REACHED LIMIT.\n",
            "\n",
            "Increase the number of iterations (max_iter) or scale the data as shown in:\n",
            "    https://scikit-learn.org/stable/modules/preprocessing.html\n",
            "Please also refer to the documentation for alternative solver options:\n",
            "    https://scikit-learn.org/stable/modules/linear_model.html#logistic-regression\n",
            "  n_iter_i = _check_optimize_result(\n"
          ]
        }
      ]
    },
    {
      "cell_type": "code",
      "source": [
        "logreg.score(X_test, y_test)"
      ],
      "metadata": {
        "colab": {
          "base_uri": "https://localhost:8080/"
        },
        "id": "v_W9ZP04fMCm",
        "outputId": "af262a50-52ac-4c87-84c2-83426d0ea149"
      },
      "execution_count": 132,
      "outputs": [
        {
          "output_type": "execute_result",
          "data": {
            "text/plain": [
              "0.5451388888888888"
            ]
          },
          "metadata": {},
          "execution_count": 132
        }
      ]
    },
    {
      "cell_type": "code",
      "source": [
        "logreg.score(X_train, y_train)"
      ],
      "metadata": {
        "colab": {
          "base_uri": "https://localhost:8080/"
        },
        "id": "rIhp1oE0fOCY",
        "outputId": "79fb7473-b80b-46ef-d735-271f37961075"
      },
      "execution_count": 133,
      "outputs": [
        {
          "output_type": "execute_result",
          "data": {
            "text/plain": [
              "0.5528273809523809"
            ]
          },
          "metadata": {},
          "execution_count": 133
        }
      ]
    },
    {
      "cell_type": "code",
      "source": [
        "print(classification_report(y_test, yhat_test))"
      ],
      "metadata": {
        "colab": {
          "base_uri": "https://localhost:8080/"
        },
        "id": "PHKVceD1fRDF",
        "outputId": "d8172f9c-bec0-458e-b98a-24f413f6c07d"
      },
      "execution_count": 134,
      "outputs": [
        {
          "output_type": "stream",
          "name": "stdout",
          "text": [
            "                   precision    recall  f1-score   support\n",
            "\n",
            "ARF/MOSF w/Sepsis       0.56      0.89      0.68       510\n",
            "              CHF       0.44      0.30      0.35       149\n",
            "             COPD       0.50      0.31      0.38       134\n",
            "        Cirrhosis       0.58      0.10      0.18        67\n",
            "     Colon Cancer       1.00      0.04      0.08        23\n",
            "             Coma       0.75      0.51      0.61        92\n",
            "      Lung Cancer       0.38      0.37      0.38        75\n",
            "     MOSF w/Malig       1.00      0.07      0.13       102\n",
            "\n",
            "         accuracy                           0.55      1152\n",
            "        macro avg       0.65      0.32      0.35      1152\n",
            "     weighted avg       0.59      0.55      0.49      1152\n",
            "\n"
          ]
        }
      ]
    },
    {
      "cell_type": "code",
      "source": [
        "from sklearn.metrics import accuracy_score, classification_report, confusion_matrix, mean_squared_error\n",
        "\n",
        "train_accuracy = accuracy_score(y_train, yhat_train)\n",
        "print(\"Training Accuracy:\", train_accuracy)\n",
        "\n",
        "test_accuracy = accuracy_score(y_test, yhat_test)\n",
        "print(\"\\nTest Accuracy:\", test_accuracy)\n",
        "\n",
        "print(\"\\nClassification Report:\")\n",
        "print(classification_report(y_test, yhat_test))\n",
        "\n",
        "conf_matrix = confusion_matrix(y_test, yhat_test)\n",
        "print(\"\\nTest Confusion Matrix:\")\n",
        "print(conf_matrix)\n",
        "\n",
        "from sklearn.model_selection import learning_curve\n",
        "\n",
        "X = features\n",
        "y = targets\n",
        "\n",
        "# Assuming you have X, y, and a model\n",
        "train_sizes, train_scores, test_scores = learning_curve(logreg, X, y, cv=5, scoring='accuracy', n_jobs=-1)\n",
        "\n",
        "# Calculate mean training and testing scores\n",
        "train_scores_mean = np.mean(train_scores, axis=1)\n",
        "test_scores_mean = np.mean(test_scores, axis=1)\n",
        "\n",
        "# Plot learning curves\n",
        "plt.figure(figsize=(10, 6))\n",
        "plt.plot(train_sizes, train_scores_mean, label='Training Score')\n",
        "plt.plot(train_sizes, test_scores_mean, label='Cross-Validation Score')\n",
        "plt.xlabel('Training Examples')\n",
        "plt.ylabel('Score')\n",
        "plt.title('Learning Curves')\n",
        "plt.legend()\n",
        "plt.show()"
      ],
      "metadata": {
        "colab": {
          "base_uri": "https://localhost:8080/",
          "height": 1000
        },
        "id": "cnzbnWR7gKvV",
        "outputId": "8dee339f-bb48-4c39-d1b1-d7c7cdd187f7"
      },
      "execution_count": 135,
      "outputs": [
        {
          "output_type": "stream",
          "name": "stdout",
          "text": [
            "Training Accuracy: 0.5528273809523809\n",
            "\n",
            "Test Accuracy: 0.5451388888888888\n",
            "\n",
            "Classification Report:\n",
            "                   precision    recall  f1-score   support\n",
            "\n",
            "ARF/MOSF w/Sepsis       0.56      0.89      0.68       510\n",
            "              CHF       0.44      0.30      0.35       149\n",
            "             COPD       0.50      0.31      0.38       134\n",
            "        Cirrhosis       0.58      0.10      0.18        67\n",
            "     Colon Cancer       1.00      0.04      0.08        23\n",
            "             Coma       0.75      0.51      0.61        92\n",
            "      Lung Cancer       0.38      0.37      0.38        75\n",
            "     MOSF w/Malig       1.00      0.07      0.13       102\n",
            "\n",
            "         accuracy                           0.55      1152\n",
            "        macro avg       0.65      0.32      0.35      1152\n",
            "     weighted avg       0.59      0.55      0.49      1152\n",
            "\n",
            "\n",
            "Test Confusion Matrix:\n",
            "[[453  19  13   1   0  13  11   0]\n",
            " [ 79  44  11   2   0   1  12   0]\n",
            " [ 72  12  41   2   0   0   7   0]\n",
            " [ 54   1   1   7   0   1   3   0]\n",
            " [  8   3   5   0   1   0   6   0]\n",
            " [ 38   0   3   0   0  47   4   0]\n",
            " [ 25  17   5   0   0   0  28   0]\n",
            " [ 86   3   3   0   0   1   2   7]]\n"
          ]
        },
        {
          "output_type": "display_data",
          "data": {
            "text/plain": [
              "<Figure size 1000x600 with 1 Axes>"
            ],
            "image/png": "[encoded data removed]"
          },
          "metadata": {}
        }
      ]
    },
    {
      "cell_type": "markdown",
      "source": [
        "Based on the following results, with a higher training score and a slightly lower cross-validation score, this indicates that there is overfitting in the model, and therefore may not be the best model for producing the correct output."
      ],
      "metadata": {
        "id": "wcv7DeaNhDca"
      }
    }
  ]
}