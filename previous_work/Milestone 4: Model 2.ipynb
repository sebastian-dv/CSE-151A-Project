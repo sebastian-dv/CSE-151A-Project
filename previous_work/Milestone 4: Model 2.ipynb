{
  "nbformat": 4,
  "nbformat_minor": 0,
  "metadata": {
    "colab": {
      "provenance": []
    },
    "kernelspec": {
      "name": "python3",
      "display_name": "Python 3"
    },
    "language_info": {
      "name": "python"
    }
  },
  "cells": [
    {
      "cell_type": "markdown",
      "source": [
        "# CSE 151A Group Project\n",
        "# Names\n",
        "\n",
        "- Pranav Prabu\n",
        "- Sebastian Diaz\n",
        "- Jou-Chih Chang\n",
        "- Juan Yin\n",
        "- Irving Zhao\n",
        "- Xianzhe Guo\n",
        "- Tiankuo Li"
      ],
      "metadata": {
        "id": "G3tWZU7XYbbH"
      }
    },
    {
      "cell_type": "code",
      "execution_count": 2,
      "metadata": {
        "id": "WNCLyGw_YTCi"
      },
      "outputs": [],
      "source": [
        "import pandas as pd\n",
        "import numpy as np\n",
        "import matplotlib.pyplot as plt\n",
        "import seaborn as sns\n",
        "from sklearn import datasets\n",
        "from sklearn.model_selection import cross_val_score, train_test_split\n",
        "from sklearn.linear_model import LinearRegression\n",
        "from sklearn.metrics import mean_squared_error\n",
        "from sklearn.preprocessing import OneHotEncoder\n",
        "from sklearn.preprocessing import MinMaxScaler\n",
        "from sklearn.linear_model import LogisticRegression\n",
        "from sklearn.metrics import classification_report"
      ]
    },
    {
      "cell_type": "code",
      "source": [
        "df = pd.read_csv('https://archive.ics.uci.edu/static/public/880/data.csv')\n",
        "\n",
        "df = df[['age','sex','death','dzgroup','scoma','race','sps','aps','diabetes','dementia','meanbp','wblc','hrt','resp','temp','pafi','alb','bili','crea','sod','ph']]"
      ],
      "metadata": {
        "id": "2kF85YodYqZH"
      },
      "execution_count": 3,
      "outputs": []
    },
    {
      "cell_type": "markdown",
      "source": [
        "## Initial Preprocessing"
      ],
      "metadata": {
        "id": "mq0vRe0-j5iv"
      }
    },
    {
      "cell_type": "code",
      "source": [
        "# one hot encoding race\n",
        "ohe = pd.get_dummies(df[['race']])\n",
        "df = df.drop(['race'], axis = 1)\n",
        "df = pd.concat([df, ohe], axis = 1)\n",
        "\n",
        "# dropping nan values\n",
        "df = df.dropna(axis = 0, how = 'any')\n",
        "\n",
        "# encoding sex\n",
        "df['sex'].replace('female', 0, inplace=True)\n",
        "df['sex'].replace('male', 1, inplace=True)\n",
        "\n",
        "# one hot encoding dzgroup\n",
        "ohe = pd.get_dummies(df[['dzgroup']])\n",
        "df = df.drop(['dzgroup'], axis = 1)\n",
        "\n",
        "X = df.copy()\n",
        "y = ohe.copy()\n",
        "df = pd.concat([df, ohe], axis = 1)\n",
        "\n",
        "# scaling data\n",
        "scaler = MinMaxScaler()\n",
        "X = pd.DataFrame(scaler.fit_transform(X), columns = X.columns)"
      ],
      "metadata": {
        "id": "eERN0WTRhqaJ"
      },
      "execution_count": 4,
      "outputs": []
    },
    {
      "cell_type": "code",
      "source": [
        "X.head()"
      ],
      "metadata": {
        "id": "FAzTXGu_43o2",
        "outputId": "87545d97-356f-415d-e062-7c36f0c4eb65",
        "colab": {
          "base_uri": "https://localhost:8080/",
          "height": 256
        }
      },
      "execution_count": 5,
      "outputs": [
        {
          "output_type": "execute_result",
          "data": {
            "text/plain": [
              "        age  sex  death  scoma       sps       aps  diabetes  dementia  \\\n",
              "0  0.544507  1.0    0.0   0.00  0.333700  0.139860       0.0       0.0   \n",
              "1  0.538672  1.0    1.0   0.00  0.164275  0.321678       0.0       0.0   \n",
              "2  0.554409  0.0    1.0   0.26  0.398999  0.405594       0.0       0.0   \n",
              "3  0.383276  0.0    0.0   0.00  0.311257  0.293706       0.0       0.0   \n",
              "4  0.434763  1.0    1.0   0.00  0.132662  0.111888       0.0       0.0   \n",
              "\n",
              "     meanbp      wblc  ...       alb      bili      crea       sod        ph  \\\n",
              "0  0.538889  0.046591  ...  0.048945  0.001590  0.060112  0.476923  0.675213   \n",
              "1  0.433333  0.090846  ...  0.153840  0.004769  0.081967  0.338462  0.699633   \n",
              "2  0.383333  0.233711  ...  0.087410  0.220986  0.153014  0.307692  0.661783   \n",
              "3  0.372222  0.085416  ...  0.055945  0.063587  0.027324  0.307692  0.599511   \n",
              "4  0.744444  0.060566  ...  0.118875  0.006359  0.038251  0.476923  0.575091   \n",
              "\n",
              "   race_asian  race_black  race_hispanic  race_other  race_white  \n",
              "0         0.0         0.0            0.0         1.0         0.0  \n",
              "1         0.0         0.0            0.0         0.0         1.0  \n",
              "2         0.0         0.0            0.0         0.0         1.0  \n",
              "3         0.0         0.0            0.0         0.0         1.0  \n",
              "4         0.0         0.0            0.0         0.0         1.0  \n",
              "\n",
              "[5 rows x 24 columns]"
            ],
            "text/html": [
              "\n",
              "  <div id=\"df-0e37f823-a598-4906-afe7-f0cb3f198197\" class=\"colab-df-container\">\n",
              "    <div>\n",
              "<style scoped>\n",
              "    .dataframe tbody tr th:only-of-type {\n",
              "        vertical-align: middle;\n",
              "    }\n",
              "\n",
              "    .dataframe tbody tr th {\n",
              "        vertical-align: top;\n",
              "    }\n",
              "\n",
              "    .dataframe thead th {\n",
              "        text-align: right;\n",
              "    }\n",
              "</style>\n",
              "<table border=\"1\" class=\"dataframe\">\n",
              "  <thead>\n",
              "    <tr style=\"text-align: right;\">\n",
              "      <th></th>\n",
              "      <th>age</th>\n",
              "      <th>sex</th>\n",
              "      <th>death</th>\n",
              "      <th>scoma</th>\n",
              "      <th>sps</th>\n",
              "      <th>aps</th>\n",
              "      <th>diabetes</th>\n",
              "      <th>dementia</th>\n",
              "      <th>meanbp</th>\n",
              "      <th>wblc</th>\n",
              "      <th>...</th>\n",
              "      <th>alb</th>\n",
              "      <th>bili</th>\n",
              "      <th>crea</th>\n",
              "      <th>sod</th>\n",
              "      <th>ph</th>\n",
              "      <th>race_asian</th>\n",
              "      <th>race_black</th>\n",
              "      <th>race_hispanic</th>\n",
              "      <th>race_other</th>\n",
              "      <th>race_white</th>\n",
              "    </tr>\n",
              "  </thead>\n",
              "  <tbody>\n",
              "    <tr>\n",
              "      <th>0</th>\n",
              "      <td>0.544507</td>\n",
              "      <td>1.0</td>\n",
              "      <td>0.0</td>\n",
              "      <td>0.00</td>\n",
              "      <td>0.333700</td>\n",
              "      <td>0.139860</td>\n",
              "      <td>0.0</td>\n",
              "      <td>0.0</td>\n",
              "      <td>0.538889</td>\n",
              "      <td>0.046591</td>\n",
              "      <td>...</td>\n",
              "      <td>0.048945</td>\n",
              "      <td>0.001590</td>\n",
              "      <td>0.060112</td>\n",
              "      <td>0.476923</td>\n",
              "      <td>0.675213</td>\n",
              "      <td>0.0</td>\n",
              "      <td>0.0</td>\n",
              "      <td>0.0</td>\n",
              "      <td>1.0</td>\n",
              "      <td>0.0</td>\n",
              "    </tr>\n",
              "    <tr>\n",
              "      <th>1</th>\n",
              "      <td>0.538672</td>\n",
              "      <td>1.0</td>\n",
              "      <td>1.0</td>\n",
              "      <td>0.00</td>\n",
              "      <td>0.164275</td>\n",
              "      <td>0.321678</td>\n",
              "      <td>0.0</td>\n",
              "      <td>0.0</td>\n",
              "      <td>0.433333</td>\n",
              "      <td>0.090846</td>\n",
              "      <td>...</td>\n",
              "      <td>0.153840</td>\n",
              "      <td>0.004769</td>\n",
              "      <td>0.081967</td>\n",
              "      <td>0.338462</td>\n",
              "      <td>0.699633</td>\n",
              "      <td>0.0</td>\n",
              "      <td>0.0</td>\n",
              "      <td>0.0</td>\n",
              "      <td>0.0</td>\n",
              "      <td>1.0</td>\n",
              "    </tr>\n",
              "    <tr>\n",
              "      <th>2</th>\n",
              "      <td>0.554409</td>\n",
              "      <td>0.0</td>\n",
              "      <td>1.0</td>\n",
              "      <td>0.26</td>\n",
              "      <td>0.398999</td>\n",
              "      <td>0.405594</td>\n",
              "      <td>0.0</td>\n",
              "      <td>0.0</td>\n",
              "      <td>0.383333</td>\n",
              "      <td>0.233711</td>\n",
              "      <td>...</td>\n",
              "      <td>0.087410</td>\n",
              "      <td>0.220986</td>\n",
              "      <td>0.153014</td>\n",
              "      <td>0.307692</td>\n",
              "      <td>0.661783</td>\n",
              "      <td>0.0</td>\n",
              "      <td>0.0</td>\n",
              "      <td>0.0</td>\n",
              "      <td>0.0</td>\n",
              "      <td>1.0</td>\n",
              "    </tr>\n",
              "    <tr>\n",
              "      <th>3</th>\n",
              "      <td>0.383276</td>\n",
              "      <td>0.0</td>\n",
              "      <td>0.0</td>\n",
              "      <td>0.00</td>\n",
              "      <td>0.311257</td>\n",
              "      <td>0.293706</td>\n",
              "      <td>0.0</td>\n",
              "      <td>0.0</td>\n",
              "      <td>0.372222</td>\n",
              "      <td>0.085416</td>\n",
              "      <td>...</td>\n",
              "      <td>0.055945</td>\n",
              "      <td>0.063587</td>\n",
              "      <td>0.027324</td>\n",
              "      <td>0.307692</td>\n",
              "      <td>0.599511</td>\n",
              "      <td>0.0</td>\n",
              "      <td>0.0</td>\n",
              "      <td>0.0</td>\n",
              "      <td>0.0</td>\n",
              "      <td>1.0</td>\n",
              "    </tr>\n",
              "    <tr>\n",
              "      <th>4</th>\n",
              "      <td>0.434763</td>\n",
              "      <td>1.0</td>\n",
              "      <td>1.0</td>\n",
              "      <td>0.00</td>\n",
              "      <td>0.132662</td>\n",
              "      <td>0.111888</td>\n",
              "      <td>0.0</td>\n",
              "      <td>0.0</td>\n",
              "      <td>0.744444</td>\n",
              "      <td>0.060566</td>\n",
              "      <td>...</td>\n",
              "      <td>0.118875</td>\n",
              "      <td>0.006359</td>\n",
              "      <td>0.038251</td>\n",
              "      <td>0.476923</td>\n",
              "      <td>0.575091</td>\n",
              "      <td>0.0</td>\n",
              "      <td>0.0</td>\n",
              "      <td>0.0</td>\n",
              "      <td>0.0</td>\n",
              "      <td>1.0</td>\n",
              "    </tr>\n",
              "  </tbody>\n",
              "</table>\n",
              "<p>5 rows × 24 columns</p>\n",
              "</div>\n",
              "    <div class=\"colab-df-buttons\">\n",
              "\n",
              "  <div class=\"colab-df-container\">\n",
              "    <button class=\"colab-df-convert\" onclick=\"convertToInteractive('df-0e37f823-a598-4906-afe7-f0cb3f198197')\"\n",
              "            title=\"Convert this dataframe to an interactive table.\"\n",
              "            style=\"display:none;\">\n",
              "\n",
              "  <svg xmlns=\"http://www.w3.org/2000/svg\" height=\"24px\" viewBox=\"0 -960 960 960\">\n",
              "    <path d=\"M120-120v-720h720v720H120Zm60-500h600v-160H180v160Zm220 220h160v-160H400v160Zm0 220h160v-160H400v160ZM180-400h160v-160H180v160Zm440 0h160v-160H620v160ZM180-180h160v-160H180v160Zm440 0h160v-160H620v160Z\"/>\n",
              "  </svg>\n",
              "    </button>\n",
              "\n",
              "  <style>\n",
              "    .colab-df-container {\n",
              "      display:flex;\n",
              "      gap: 12px;\n",
              "    }\n",
              "\n",
              "    .colab-df-convert {\n",
              "      background-color: #E8F0FE;\n",
              "      border: none;\n",
              "      border-radius: 50%;\n",
              "      cursor: pointer;\n",
              "      display: none;\n",
              "      fill: #1967D2;\n",
              "      height: 32px;\n",
              "      padding: 0 0 0 0;\n",
              "      width: 32px;\n",
              "    }\n",
              "\n",
              "    .colab-df-convert:hover {\n",
              "      background-color: #E2EBFA;\n",
              "      box-shadow: 0px 1px 2px rgba(60, 64, 67, 0.3), 0px 1px 3px 1px rgba(60, 64, 67, 0.15);\n",
              "      fill: #174EA6;\n",
              "    }\n",
              "\n",
              "    .colab-df-buttons div {\n",
              "      margin-bottom: 4px;\n",
              "    }\n",
              "\n",
              "    [theme=dark] .colab-df-convert {\n",
              "      background-color: #3B4455;\n",
              "      fill: #D2E3FC;\n",
              "    }\n",
              "\n",
              "    [theme=dark] .colab-df-convert:hover {\n",
              "      background-color: #434B5C;\n",
              "      box-shadow: 0px 1px 3px 1px rgba(0, 0, 0, 0.15);\n",
              "      filter: drop-shadow(0px 1px 2px rgba(0, 0, 0, 0.3));\n",
              "      fill: #FFFFFF;\n",
              "    }\n",
              "  </style>\n",
              "\n",
              "    <script>\n",
              "      const buttonEl =\n",
              "        document.querySelector('#df-0e37f823-a598-4906-afe7-f0cb3f198197 button.colab-df-convert');\n",
              "      buttonEl.style.display =\n",
              "        google.colab.kernel.accessAllowed ? 'block' : 'none';\n",
              "\n",
              "      async function convertToInteractive(key) {\n",
              "        const element = document.querySelector('#df-0e37f823-a598-4906-afe7-f0cb3f198197');\n",
              "        const dataTable =\n",
              "          await google.colab.kernel.invokeFunction('convertToInteractive',\n",
              "                                                    [key], {});\n",
              "        if (!dataTable) return;\n",
              "\n",
              "        const docLinkHtml = 'Like what you see? Visit the ' +\n",
              "          '<a target=\"_blank\" href=https://colab.research.google.com/notebooks/data_table.ipynb>data table notebook</a>'\n",
              "          + ' to learn more about interactive tables.';\n",
              "        element.innerHTML = '';\n",
              "        dataTable['output_type'] = 'display_data';\n",
              "        await google.colab.output.renderOutput(dataTable, element);\n",
              "        const docLink = document.createElement('div');\n",
              "        docLink.innerHTML = docLinkHtml;\n",
              "        element.appendChild(docLink);\n",
              "      }\n",
              "    </script>\n",
              "  </div>\n",
              "\n",
              "\n",
              "<div id=\"df-b60cafc0-ef13-4304-90e0-f477a2e0346b\">\n",
              "  <button class=\"colab-df-quickchart\" onclick=\"quickchart('df-b60cafc0-ef13-4304-90e0-f477a2e0346b')\"\n",
              "            title=\"Suggest charts\"\n",
              "            style=\"display:none;\">\n",
              "\n",
              "<svg xmlns=\"http://www.w3.org/2000/svg\" height=\"24px\"viewBox=\"0 0 24 24\"\n",
              "     width=\"24px\">\n",
              "    <g>\n",
              "        <path d=\"M19 3H5c-1.1 0-2 .9-2 2v14c0 1.1.9 2 2 2h14c1.1 0 2-.9 2-2V5c0-1.1-.9-2-2-2zM9 17H7v-7h2v7zm4 0h-2V7h2v10zm4 0h-2v-4h2v4z\"/>\n",
              "    </g>\n",
              "</svg>\n",
              "  </button>\n",
              "\n",
              "<style>\n",
              "  .colab-df-quickchart {\n",
              "      --bg-color: #E8F0FE;\n",
              "      --fill-color: #1967D2;\n",
              "      --hover-bg-color: #E2EBFA;\n",
              "      --hover-fill-color: #174EA6;\n",
              "      --disabled-fill-color: #AAA;\n",
              "      --disabled-bg-color: #DDD;\n",
              "  }\n",
              "\n",
              "  [theme=dark] .colab-df-quickchart {\n",
              "      --bg-color: #3B4455;\n",
              "      --fill-color: #D2E3FC;\n",
              "      --hover-bg-color: #434B5C;\n",
              "      --hover-fill-color: #FFFFFF;\n",
              "      --disabled-bg-color: #3B4455;\n",
              "      --disabled-fill-color: #666;\n",
              "  }\n",
              "\n",
              "  .colab-df-quickchart {\n",
              "    background-color: var(--bg-color);\n",
              "    border: none;\n",
              "    border-radius: 50%;\n",
              "    cursor: pointer;\n",
              "    display: none;\n",
              "    fill: var(--fill-color);\n",
              "    height: 32px;\n",
              "    padding: 0;\n",
              "    width: 32px;\n",
              "  }\n",
              "\n",
              "  .colab-df-quickchart:hover {\n",
              "    background-color: var(--hover-bg-color);\n",
              "    box-shadow: 0 1px 2px rgba(60, 64, 67, 0.3), 0 1px 3px 1px rgba(60, 64, 67, 0.15);\n",
              "    fill: var(--button-hover-fill-color);\n",
              "  }\n",
              "\n",
              "  .colab-df-quickchart-complete:disabled,\n",
              "  .colab-df-quickchart-complete:disabled:hover {\n",
              "    background-color: var(--disabled-bg-color);\n",
              "    fill: var(--disabled-fill-color);\n",
              "    box-shadow: none;\n",
              "  }\n",
              "\n",
              "  .colab-df-spinner {\n",
              "    border: 2px solid var(--fill-color);\n",
              "    border-color: transparent;\n",
              "    border-bottom-color: var(--fill-color);\n",
              "    animation:\n",
              "      spin 1s steps(1) infinite;\n",
              "  }\n",
              "\n",
              "  @keyframes spin {\n",
              "    0% {\n",
              "      border-color: transparent;\n",
              "      border-bottom-color: var(--fill-color);\n",
              "      border-left-color: var(--fill-color);\n",
              "    }\n",
              "    20% {\n",
              "      border-color: transparent;\n",
              "      border-left-color: var(--fill-color);\n",
              "      border-top-color: var(--fill-color);\n",
              "    }\n",
              "    30% {\n",
              "      border-color: transparent;\n",
              "      border-left-color: var(--fill-color);\n",
              "      border-top-color: var(--fill-color);\n",
              "      border-right-color: var(--fill-color);\n",
              "    }\n",
              "    40% {\n",
              "      border-color: transparent;\n",
              "      border-right-color: var(--fill-color);\n",
              "      border-top-color: var(--fill-color);\n",
              "    }\n",
              "    60% {\n",
              "      border-color: transparent;\n",
              "      border-right-color: var(--fill-color);\n",
              "    }\n",
              "    80% {\n",
              "      border-color: transparent;\n",
              "      border-right-color: var(--fill-color);\n",
              "      border-bottom-color: var(--fill-color);\n",
              "    }\n",
              "    90% {\n",
              "      border-color: transparent;\n",
              "      border-bottom-color: var(--fill-color);\n",
              "    }\n",
              "  }\n",
              "</style>\n",
              "\n",
              "  <script>\n",
              "    async function quickchart(key) {\n",
              "      const quickchartButtonEl =\n",
              "        document.querySelector('#' + key + ' button');\n",
              "      quickchartButtonEl.disabled = true;  // To prevent multiple clicks.\n",
              "      quickchartButtonEl.classList.add('colab-df-spinner');\n",
              "      try {\n",
              "        const charts = await google.colab.kernel.invokeFunction(\n",
              "            'suggestCharts', [key], {});\n",
              "      } catch (error) {\n",
              "        console.error('Error during call to suggestCharts:', error);\n",
              "      }\n",
              "      quickchartButtonEl.classList.remove('colab-df-spinner');\n",
              "      quickchartButtonEl.classList.add('colab-df-quickchart-complete');\n",
              "    }\n",
              "    (() => {\n",
              "      let quickchartButtonEl =\n",
              "        document.querySelector('#df-b60cafc0-ef13-4304-90e0-f477a2e0346b button');\n",
              "      quickchartButtonEl.style.display =\n",
              "        google.colab.kernel.accessAllowed ? 'block' : 'none';\n",
              "    })();\n",
              "  </script>\n",
              "</div>\n",
              "\n",
              "    </div>\n",
              "  </div>\n"
            ],
            "application/vnd.google.colaboratory.intrinsic+json": {
              "type": "dataframe",
              "variable_name": "X"
            }
          },
          "metadata": {},
          "execution_count": 5
        }
      ]
    },
    {
      "cell_type": "code",
      "source": [
        "y.head()"
      ],
      "metadata": {
        "id": "6iaoAtLE4-Gb",
        "outputId": "fe966e60-4678-441d-ae97-f01862315b48",
        "colab": {
          "base_uri": "https://localhost:8080/",
          "height": 206
        }
      },
      "execution_count": null,
      "outputs": [
        {
          "output_type": "execute_result",
          "data": {
            "text/plain": [
              "    dzgroup_ARF/MOSF w/Sepsis  dzgroup_CHF  dzgroup_COPD  dzgroup_Cirrhosis  \\\n",
              "0                           0            0             0                  0   \n",
              "6                           0            1             0                  0   \n",
              "17                          1            0             0                  0   \n",
              "22                          1            0             0                  0   \n",
              "25                          0            0             1                  0   \n",
              "\n",
              "    dzgroup_Colon Cancer  dzgroup_Coma  dzgroup_Lung Cancer  \\\n",
              "0                      0             0                    1   \n",
              "6                      0             0                    0   \n",
              "17                     0             0                    0   \n",
              "22                     0             0                    0   \n",
              "25                     0             0                    0   \n",
              "\n",
              "    dzgroup_MOSF w/Malig  \n",
              "0                      0  \n",
              "6                      0  \n",
              "17                     0  \n",
              "22                     0  \n",
              "25                     0  "
            ],
            "text/html": [
              "\n",
              "  <div id=\"df-dde53085-1cfe-48c6-b5f9-887e2936a4fc\" class=\"colab-df-container\">\n",
              "    <div>\n",
              "<style scoped>\n",
              "    .dataframe tbody tr th:only-of-type {\n",
              "        vertical-align: middle;\n",
              "    }\n",
              "\n",
              "    .dataframe tbody tr th {\n",
              "        vertical-align: top;\n",
              "    }\n",
              "\n",
              "    .dataframe thead th {\n",
              "        text-align: right;\n",
              "    }\n",
              "</style>\n",
              "<table border=\"1\" class=\"dataframe\">\n",
              "  <thead>\n",
              "    <tr style=\"text-align: right;\">\n",
              "      <th></th>\n",
              "      <th>dzgroup_ARF/MOSF w/Sepsis</th>\n",
              "      <th>dzgroup_CHF</th>\n",
              "      <th>dzgroup_COPD</th>\n",
              "      <th>dzgroup_Cirrhosis</th>\n",
              "      <th>dzgroup_Colon Cancer</th>\n",
              "      <th>dzgroup_Coma</th>\n",
              "      <th>dzgroup_Lung Cancer</th>\n",
              "      <th>dzgroup_MOSF w/Malig</th>\n",
              "    </tr>\n",
              "  </thead>\n",
              "  <tbody>\n",
              "    <tr>\n",
              "      <th>0</th>\n",
              "      <td>0</td>\n",
              "      <td>0</td>\n",
              "      <td>0</td>\n",
              "      <td>0</td>\n",
              "      <td>0</td>\n",
              "      <td>0</td>\n",
              "      <td>1</td>\n",
              "      <td>0</td>\n",
              "    </tr>\n",
              "    <tr>\n",
              "      <th>6</th>\n",
              "      <td>0</td>\n",
              "      <td>1</td>\n",
              "      <td>0</td>\n",
              "      <td>0</td>\n",
              "      <td>0</td>\n",
              "      <td>0</td>\n",
              "      <td>0</td>\n",
              "      <td>0</td>\n",
              "    </tr>\n",
              "    <tr>\n",
              "      <th>17</th>\n",
              "      <td>1</td>\n",
              "      <td>0</td>\n",
              "      <td>0</td>\n",
              "      <td>0</td>\n",
              "      <td>0</td>\n",
              "      <td>0</td>\n",
              "      <td>0</td>\n",
              "      <td>0</td>\n",
              "    </tr>\n",
              "    <tr>\n",
              "      <th>22</th>\n",
              "      <td>1</td>\n",
              "      <td>0</td>\n",
              "      <td>0</td>\n",
              "      <td>0</td>\n",
              "      <td>0</td>\n",
              "      <td>0</td>\n",
              "      <td>0</td>\n",
              "      <td>0</td>\n",
              "    </tr>\n",
              "    <tr>\n",
              "      <th>25</th>\n",
              "      <td>0</td>\n",
              "      <td>0</td>\n",
              "      <td>1</td>\n",
              "      <td>0</td>\n",
              "      <td>0</td>\n",
              "      <td>0</td>\n",
              "      <td>0</td>\n",
              "      <td>0</td>\n",
              "    </tr>\n",
              "  </tbody>\n",
              "</table>\n",
              "</div>\n",
              "    <div class=\"colab-df-buttons\">\n",
              "\n",
              "  <div class=\"colab-df-container\">\n",
              "    <button class=\"colab-df-convert\" onclick=\"convertToInteractive('df-dde53085-1cfe-48c6-b5f9-887e2936a4fc')\"\n",
              "            title=\"Convert this dataframe to an interactive table.\"\n",
              "            style=\"display:none;\">\n",
              "\n",
              "  <svg xmlns=\"http://www.w3.org/2000/svg\" height=\"24px\" viewBox=\"0 -960 960 960\">\n",
              "    <path d=\"M120-120v-720h720v720H120Zm60-500h600v-160H180v160Zm220 220h160v-160H400v160Zm0 220h160v-160H400v160ZM180-400h160v-160H180v160Zm440 0h160v-160H620v160ZM180-180h160v-160H180v160Zm440 0h160v-160H620v160Z\"/>\n",
              "  </svg>\n",
              "    </button>\n",
              "\n",
              "  <style>\n",
              "    .colab-df-container {\n",
              "      display:flex;\n",
              "      gap: 12px;\n",
              "    }\n",
              "\n",
              "    .colab-df-convert {\n",
              "      background-color: #E8F0FE;\n",
              "      border: none;\n",
              "      border-radius: 50%;\n",
              "      cursor: pointer;\n",
              "      display: none;\n",
              "      fill: #1967D2;\n",
              "      height: 32px;\n",
              "      padding: 0 0 0 0;\n",
              "      width: 32px;\n",
              "    }\n",
              "\n",
              "    .colab-df-convert:hover {\n",
              "      background-color: #E2EBFA;\n",
              "      box-shadow: 0px 1px 2px rgba(60, 64, 67, 0.3), 0px 1px 3px 1px rgba(60, 64, 67, 0.15);\n",
              "      fill: #174EA6;\n",
              "    }\n",
              "\n",
              "    .colab-df-buttons div {\n",
              "      margin-bottom: 4px;\n",
              "    }\n",
              "\n",
              "    [theme=dark] .colab-df-convert {\n",
              "      background-color: #3B4455;\n",
              "      fill: #D2E3FC;\n",
              "    }\n",
              "\n",
              "    [theme=dark] .colab-df-convert:hover {\n",
              "      background-color: #434B5C;\n",
              "      box-shadow: 0px 1px 3px 1px rgba(0, 0, 0, 0.15);\n",
              "      filter: drop-shadow(0px 1px 2px rgba(0, 0, 0, 0.3));\n",
              "      fill: #FFFFFF;\n",
              "    }\n",
              "  </style>\n",
              "\n",
              "    <script>\n",
              "      const buttonEl =\n",
              "        document.querySelector('#df-dde53085-1cfe-48c6-b5f9-887e2936a4fc button.colab-df-convert');\n",
              "      buttonEl.style.display =\n",
              "        google.colab.kernel.accessAllowed ? 'block' : 'none';\n",
              "\n",
              "      async function convertToInteractive(key) {\n",
              "        const element = document.querySelector('#df-dde53085-1cfe-48c6-b5f9-887e2936a4fc');\n",
              "        const dataTable =\n",
              "          await google.colab.kernel.invokeFunction('convertToInteractive',\n",
              "                                                    [key], {});\n",
              "        if (!dataTable) return;\n",
              "\n",
              "        const docLinkHtml = 'Like what you see? Visit the ' +\n",
              "          '<a target=\"_blank\" href=https://colab.research.google.com/notebooks/data_table.ipynb>data table notebook</a>'\n",
              "          + ' to learn more about interactive tables.';\n",
              "        element.innerHTML = '';\n",
              "        dataTable['output_type'] = 'display_data';\n",
              "        await google.colab.output.renderOutput(dataTable, element);\n",
              "        const docLink = document.createElement('div');\n",
              "        docLink.innerHTML = docLinkHtml;\n",
              "        element.appendChild(docLink);\n",
              "      }\n",
              "    </script>\n",
              "  </div>\n",
              "\n",
              "\n",
              "<div id=\"df-e213284a-8a07-42b6-a5ec-baa016d002ef\">\n",
              "  <button class=\"colab-df-quickchart\" onclick=\"quickchart('df-e213284a-8a07-42b6-a5ec-baa016d002ef')\"\n",
              "            title=\"Suggest charts\"\n",
              "            style=\"display:none;\">\n",
              "\n",
              "<svg xmlns=\"http://www.w3.org/2000/svg\" height=\"24px\"viewBox=\"0 0 24 24\"\n",
              "     width=\"24px\">\n",
              "    <g>\n",
              "        <path d=\"M19 3H5c-1.1 0-2 .9-2 2v14c0 1.1.9 2 2 2h14c1.1 0 2-.9 2-2V5c0-1.1-.9-2-2-2zM9 17H7v-7h2v7zm4 0h-2V7h2v10zm4 0h-2v-4h2v4z\"/>\n",
              "    </g>\n",
              "</svg>\n",
              "  </button>\n",
              "\n",
              "<style>\n",
              "  .colab-df-quickchart {\n",
              "      --bg-color: #E8F0FE;\n",
              "      --fill-color: #1967D2;\n",
              "      --hover-bg-color: #E2EBFA;\n",
              "      --hover-fill-color: #174EA6;\n",
              "      --disabled-fill-color: #AAA;\n",
              "      --disabled-bg-color: #DDD;\n",
              "  }\n",
              "\n",
              "  [theme=dark] .colab-df-quickchart {\n",
              "      --bg-color: #3B4455;\n",
              "      --fill-color: #D2E3FC;\n",
              "      --hover-bg-color: #434B5C;\n",
              "      --hover-fill-color: #FFFFFF;\n",
              "      --disabled-bg-color: #3B4455;\n",
              "      --disabled-fill-color: #666;\n",
              "  }\n",
              "\n",
              "  .colab-df-quickchart {\n",
              "    background-color: var(--bg-color);\n",
              "    border: none;\n",
              "    border-radius: 50%;\n",
              "    cursor: pointer;\n",
              "    display: none;\n",
              "    fill: var(--fill-color);\n",
              "    height: 32px;\n",
              "    padding: 0;\n",
              "    width: 32px;\n",
              "  }\n",
              "\n",
              "  .colab-df-quickchart:hover {\n",
              "    background-color: var(--hover-bg-color);\n",
              "    box-shadow: 0 1px 2px rgba(60, 64, 67, 0.3), 0 1px 3px 1px rgba(60, 64, 67, 0.15);\n",
              "    fill: var(--button-hover-fill-color);\n",
              "  }\n",
              "\n",
              "  .colab-df-quickchart-complete:disabled,\n",
              "  .colab-df-quickchart-complete:disabled:hover {\n",
              "    background-color: var(--disabled-bg-color);\n",
              "    fill: var(--disabled-fill-color);\n",
              "    box-shadow: none;\n",
              "  }\n",
              "\n",
              "  .colab-df-spinner {\n",
              "    border: 2px solid var(--fill-color);\n",
              "    border-color: transparent;\n",
              "    border-bottom-color: var(--fill-color);\n",
              "    animation:\n",
              "      spin 1s steps(1) infinite;\n",
              "  }\n",
              "\n",
              "  @keyframes spin {\n",
              "    0% {\n",
              "      border-color: transparent;\n",
              "      border-bottom-color: var(--fill-color);\n",
              "      border-left-color: var(--fill-color);\n",
              "    }\n",
              "    20% {\n",
              "      border-color: transparent;\n",
              "      border-left-color: var(--fill-color);\n",
              "      border-top-color: var(--fill-color);\n",
              "    }\n",
              "    30% {\n",
              "      border-color: transparent;\n",
              "      border-left-color: var(--fill-color);\n",
              "      border-top-color: var(--fill-color);\n",
              "      border-right-color: var(--fill-color);\n",
              "    }\n",
              "    40% {\n",
              "      border-color: transparent;\n",
              "      border-right-color: var(--fill-color);\n",
              "      border-top-color: var(--fill-color);\n",
              "    }\n",
              "    60% {\n",
              "      border-color: transparent;\n",
              "      border-right-color: var(--fill-color);\n",
              "    }\n",
              "    80% {\n",
              "      border-color: transparent;\n",
              "      border-right-color: var(--fill-color);\n",
              "      border-bottom-color: var(--fill-color);\n",
              "    }\n",
              "    90% {\n",
              "      border-color: transparent;\n",
              "      border-bottom-color: var(--fill-color);\n",
              "    }\n",
              "  }\n",
              "</style>\n",
              "\n",
              "  <script>\n",
              "    async function quickchart(key) {\n",
              "      const quickchartButtonEl =\n",
              "        document.querySelector('#' + key + ' button');\n",
              "      quickchartButtonEl.disabled = true;  // To prevent multiple clicks.\n",
              "      quickchartButtonEl.classList.add('colab-df-spinner');\n",
              "      try {\n",
              "        const charts = await google.colab.kernel.invokeFunction(\n",
              "            'suggestCharts', [key], {});\n",
              "      } catch (error) {\n",
              "        console.error('Error during call to suggestCharts:', error);\n",
              "      }\n",
              "      quickchartButtonEl.classList.remove('colab-df-spinner');\n",
              "      quickchartButtonEl.classList.add('colab-df-quickchart-complete');\n",
              "    }\n",
              "    (() => {\n",
              "      let quickchartButtonEl =\n",
              "        document.querySelector('#df-e213284a-8a07-42b6-a5ec-baa016d002ef button');\n",
              "      quickchartButtonEl.style.display =\n",
              "        google.colab.kernel.accessAllowed ? 'block' : 'none';\n",
              "    })();\n",
              "  </script>\n",
              "</div>\n",
              "\n",
              "    </div>\n",
              "  </div>\n"
            ],
            "application/vnd.google.colaboratory.intrinsic+json": {
              "type": "dataframe",
              "variable_name": "y",
              "summary": "{\n  \"name\": \"y\",\n  \"rows\": 3840,\n  \"fields\": [\n    {\n      \"column\": \"dzgroup_ARF/MOSF w/Sepsis\",\n      \"properties\": {\n        \"dtype\": \"uint8\",\n        \"num_unique_values\": 2,\n        \"samples\": [\n          1,\n          0\n        ],\n        \"semantic_type\": \"\",\n        \"description\": \"\"\n      }\n    },\n    {\n      \"column\": \"dzgroup_CHF\",\n      \"properties\": {\n        \"dtype\": \"uint8\",\n        \"num_unique_values\": 2,\n        \"samples\": [\n          1,\n          0\n        ],\n        \"semantic_type\": \"\",\n        \"description\": \"\"\n      }\n    },\n    {\n      \"column\": \"dzgroup_COPD\",\n      \"properties\": {\n        \"dtype\": \"uint8\",\n        \"num_unique_values\": 2,\n        \"samples\": [\n          1,\n          0\n        ],\n        \"semantic_type\": \"\",\n        \"description\": \"\"\n      }\n    },\n    {\n      \"column\": \"dzgroup_Cirrhosis\",\n      \"properties\": {\n        \"dtype\": \"uint8\",\n        \"num_unique_values\": 2,\n        \"samples\": [\n          1,\n          0\n        ],\n        \"semantic_type\": \"\",\n        \"description\": \"\"\n      }\n    },\n    {\n      \"column\": \"dzgroup_Colon Cancer\",\n      \"properties\": {\n        \"dtype\": \"uint8\",\n        \"num_unique_values\": 2,\n        \"samples\": [\n          1,\n          0\n        ],\n        \"semantic_type\": \"\",\n        \"description\": \"\"\n      }\n    },\n    {\n      \"column\": \"dzgroup_Coma\",\n      \"properties\": {\n        \"dtype\": \"uint8\",\n        \"num_unique_values\": 2,\n        \"samples\": [\n          1,\n          0\n        ],\n        \"semantic_type\": \"\",\n        \"description\": \"\"\n      }\n    },\n    {\n      \"column\": \"dzgroup_Lung Cancer\",\n      \"properties\": {\n        \"dtype\": \"uint8\",\n        \"num_unique_values\": 2,\n        \"samples\": [\n          0,\n          1\n        ],\n        \"semantic_type\": \"\",\n        \"description\": \"\"\n      }\n    },\n    {\n      \"column\": \"dzgroup_MOSF w/Malig\",\n      \"properties\": {\n        \"dtype\": \"uint8\",\n        \"num_unique_values\": 2,\n        \"samples\": [\n          1,\n          0\n        ],\n        \"semantic_type\": \"\",\n        \"description\": \"\"\n      }\n    }\n  ]\n}"
            }
          },
          "metadata": {},
          "execution_count": 40
        }
      ]
    },
    {
      "cell_type": "code",
      "source": [
        "X.shape"
      ],
      "metadata": {
        "id": "ZKWTVNIeB0SC",
        "colab": {
          "base_uri": "https://localhost:8080/"
        },
        "outputId": "04a4ddfb-c569-43c2-9c85-03239e6fda90"
      },
      "execution_count": null,
      "outputs": [
        {
          "output_type": "execute_result",
          "data": {
            "text/plain": [
              "(3840, 24)"
            ]
          },
          "metadata": {},
          "execution_count": 41
        }
      ]
    },
    {
      "cell_type": "markdown",
      "source": [
        "# Model 2\n",
        "## Building the Base Model"
      ],
      "metadata": {
        "id": "VWnla0cJsaGs"
      }
    },
    {
      "cell_type": "code",
      "source": [
        "from keras.optimizers import SGD\n",
        "from keras.models import Sequential\n",
        "from keras.layers import Dense\n",
        "from sklearn.model_selection import RepeatedKFold, cross_val_score"
      ],
      "metadata": {
        "id": "GsKJ8W61G222"
      },
      "execution_count": 6,
      "outputs": []
    },
    {
      "cell_type": "code",
      "source": [
        "!pip install keras-tuner -q"
      ],
      "metadata": {
        "id": "c7a_wSlR6WDf",
        "colab": {
          "base_uri": "https://localhost:8080/"
        },
        "outputId": "787fffff-4d6d-4ffa-a4e8-00c10f6b2791"
      },
      "execution_count": 7,
      "outputs": [
        {
          "output_type": "stream",
          "name": "stdout",
          "text": [
            "\u001b[?25l     \u001b[90m━━━━━━━━━━━━━━━━━━━━━━━━━━━━━━━━━━━━━━━━\u001b[0m \u001b[32m0.0/129.1 kB\u001b[0m \u001b[31m?\u001b[0m eta \u001b[36m-:--:--\u001b[0m\r\u001b[2K     \u001b[91m━━━━━━━━━\u001b[0m\u001b[91m╸\u001b[0m\u001b[90m━━━━━━━━━━━━━━━━━━━━━━━━━━━━━━\u001b[0m \u001b[32m30.7/129.1 kB\u001b[0m \u001b[31m1.5 MB/s\u001b[0m eta \u001b[36m0:00:01\u001b[0m\r\u001b[2K     \u001b[91m━━━━━━━━━━━━━━━━━━━━━━━━━━━━━━━━━━\u001b[0m\u001b[91m╸\u001b[0m\u001b[90m━━━━━\u001b[0m \u001b[32m112.6/129.1 kB\u001b[0m \u001b[31m1.7 MB/s\u001b[0m eta \u001b[36m0:00:01\u001b[0m\r\u001b[2K     \u001b[90m━━━━━━━━━━━━━━━━━━━━━━━━━━━━━━━━━━━━━━━━\u001b[0m \u001b[32m129.1/129.1 kB\u001b[0m \u001b[31m1.6 MB/s\u001b[0m eta \u001b[36m0:00:00\u001b[0m\n",
            "\u001b[?25h"
          ]
        }
      ]
    },
    {
      "cell_type": "code",
      "source": [
        "X_train, X_test, y_train, y_test = train_test_split(X, y, test_size=0.2, random_state = 0)"
      ],
      "metadata": {
        "id": "yc4rm3dZCcon"
      },
      "execution_count": 8,
      "outputs": []
    },
    {
      "cell_type": "code",
      "source": [
        "def buildmodel():\n",
        "    model = Sequential([\n",
        "        Dense(units = 72, activation = 'tanh', input_dim = 24),\n",
        "        Dense(units = 42, activation = 'tanh'),\n",
        "        Dense(units = 42, activation = 'tanh'),\n",
        "        Dense(units = 42, activation = 'tanh'),\n",
        "        Dense(units = 8, activation = 'softmax')\n",
        "    ])\n",
        "    model.compile(optimizer ='SGD', loss='categorical_crossentropy')\n",
        "    return(model)"
      ],
      "metadata": {
        "id": "0fib5AU9GpXB"
      },
      "execution_count": 9,
      "outputs": []
    },
    {
      "cell_type": "code",
      "source": [
        "classifier = buildmodel()\n",
        "history = classifier.fit(X_train.astype(float), y_train, batch_size = 20, validation_split=0.2, epochs = 100, verbose = 0)\n",
        "yhat_test = classifier.predict(X_test.astype(float))\n",
        "yhat_test"
      ],
      "metadata": {
        "colab": {
          "base_uri": "https://localhost:8080/"
        },
        "id": "KXTu01LmGuN3",
        "outputId": "2b23b287-5768-4722-af96-bbb9aa029486"
      },
      "execution_count": null,
      "outputs": [
        {
          "output_type": "stream",
          "name": "stdout",
          "text": [
            "24/24 [==============================] - 0s 2ms/step\n"
          ]
        },
        {
          "output_type": "execute_result",
          "data": {
            "text/plain": [
              "array([[7.3634005e-01, 1.1574807e-02, 2.0257154e-02, ..., 3.9042535e-03,\n",
              "        5.3973659e-03, 2.0201078e-01],\n",
              "       [4.3822479e-01, 2.7627224e-01, 1.7388992e-01, ..., 6.4895883e-02,\n",
              "        1.2144594e-02, 1.5554763e-02],\n",
              "       [6.1312102e-02, 5.8764219e-04, 7.0460499e-03, ..., 9.1751665e-01,\n",
              "        2.0379410e-03, 6.1857495e-03],\n",
              "       ...,\n",
              "       [6.7194235e-01, 1.2340849e-02, 2.5193356e-02, ..., 4.6557868e-03,\n",
              "        1.7865974e-02, 2.2747394e-01],\n",
              "       [2.4205868e-01, 2.4276879e-02, 1.3409366e-01, ..., 9.7177252e-03,\n",
              "        4.1972336e-01, 1.1321815e-01],\n",
              "       [6.7216372e-01, 7.0462674e-03, 8.5620936e-03, ..., 1.3142478e-02,\n",
              "        2.2606423e-02, 2.3151161e-01]], dtype=float32)"
            ]
          },
          "metadata": {},
          "execution_count": 46
        }
      ]
    },
    {
      "cell_type": "code",
      "source": [
        "y_label = y_test.to_numpy()\n",
        "actual = np.argmax(y_label, axis=1)\n",
        "pred = np.argmax(yhat_test, axis=1)\n",
        "print(classification_report(actual,pred))"
      ],
      "metadata": {
        "colab": {
          "base_uri": "https://localhost:8080/"
        },
        "id": "1Sn60IYHHBqC",
        "outputId": "c991c3bd-5193-4564-8cd4-8e0d06fe4e8d"
      },
      "execution_count": null,
      "outputs": [
        {
          "output_type": "stream",
          "name": "stdout",
          "text": [
            "              precision    recall  f1-score   support\n",
            "\n",
            "           0       0.57      0.88      0.70       344\n",
            "           1       0.45      0.31      0.37       103\n",
            "           2       0.50      0.35      0.41        84\n",
            "           3       0.57      0.10      0.17        41\n",
            "           4       0.50      0.06      0.11        16\n",
            "           5       0.71      0.49      0.58        65\n",
            "           6       0.38      0.39      0.38        46\n",
            "           7       0.88      0.10      0.18        69\n",
            "\n",
            "    accuracy                           0.56       768\n",
            "   macro avg       0.57      0.34      0.36       768\n",
            "weighted avg       0.57      0.56      0.51       768\n",
            "\n"
          ]
        }
      ]
    },
    {
      "cell_type": "code",
      "source": [
        "import matplotlib.pyplot as plt\n",
        "plt.plot(history.history['loss'])\n",
        "plt.plot(history.history['val_loss'])\n",
        "plt.title('Loss/Metric')\n",
        "plt.ylabel('Loss')\n",
        "plt.xlabel('Epoch')\n",
        "plt.legend(['Train', 'Validation'], loc='upper left')\n",
        "plt.show()"
      ],
      "metadata": {
        "colab": {
          "base_uri": "https://localhost:8080/",
          "height": 472
        },
        "id": "SA5wC3BEHceM",
        "outputId": "11d0acba-1eb7-49e8-b4b0-f8c763493cd8"
      },
      "execution_count": null,
      "outputs": [
        {
          "output_type": "display_data",
          "data": {
            "text/plain": [
              "<Figure size 640x480 with 1 Axes>"
            ],
            "image/png": "[encoded data removed]"
          },
          "metadata": {}
        }
      ]
    },
    {
      "cell_type": "markdown",
      "source": [
        "## K-Fold Cross-Validation"
      ],
      "metadata": {
        "id": "643YH9bHKtN6"
      }
    },
    {
      "cell_type": "code",
      "source": [
        "!pip install scikeras"
      ],
      "metadata": {
        "colab": {
          "base_uri": "https://localhost:8080/"
        },
        "id": "09Iu-49nLErU",
        "outputId": "76c1dd4a-f5c1-4617-d656-dbd8ad66b56f"
      },
      "execution_count": 13,
      "outputs": [
        {
          "output_type": "stream",
          "name": "stdout",
          "text": [
            "Collecting scikeras\n",
            "  Downloading scikeras-0.12.0-py3-none-any.whl (27 kB)\n",
            "Requirement already satisfied: packaging>=0.21 in /usr/local/lib/python3.10/dist-packages (from scikeras) (23.2)\n",
            "Requirement already satisfied: scikit-learn>=1.0.0 in /usr/local/lib/python3.10/dist-packages (from scikeras) (1.2.2)\n",
            "Requirement already satisfied: numpy>=1.17.3 in /usr/local/lib/python3.10/dist-packages (from scikit-learn>=1.0.0->scikeras) (1.25.2)\n",
            "Requirement already satisfied: scipy>=1.3.2 in /usr/local/lib/python3.10/dist-packages (from scikit-learn>=1.0.0->scikeras) (1.11.4)\n",
            "Requirement already satisfied: joblib>=1.1.1 in /usr/local/lib/python3.10/dist-packages (from scikit-learn>=1.0.0->scikeras) (1.3.2)\n",
            "Requirement already satisfied: threadpoolctl>=2.0.0 in /usr/local/lib/python3.10/dist-packages (from scikit-learn>=1.0.0->scikeras) (3.3.0)\n",
            "Installing collected packages: scikeras\n",
            "Successfully installed scikeras-0.12.0\n"
          ]
        }
      ]
    },
    {
      "cell_type": "code",
      "source": [
        "from scikeras.wrappers import KerasClassifier\n",
        "from sklearn.model_selection import RepeatedKFold, cross_val_score, cross_validate\n",
        "import keras\n",
        "import keras_tuner\n",
        "from keras import layers\n",
        "from keras.models import Sequential\n",
        "from keras.layers import Dense\n",
        "from keras.optimizers import SGD"
      ],
      "metadata": {
        "id": "_QeCVRDvLBIU"
      },
      "execution_count": 14,
      "outputs": []
    },
    {
      "cell_type": "code",
      "source": [
        "def buildmodel():\n",
        "    model = Sequential([\n",
        "      Dense(units = 72, activation = 'tanh', input_dim = 24),\n",
        "        Dense(units = 42, activation = 'tanh'),\n",
        "        Dense(units = 42, activation = 'tanh'),\n",
        "        Dense(units = 42, activation = 'tanh'),\n",
        "        Dense(units = 8, activation = 'softmax')\n",
        "    ])\n",
        "    model.compile(optimizer='SGD', loss='categorical_crossentropy', metrics=['mse','accuracy'])\n",
        "    return(model)\n",
        "\n",
        "#epochs are the number of iterative training steps we do on the entire dataset, and each iteration is a step. batch_size is the number of datapoints we select per batch. total obs = batch_size * batches\n",
        "estimator = KerasClassifier(model=buildmodel, epochs=50, batch_size=20, verbose=0) # before submitting please set verbose = 0, and rerun. If not grading will be no bueno!\n",
        "kfold = RepeatedKFold(n_splits = 10, n_repeats = 5)\n",
        "results = cross_val_score(estimator, X_train, y_train, cv=kfold, n_jobs = 1,scoring = 'accuracy')"
      ],
      "metadata": {
        "id": "yrZO9iFOLXnl"
      },
      "execution_count": 15,
      "outputs": []
    },
    {
      "cell_type": "code",
      "source": [
        "avg_acc = results.mean()\n",
        "avg_acc"
      ],
      "metadata": {
        "colab": {
          "base_uri": "https://localhost:8080/"
        },
        "id": "yYA2nTB5LoRB",
        "outputId": "725d0985-4c11-4537-86f7-9d8d58b8dff6"
      },
      "execution_count": 16,
      "outputs": [
        {
          "output_type": "execute_result",
          "data": {
            "text/plain": [
              "0.5262466686408055"
            ]
          },
          "metadata": {},
          "execution_count": 16
        }
      ]
    },
    {
      "cell_type": "markdown",
      "source": [
        "## Hyperparameter Tuning"
      ],
      "metadata": {
        "id": "kuxzxPnufvkn"
      }
    },
    {
      "cell_type": "code",
      "source": [
        "import tensorflow as tf\n",
        "early_stopping = tf.keras.callbacks.EarlyStopping(\n",
        "    monitor='val_loss',\n",
        "    min_delta=0,\n",
        "    patience=10,\n",
        "    verbose=0,\n",
        "    mode='auto',\n",
        "    baseline=None,\n",
        "    restore_best_weights=False,\n",
        "    start_from_epoch=0\n",
        ")"
      ],
      "metadata": {
        "id": "abkmLP0kgfrx"
      },
      "execution_count": null,
      "outputs": []
    },
    {
      "cell_type": "code",
      "source": [
        "import keras\n",
        "import keras_tuner\n",
        "from keras import layers\n",
        "#build the hyperparameter tuning model with tuning the units, activation function, and learning rates\n",
        "def build_model(hp):\n",
        "    model = keras.Sequential()\n",
        "    activation = hp.Choice(\"activation\", ['relu', 'sigmoid', 'tanh', 'softmax', 'linear', 'leaky_relu', 'mish'])\n",
        "    # input layer\n",
        "    model.add(\n",
        "        layers.Dense(units = hp.Int(\"units\", min_value = 18, max_value = 250, step = 20),\n",
        "              activation = activation,\n",
        "              input_dim = X.shape[1]\n",
        "        )\n",
        "    )\n",
        "    # hidden layers\n",
        "    for i in range(3):\n",
        "      model.add(\n",
        "          layers.Dense(\n",
        "              units = hp.Int(\"units\", min_value = 12, max_value = 250, step = 20),\n",
        "              activation = activation,\n",
        "          )\n",
        "      )\n",
        "    # output layer\n",
        "    model.add(\n",
        "          layers.Dense(\n",
        "              units = 8,\n",
        "              activation = 'softmax'\n",
        "          )\n",
        "      )\n",
        "    loss = hp.Choice(\"loss\", values = [\"categorical_crossentropy\", \"mse\", \"binary_crossentropy\"])\n",
        "    learning_rate = hp.Float(\"lr\", min_value = 0.001, max_value = 0.1, step = 0.01)\n",
        "    optimizer = hp.Choice(\"optimizer\", values = [\"sgd\", \"adam\", \"rmsprop\"])\n",
        "    if optimizer == \"sgd\":\n",
        "        optimizer = keras.optimizers.Adam(learning_rate=learning_rate)\n",
        "    elif optimizer == \"adam\":\n",
        "        optimizer = keras.optimizers.SGD(learning_rate=learning_rate)\n",
        "    elif optimizer == \"rmsprop\":\n",
        "        optimizer = keras.optimizers.RMSprop(learning_rate=learning_rate)\n",
        "\n",
        "    model.compile(\n",
        "        optimizer = optimizer,\n",
        "        loss = loss,\n",
        "        metrics = [\"accuracy\"],\n",
        "    )\n",
        "    return model\n"
      ],
      "metadata": {
        "id": "08T0D87mgfr0"
      },
      "execution_count": null,
      "outputs": []
    },
    {
      "cell_type": "code",
      "source": [
        "X_train, X_rem, y_train, y_rem = train_test_split(X, y, test_size = 0.2, random_state = 1)\n",
        "X_val, X_test, y_val, y_test = train_test_split(X_rem, y_rem, test_size = 0.3, random_state = 1)"
      ],
      "metadata": {
        "id": "ssg0xU9ygolp"
      },
      "execution_count": null,
      "outputs": []
    },
    {
      "cell_type": "code",
      "source": [
        "tuner = keras_tuner.RandomSearch(\n",
        "    hypermodel=build_model,\n",
        "    objective=\"val_accuracy\",\n",
        "    max_trials=50,\n",
        "    overwrite=True,\n",
        "    directory=\"my_dir\",\n",
        "    project_name=\"hypertune\",\n",
        ")\n",
        "tuner.search(X_train, y_train, epochs=50, validation_data = (X_val, y_val), callbacks = [early_stopping], verbose=0)"
      ],
      "metadata": {
        "id": "92aV2H-rgolr"
      },
      "execution_count": null,
      "outputs": []
    },
    {
      "cell_type": "code",
      "source": [
        "best_hps = tuner.get_best_hyperparameters(num_trials=1)[0]\n",
        "model = tuner.hypermodel.build(best_hps)\n",
        "\n",
        "history = model.fit(X_train.astype(float), y_train,epochs=100, verbose = 0, validation_data = (X_val, y_val))\n",
        "\n",
        "y_label = y_test.to_numpy()\n",
        "yhat_test = model.predict(X_test.astype(float))\n",
        "actual = np.argmax(y_label, axis=1)\n",
        "pred = np.argmax(yhat_test, axis=1)\n",
        "\n",
        "print(classification_report(actual,pred))\n",
        "\n",
        "plt.plot(history.history['loss'])\n",
        "plt.plot(history.history['val_loss'])\n",
        "plt.title('Loss/Metric')\n",
        "plt.ylabel('Loss')\n",
        "plt.xlabel('Epoch')\n",
        "plt.legend(['Train', 'Validation'], loc='upper left')\n",
        "plt.show()"
      ],
      "metadata": {
        "colab": {
          "base_uri": "https://localhost:8080/",
          "height": 766
        },
        "outputId": "9faca2ff-1fa6-4708-aebd-627694432ecb",
        "id": "dlbApi1Sgols"
      },
      "execution_count": null,
      "outputs": [
        {
          "output_type": "stream",
          "name": "stdout",
          "text": [
            "8/8 [==============================] - 0s 2ms/step\n",
            "              precision    recall  f1-score   support\n",
            "\n",
            "           0       0.58      0.80      0.67        93\n",
            "           1       0.57      0.40      0.47        40\n",
            "           2       0.42      0.47      0.44        17\n",
            "           3       0.20      0.12      0.15        16\n",
            "           4       0.25      0.11      0.15         9\n",
            "           5       0.79      0.52      0.63        21\n",
            "           6       0.20      0.21      0.21        14\n",
            "           7       0.14      0.10      0.11        21\n",
            "\n",
            "    accuracy                           0.51       231\n",
            "   macro avg       0.39      0.34      0.36       231\n",
            "weighted avg       0.48      0.51      0.48       231\n",
            "\n"
          ]
        },
        {
          "output_type": "display_data",
          "data": {
            "text/plain": [
              "<Figure size 640x480 with 1 Axes>"
            ],
            "image/png": "[encoded data removed]"
          },
          "metadata": {}
        }
      ]
    },
    {
      "cell_type": "markdown",
      "source": [
        "## Hyperparameter Tuning with Oversampling"
      ],
      "metadata": {
        "id": "kXKBCphuKx1x"
      }
    },
    {
      "cell_type": "code",
      "source": [
        "import tensorflow as tf\n",
        "early_stopping = tf.keras.callbacks.EarlyStopping(\n",
        "    monitor='val_loss',\n",
        "    min_delta=0,\n",
        "    patience=10,\n",
        "    verbose=0,\n",
        "    mode='auto',\n",
        "    baseline=None,\n",
        "    restore_best_weights=False,\n",
        "    start_from_epoch=0\n",
        ")"
      ],
      "metadata": {
        "id": "CzAOiWY5egwG"
      },
      "execution_count": null,
      "outputs": []
    },
    {
      "cell_type": "code",
      "source": [
        "import keras\n",
        "import keras_tuner\n",
        "from keras import layers\n",
        "#build the hyperparameter tuning model with tuning the units, activation function, and learning rates\n",
        "def build_model(hp):\n",
        "    model = keras.Sequential()\n",
        "    activation = hp.Choice(\"activation\", ['relu', 'sigmoid', 'tanh', 'softmax', 'linear', 'leaky_relu', 'mish'])\n",
        "    # input layer\n",
        "    model.add(\n",
        "        layers.Dense(units = hp.Int(\"units\", min_value = 18, max_value = 250, step = 20),\n",
        "              activation = activation,\n",
        "              input_dim = X.shape[1]\n",
        "        )\n",
        "    )\n",
        "    # hidden layers\n",
        "    for i in range(3):\n",
        "      model.add(\n",
        "          layers.Dense(\n",
        "              units = hp.Int(\"units\", min_value = 12, max_value = 250, step = 20),\n",
        "              activation = activation,\n",
        "          )\n",
        "      )\n",
        "    # output layer\n",
        "    model.add(\n",
        "          layers.Dense(\n",
        "              units = 8,\n",
        "              activation = 'softmax'\n",
        "          )\n",
        "      )\n",
        "    loss = hp.Choice(\"loss\", values = [\"categorical_crossentropy\", \"mse\", \"binary_crossentropy\"])\n",
        "    learning_rate = hp.Float(\"lr\", min_value = 0.001, max_value = 0.1, step = 0.01)\n",
        "    optimizer = hp.Choice(\"optimizer\", values = [\"sgd\", \"adam\", \"rmsprop\"])\n",
        "    if optimizer == \"sgd\":\n",
        "        optimizer = keras.optimizers.Adam(learning_rate=learning_rate)\n",
        "    elif optimizer == \"adam\":\n",
        "        optimizer = keras.optimizers.SGD(learning_rate=learning_rate)\n",
        "    elif optimizer == \"rmsprop\":\n",
        "        optimizer = keras.optimizers.RMSprop(learning_rate=learning_rate)\n",
        "\n",
        "    model.compile(\n",
        "        optimizer = optimizer,\n",
        "        loss = loss,\n",
        "        metrics = [\"accuracy\"],\n",
        "    )\n",
        "    return model\n"
      ],
      "metadata": {
        "id": "0tt1cf_bBxIh"
      },
      "execution_count": null,
      "outputs": []
    },
    {
      "cell_type": "code",
      "source": [
        "from sklearn.preprocessing import LabelEncoder\n",
        "myle=LabelEncoder()\n",
        "df = pd.read_csv('https://archive.ics.uci.edu/static/public/880/data.csv')\n",
        "\n",
        "df = df[['age','sex','death','dzgroup','scoma','race','sps','aps','diabetes','dementia','meanbp','wblc','hrt','resp','temp','pafi','alb','bili','crea','sod','ph']]\n",
        "# label encoding race\n",
        "df['race'] = myle.fit_transform(df['race'])\n",
        "# dropping nan values\n",
        "df = df.dropna(axis = 0, how = 'any')\n",
        "\n",
        "# encoding sex\n",
        "df['sex'].replace('female', 0, inplace=True)\n",
        "df['sex'].replace('male', 1, inplace=True)\n",
        "print(df['dzgroup'].value_counts())\n",
        "y = df['dzgroup']\n",
        "X = df.drop(columns = 'dzgroup')"
      ],
      "metadata": {
        "colab": {
          "base_uri": "https://localhost:8080/"
        },
        "id": "LD9jPmgr2SW1",
        "outputId": "670a24d5-55c0-447f-e380-926409993833"
      },
      "execution_count": null,
      "outputs": [
        {
          "output_type": "stream",
          "name": "stdout",
          "text": [
            "ARF/MOSF w/Sepsis    1725\n",
            "CHF                   473\n",
            "COPD                  447\n",
            "MOSF w/Malig          338\n",
            "Coma                  265\n",
            "Cirrhosis             248\n",
            "Lung Cancer           246\n",
            "Colon Cancer           98\n",
            "Name: dzgroup, dtype: int64\n"
          ]
        }
      ]
    },
    {
      "cell_type": "code",
      "source": [
        "from imblearn.over_sampling import RandomOverSampler\n",
        "ros = RandomOverSampler(random_state=42)\n",
        "X_res, y_res = ros.fit_resample(X, y)\n",
        "print(y_res.value_counts())\n",
        "ohe = OneHotEncoder()\n",
        "myohedzgroup = ohe.fit_transform(y_res.values.reshape(-1,1)).toarray()\n",
        "y_res_ohe = pd.DataFrame(myohedzgroup, columns=ohe.categories_[0])"
      ],
      "metadata": {
        "colab": {
          "base_uri": "https://localhost:8080/"
        },
        "id": "zSS2z9ZH3n4Q",
        "outputId": "189714df-269d-45a3-cf9a-f0cc025ed3e7"
      },
      "execution_count": null,
      "outputs": [
        {
          "output_type": "stream",
          "name": "stdout",
          "text": [
            "Lung Cancer          1725\n",
            "CHF                  1725\n",
            "ARF/MOSF w/Sepsis    1725\n",
            "COPD                 1725\n",
            "MOSF w/Malig         1725\n",
            "Cirrhosis            1725\n",
            "Colon Cancer         1725\n",
            "Coma                 1725\n",
            "Name: dzgroup, dtype: int64\n"
          ]
        }
      ]
    },
    {
      "cell_type": "code",
      "source": [
        "X_train, X_rem, y_train, y_rem = train_test_split(X_res, y_res_ohe, test_size = 0.2, random_state = 1)\n",
        "X_val, X_test, y_val, y_test = train_test_split(X_rem, y_rem, test_size = 0.3, random_state = 1)"
      ],
      "metadata": {
        "id": "JQLr62jl4TKs"
      },
      "execution_count": null,
      "outputs": []
    },
    {
      "cell_type": "code",
      "source": [
        "tuner = keras_tuner.RandomSearch(\n",
        "    hypermodel=build_model,\n",
        "    objective=\"val_accuracy\",\n",
        "    max_trials=50,\n",
        "    overwrite=True,\n",
        "    directory=\"my_dir\",\n",
        "    project_name=\"hypertune\",\n",
        ")\n",
        "tuner.search(X_train, y_train, epochs=50, validation_data = (X_val, y_val), callbacks = [early_stopping], verbose=0)"
      ],
      "metadata": {
        "colab": {
          "base_uri": "https://localhost:8080/"
        },
        "id": "jdGX1k-G4x2X",
        "outputId": "74e636cd-495f-486a-e3f5-b13385cb0310"
      },
      "execution_count": null,
      "outputs": [
        {
          "output_type": "stream",
          "name": "stderr",
          "text": [
            "/usr/local/lib/python3.10/dist-packages/keras_tuner/src/engine/metrics_tracking.py:111: RuntimeWarning: All-NaN axis encountered\n",
            "  np.nanmin(values) if self.direction == \"min\" else np.nanmax(values)\n",
            "/usr/local/lib/python3.10/dist-packages/keras_tuner/src/engine/metrics_tracking.py:111: RuntimeWarning: All-NaN axis encountered\n",
            "  np.nanmin(values) if self.direction == \"min\" else np.nanmax(values)\n",
            "/usr/local/lib/python3.10/dist-packages/keras_tuner/src/engine/metrics_tracking.py:111: RuntimeWarning: All-NaN axis encountered\n",
            "  np.nanmin(values) if self.direction == \"min\" else np.nanmax(values)\n"
          ]
        }
      ]
    },
    {
      "cell_type": "code",
      "source": [
        "best_hps = tuner.get_best_hyperparameters(num_trials=1)[0]\n",
        "model = tuner.hypermodel.build(best_hps)\n",
        "\n",
        "history = model.fit(X_train.astype(float), y_train,epochs=100, verbose = 0, validation_data = (X_val, y_val))\n",
        "\n",
        "y_label = y_test.to_numpy()\n",
        "yhat_test = model.predict(X_test.astype(float))\n",
        "actual = np.argmax(y_label, axis=1)\n",
        "pred = np.argmax(yhat_test, axis=1)\n",
        "\n",
        "print(classification_report(actual,pred))\n",
        "\n",
        "plt.plot(history.history['loss'])\n",
        "plt.plot(history.history['val_loss'])\n",
        "plt.title('Loss/Metric')\n",
        "plt.ylabel('Loss')\n",
        "plt.xlabel('Epoch')\n",
        "plt.legend(['Train', 'Validation'], loc='upper left')\n",
        "plt.show()"
      ],
      "metadata": {
        "id": "KhMqjBgz6xdO",
        "colab": {
          "base_uri": "https://localhost:8080/",
          "height": 766
        },
        "outputId": "9f1ee9e9-0a3f-4c7e-e9cc-961bf497bd0a"
      },
      "execution_count": null,
      "outputs": [
        {
          "output_type": "stream",
          "name": "stdout",
          "text": [
            "26/26 [==============================] - 0s 2ms/step\n",
            "              precision    recall  f1-score   support\n",
            "\n",
            "           0       0.60      0.45      0.51       101\n",
            "           1       0.69      0.57      0.62       115\n",
            "           2       0.68      0.66      0.67        96\n",
            "           3       0.69      0.92      0.79        95\n",
            "           4       0.96      0.97      0.97       112\n",
            "           5       0.90      0.94      0.92        99\n",
            "           6       0.75      0.93      0.83       114\n",
            "           7       0.78      0.68      0.73        96\n",
            "\n",
            "    accuracy                           0.76       828\n",
            "   macro avg       0.76      0.76      0.75       828\n",
            "weighted avg       0.76      0.76      0.76       828\n",
            "\n"
          ]
        },
        {
          "output_type": "display_data",
          "data": {
            "text/plain": [
              "<Figure size 640x480 with 1 Axes>"
            ],
            "image/png": "[encoded data removed]"
          },
          "metadata": {}
        }
      ]
    }
  ]
}
