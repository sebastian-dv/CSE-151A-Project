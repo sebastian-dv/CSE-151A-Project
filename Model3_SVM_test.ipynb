{
  "nbformat": 4,
  "nbformat_minor": 0,
  "metadata": {
    "colab": {
      "provenance": [],
      "authorship_tag": "ABX9TyMKJG3n1mfDvmYjJZdsLoRW",
      "include_colab_link": true
    },
    "kernelspec": {
      "name": "python3",
      "display_name": "Python 3"
    },
    "language_info": {
      "name": "python"
    }
  },
  "cells": [
    {
      "cell_type": "markdown",
      "metadata": {
        "id": "view-in-github",
        "colab_type": "text"
      },
      "source": [
        "<a href=\"https://colab.research.google.com/github/sebastian-dv/CSE-151A-Project/blob/main/Model3_SVM_test.ipynb\" target=\"_parent\"><img src=\"https://colab.research.google.com/assets/colab-badge.svg\" alt=\"Open In Colab\"/></a>"
      ]
    },
    {
      "cell_type": "markdown",
      "source": [
        "# CSE 151A Group Project\n",
        "Names\n",
        "Pranav Prabu\n",
        "Sebastian Diaz\n",
        "Jou-Chih Chang\n",
        "Juan Yin\n",
        "Irving Zhao\n",
        "Xianzhe Guo\n",
        "Tiankuo Li"
      ],
      "metadata": {
        "id": "soEf0JA-Q6IK"
      }
    },
    {
      "cell_type": "code",
      "source": [
        "import pandas as pd\n",
        "import numpy as np\n",
        "import matplotlib.pyplot as plt\n",
        "import seaborn as sns\n",
        "from sklearn import datasets\n",
        "from sklearn.model_selection import cross_val_score, train_test_split\n",
        "from sklearn.linear_model import LinearRegression\n",
        "from sklearn.metrics import mean_squared_error\n",
        "from sklearn.preprocessing import OneHotEncoder\n",
        "from sklearn.preprocessing import MinMaxScaler\n",
        "from sklearn.linear_model import LogisticRegression\n",
        "from sklearn.metrics import classification_report"
      ],
      "metadata": {
        "id": "5EXHrF2bQ37R"
      },
      "execution_count": 49,
      "outputs": []
    },
    {
      "cell_type": "code",
      "source": [
        "df = pd.read_csv('https://archive.ics.uci.edu/static/public/880/data.csv')\n",
        "df = df[['age','sex','death','dzgroup','scoma','race','sps','aps','diabetes','dementia','meanbp','wblc','hrt','resp','temp','pafi','alb','bili','crea','sod','ph']]"
      ],
      "metadata": {
        "id": "0QDirYuKQ_4y"
      },
      "execution_count": 50,
      "outputs": []
    },
    {
      "cell_type": "code",
      "execution_count": 51,
      "metadata": {
        "id": "4vrDbhM7Qhkb"
      },
      "outputs": [],
      "source": [
        "# one hot encoding race\n",
        "ohe = pd.get_dummies(df[['race']])\n",
        "df = df.drop(['race'], axis = 1)\n",
        "df = pd.concat([df, ohe], axis = 1)\n",
        "\n",
        "# dropping nan values\n",
        "df = df.dropna(axis = 0, how = 'any')\n",
        "\n",
        "# encoding sex\n",
        "df['sex'].replace('female', 0, inplace=True)\n",
        "df['sex'].replace('male', 1, inplace=True)\n",
        "\n",
        "# one hot encoding dzgroup\n",
        "ohe = pd.get_dummies(df[['dzgroup']])\n",
        "df = df.drop(['dzgroup'], axis = 1)\n",
        "\n",
        "X = df.copy()\n",
        "y = ohe.copy()\n",
        "df = pd.concat([df, ohe], axis = 1)"
      ]
    },
    {
      "cell_type": "markdown",
      "source": [
        "### MinMaxScaler"
      ],
      "metadata": {
        "id": "8OiI-RHBjnXO"
      }
    },
    {
      "cell_type": "code",
      "source": [
        "# scaling data\n",
        "# scaler = MinMaxScaler()\n",
        "# X = pd.DataFrame(scaler.fit_transform(X), columns = X.columns)\n",
        "# X_scaled = scaler.fit_transform(X)\n",
        "# X.head()\n"
      ],
      "metadata": {
        "id": "B23jivm2Rfzn"
      },
      "execution_count": 52,
      "outputs": []
    },
    {
      "cell_type": "markdown",
      "source": [
        "### StandardScaler"
      ],
      "metadata": {
        "id": "GqtLHNbljgsn"
      }
    },
    {
      "cell_type": "code",
      "source": [
        "\n",
        "non_num_X = X.iloc[:, 19:]\n",
        "num_X = X.drop(X.columns[19:], axis=1)\n",
        "num_X = num_X.drop(columns=['sex'])\n",
        "\n",
        "from sklearn.preprocessing import StandardScaler\n",
        "scaler = StandardScaler()\n",
        "StandardScaler()\n",
        "\n",
        "X_scaled = scaler.fit_transform(num_X)\n",
        "X_scaled = np.concatenate([X_scaled, non_num_X.values], axis=1)\n"
      ],
      "metadata": {
        "id": "FEIkhqkNSX_E"
      },
      "execution_count": 53,
      "outputs": []
    },
    {
      "cell_type": "code",
      "source": [
        "non_num_X"
      ],
      "metadata": {
        "colab": {
          "base_uri": "https://localhost:8080/",
          "height": 424
        },
        "id": "QxTJfhFMV2Nk",
        "outputId": "7565cfa1-5e67-415e-cd44-0ab07503d387"
      },
      "execution_count": 54,
      "outputs": [
        {
          "output_type": "execute_result",
          "data": {
            "text/plain": [
              "      race_asian  race_black  race_hispanic  race_other  race_white\n",
              "0              0           0              0           1           0\n",
              "6              0           0              0           0           1\n",
              "17             0           0              0           0           1\n",
              "22             0           0              0           0           1\n",
              "25             0           0              0           0           1\n",
              "...          ...         ...            ...         ...         ...\n",
              "9091           0           0              0           0           1\n",
              "9099           0           0              0           0           1\n",
              "9100           0           0              0           0           1\n",
              "9103           0           0              0           0           1\n",
              "9104           0           0              0           0           1\n",
              "\n",
              "[3840 rows x 5 columns]"
            ],
            "text/html": [
              "\n",
              "  <div id=\"df-2374b522-cbb5-4038-8db0-e0ce82aeffec\" class=\"colab-df-container\">\n",
              "    <div>\n",
              "<style scoped>\n",
              "    .dataframe tbody tr th:only-of-type {\n",
              "        vertical-align: middle;\n",
              "    }\n",
              "\n",
              "    .dataframe tbody tr th {\n",
              "        vertical-align: top;\n",
              "    }\n",
              "\n",
              "    .dataframe thead th {\n",
              "        text-align: right;\n",
              "    }\n",
              "</style>\n",
              "<table border=\"1\" class=\"dataframe\">\n",
              "  <thead>\n",
              "    <tr style=\"text-align: right;\">\n",
              "      <th></th>\n",
              "      <th>race_asian</th>\n",
              "      <th>race_black</th>\n",
              "      <th>race_hispanic</th>\n",
              "      <th>race_other</th>\n",
              "      <th>race_white</th>\n",
              "    </tr>\n",
              "  </thead>\n",
              "  <tbody>\n",
              "    <tr>\n",
              "      <th>0</th>\n",
              "      <td>0</td>\n",
              "      <td>0</td>\n",
              "      <td>0</td>\n",
              "      <td>1</td>\n",
              "      <td>0</td>\n",
              "    </tr>\n",
              "    <tr>\n",
              "      <th>6</th>\n",
              "      <td>0</td>\n",
              "      <td>0</td>\n",
              "      <td>0</td>\n",
              "      <td>0</td>\n",
              "      <td>1</td>\n",
              "    </tr>\n",
              "    <tr>\n",
              "      <th>17</th>\n",
              "      <td>0</td>\n",
              "      <td>0</td>\n",
              "      <td>0</td>\n",
              "      <td>0</td>\n",
              "      <td>1</td>\n",
              "    </tr>\n",
              "    <tr>\n",
              "      <th>22</th>\n",
              "      <td>0</td>\n",
              "      <td>0</td>\n",
              "      <td>0</td>\n",
              "      <td>0</td>\n",
              "      <td>1</td>\n",
              "    </tr>\n",
              "    <tr>\n",
              "      <th>25</th>\n",
              "      <td>0</td>\n",
              "      <td>0</td>\n",
              "      <td>0</td>\n",
              "      <td>0</td>\n",
              "      <td>1</td>\n",
              "    </tr>\n",
              "    <tr>\n",
              "      <th>...</th>\n",
              "      <td>...</td>\n",
              "      <td>...</td>\n",
              "      <td>...</td>\n",
              "      <td>...</td>\n",
              "      <td>...</td>\n",
              "    </tr>\n",
              "    <tr>\n",
              "      <th>9091</th>\n",
              "      <td>0</td>\n",
              "      <td>0</td>\n",
              "      <td>0</td>\n",
              "      <td>0</td>\n",
              "      <td>1</td>\n",
              "    </tr>\n",
              "    <tr>\n",
              "      <th>9099</th>\n",
              "      <td>0</td>\n",
              "      <td>0</td>\n",
              "      <td>0</td>\n",
              "      <td>0</td>\n",
              "      <td>1</td>\n",
              "    </tr>\n",
              "    <tr>\n",
              "      <th>9100</th>\n",
              "      <td>0</td>\n",
              "      <td>0</td>\n",
              "      <td>0</td>\n",
              "      <td>0</td>\n",
              "      <td>1</td>\n",
              "    </tr>\n",
              "    <tr>\n",
              "      <th>9103</th>\n",
              "      <td>0</td>\n",
              "      <td>0</td>\n",
              "      <td>0</td>\n",
              "      <td>0</td>\n",
              "      <td>1</td>\n",
              "    </tr>\n",
              "    <tr>\n",
              "      <th>9104</th>\n",
              "      <td>0</td>\n",
              "      <td>0</td>\n",
              "      <td>0</td>\n",
              "      <td>0</td>\n",
              "      <td>1</td>\n",
              "    </tr>\n",
              "  </tbody>\n",
              "</table>\n",
              "<p>3840 rows × 5 columns</p>\n",
              "</div>\n",
              "    <div class=\"colab-df-buttons\">\n",
              "\n",
              "  <div class=\"colab-df-container\">\n",
              "    <button class=\"colab-df-convert\" onclick=\"convertToInteractive('df-2374b522-cbb5-4038-8db0-e0ce82aeffec')\"\n",
              "            title=\"Convert this dataframe to an interactive table.\"\n",
              "            style=\"display:none;\">\n",
              "\n",
              "  <svg xmlns=\"http://www.w3.org/2000/svg\" height=\"24px\" viewBox=\"0 -960 960 960\">\n",
              "    <path d=\"M120-120v-720h720v720H120Zm60-500h600v-160H180v160Zm220 220h160v-160H400v160Zm0 220h160v-160H400v160ZM180-400h160v-160H180v160Zm440 0h160v-160H620v160ZM180-180h160v-160H180v160Zm440 0h160v-160H620v160Z\"/>\n",
              "  </svg>\n",
              "    </button>\n",
              "\n",
              "  <style>\n",
              "    .colab-df-container {\n",
              "      display:flex;\n",
              "      gap: 12px;\n",
              "    }\n",
              "\n",
              "    .colab-df-convert {\n",
              "      background-color: #E8F0FE;\n",
              "      border: none;\n",
              "      border-radius: 50%;\n",
              "      cursor: pointer;\n",
              "      display: none;\n",
              "      fill: #1967D2;\n",
              "      height: 32px;\n",
              "      padding: 0 0 0 0;\n",
              "      width: 32px;\n",
              "    }\n",
              "\n",
              "    .colab-df-convert:hover {\n",
              "      background-color: #E2EBFA;\n",
              "      box-shadow: 0px 1px 2px rgba(60, 64, 67, 0.3), 0px 1px 3px 1px rgba(60, 64, 67, 0.15);\n",
              "      fill: #174EA6;\n",
              "    }\n",
              "\n",
              "    .colab-df-buttons div {\n",
              "      margin-bottom: 4px;\n",
              "    }\n",
              "\n",
              "    [theme=dark] .colab-df-convert {\n",
              "      background-color: #3B4455;\n",
              "      fill: #D2E3FC;\n",
              "    }\n",
              "\n",
              "    [theme=dark] .colab-df-convert:hover {\n",
              "      background-color: #434B5C;\n",
              "      box-shadow: 0px 1px 3px 1px rgba(0, 0, 0, 0.15);\n",
              "      filter: drop-shadow(0px 1px 2px rgba(0, 0, 0, 0.3));\n",
              "      fill: #FFFFFF;\n",
              "    }\n",
              "  </style>\n",
              "\n",
              "    <script>\n",
              "      const buttonEl =\n",
              "        document.querySelector('#df-2374b522-cbb5-4038-8db0-e0ce82aeffec button.colab-df-convert');\n",
              "      buttonEl.style.display =\n",
              "        google.colab.kernel.accessAllowed ? 'block' : 'none';\n",
              "\n",
              "      async function convertToInteractive(key) {\n",
              "        const element = document.querySelector('#df-2374b522-cbb5-4038-8db0-e0ce82aeffec');\n",
              "        const dataTable =\n",
              "          await google.colab.kernel.invokeFunction('convertToInteractive',\n",
              "                                                    [key], {});\n",
              "        if (!dataTable) return;\n",
              "\n",
              "        const docLinkHtml = 'Like what you see? Visit the ' +\n",
              "          '<a target=\"_blank\" href=https://colab.research.google.com/notebooks/data_table.ipynb>data table notebook</a>'\n",
              "          + ' to learn more about interactive tables.';\n",
              "        element.innerHTML = '';\n",
              "        dataTable['output_type'] = 'display_data';\n",
              "        await google.colab.output.renderOutput(dataTable, element);\n",
              "        const docLink = document.createElement('div');\n",
              "        docLink.innerHTML = docLinkHtml;\n",
              "        element.appendChild(docLink);\n",
              "      }\n",
              "    </script>\n",
              "  </div>\n",
              "\n",
              "\n",
              "<div id=\"df-efac2520-ad14-4642-b55c-e3873a113503\">\n",
              "  <button class=\"colab-df-quickchart\" onclick=\"quickchart('df-efac2520-ad14-4642-b55c-e3873a113503')\"\n",
              "            title=\"Suggest charts\"\n",
              "            style=\"display:none;\">\n",
              "\n",
              "<svg xmlns=\"http://www.w3.org/2000/svg\" height=\"24px\"viewBox=\"0 0 24 24\"\n",
              "     width=\"24px\">\n",
              "    <g>\n",
              "        <path d=\"M19 3H5c-1.1 0-2 .9-2 2v14c0 1.1.9 2 2 2h14c1.1 0 2-.9 2-2V5c0-1.1-.9-2-2-2zM9 17H7v-7h2v7zm4 0h-2V7h2v10zm4 0h-2v-4h2v4z\"/>\n",
              "    </g>\n",
              "</svg>\n",
              "  </button>\n",
              "\n",
              "<style>\n",
              "  .colab-df-quickchart {\n",
              "      --bg-color: #E8F0FE;\n",
              "      --fill-color: #1967D2;\n",
              "      --hover-bg-color: #E2EBFA;\n",
              "      --hover-fill-color: #174EA6;\n",
              "      --disabled-fill-color: #AAA;\n",
              "      --disabled-bg-color: #DDD;\n",
              "  }\n",
              "\n",
              "  [theme=dark] .colab-df-quickchart {\n",
              "      --bg-color: #3B4455;\n",
              "      --fill-color: #D2E3FC;\n",
              "      --hover-bg-color: #434B5C;\n",
              "      --hover-fill-color: #FFFFFF;\n",
              "      --disabled-bg-color: #3B4455;\n",
              "      --disabled-fill-color: #666;\n",
              "  }\n",
              "\n",
              "  .colab-df-quickchart {\n",
              "    background-color: var(--bg-color);\n",
              "    border: none;\n",
              "    border-radius: 50%;\n",
              "    cursor: pointer;\n",
              "    display: none;\n",
              "    fill: var(--fill-color);\n",
              "    height: 32px;\n",
              "    padding: 0;\n",
              "    width: 32px;\n",
              "  }\n",
              "\n",
              "  .colab-df-quickchart:hover {\n",
              "    background-color: var(--hover-bg-color);\n",
              "    box-shadow: 0 1px 2px rgba(60, 64, 67, 0.3), 0 1px 3px 1px rgba(60, 64, 67, 0.15);\n",
              "    fill: var(--button-hover-fill-color);\n",
              "  }\n",
              "\n",
              "  .colab-df-quickchart-complete:disabled,\n",
              "  .colab-df-quickchart-complete:disabled:hover {\n",
              "    background-color: var(--disabled-bg-color);\n",
              "    fill: var(--disabled-fill-color);\n",
              "    box-shadow: none;\n",
              "  }\n",
              "\n",
              "  .colab-df-spinner {\n",
              "    border: 2px solid var(--fill-color);\n",
              "    border-color: transparent;\n",
              "    border-bottom-color: var(--fill-color);\n",
              "    animation:\n",
              "      spin 1s steps(1) infinite;\n",
              "  }\n",
              "\n",
              "  @keyframes spin {\n",
              "    0% {\n",
              "      border-color: transparent;\n",
              "      border-bottom-color: var(--fill-color);\n",
              "      border-left-color: var(--fill-color);\n",
              "    }\n",
              "    20% {\n",
              "      border-color: transparent;\n",
              "      border-left-color: var(--fill-color);\n",
              "      border-top-color: var(--fill-color);\n",
              "    }\n",
              "    30% {\n",
              "      border-color: transparent;\n",
              "      border-left-color: var(--fill-color);\n",
              "      border-top-color: var(--fill-color);\n",
              "      border-right-color: var(--fill-color);\n",
              "    }\n",
              "    40% {\n",
              "      border-color: transparent;\n",
              "      border-right-color: var(--fill-color);\n",
              "      border-top-color: var(--fill-color);\n",
              "    }\n",
              "    60% {\n",
              "      border-color: transparent;\n",
              "      border-right-color: var(--fill-color);\n",
              "    }\n",
              "    80% {\n",
              "      border-color: transparent;\n",
              "      border-right-color: var(--fill-color);\n",
              "      border-bottom-color: var(--fill-color);\n",
              "    }\n",
              "    90% {\n",
              "      border-color: transparent;\n",
              "      border-bottom-color: var(--fill-color);\n",
              "    }\n",
              "  }\n",
              "</style>\n",
              "\n",
              "  <script>\n",
              "    async function quickchart(key) {\n",
              "      const quickchartButtonEl =\n",
              "        document.querySelector('#' + key + ' button');\n",
              "      quickchartButtonEl.disabled = true;  // To prevent multiple clicks.\n",
              "      quickchartButtonEl.classList.add('colab-df-spinner');\n",
              "      try {\n",
              "        const charts = await google.colab.kernel.invokeFunction(\n",
              "            'suggestCharts', [key], {});\n",
              "      } catch (error) {\n",
              "        console.error('Error during call to suggestCharts:', error);\n",
              "      }\n",
              "      quickchartButtonEl.classList.remove('colab-df-spinner');\n",
              "      quickchartButtonEl.classList.add('colab-df-quickchart-complete');\n",
              "    }\n",
              "    (() => {\n",
              "      let quickchartButtonEl =\n",
              "        document.querySelector('#df-efac2520-ad14-4642-b55c-e3873a113503 button');\n",
              "      quickchartButtonEl.style.display =\n",
              "        google.colab.kernel.accessAllowed ? 'block' : 'none';\n",
              "    })();\n",
              "  </script>\n",
              "</div>\n",
              "    </div>\n",
              "  </div>\n"
            ],
            "application/vnd.google.colaboratory.intrinsic+json": {
              "type": "dataframe",
              "variable_name": "non_num_X",
              "summary": "{\n  \"name\": \"non_num_X\",\n  \"rows\": 3840,\n  \"fields\": [\n    {\n      \"column\": \"race_asian\",\n      \"properties\": {\n        \"dtype\": \"uint8\",\n        \"num_unique_values\": 2,\n        \"samples\": [\n          1,\n          0\n        ],\n        \"semantic_type\": \"\",\n        \"description\": \"\"\n      }\n    },\n    {\n      \"column\": \"race_black\",\n      \"properties\": {\n        \"dtype\": \"uint8\",\n        \"num_unique_values\": 2,\n        \"samples\": [\n          1,\n          0\n        ],\n        \"semantic_type\": \"\",\n        \"description\": \"\"\n      }\n    },\n    {\n      \"column\": \"race_hispanic\",\n      \"properties\": {\n        \"dtype\": \"uint8\",\n        \"num_unique_values\": 2,\n        \"samples\": [\n          1,\n          0\n        ],\n        \"semantic_type\": \"\",\n        \"description\": \"\"\n      }\n    },\n    {\n      \"column\": \"race_other\",\n      \"properties\": {\n        \"dtype\": \"uint8\",\n        \"num_unique_values\": 2,\n        \"samples\": [\n          0,\n          1\n        ],\n        \"semantic_type\": \"\",\n        \"description\": \"\"\n      }\n    },\n    {\n      \"column\": \"race_white\",\n      \"properties\": {\n        \"dtype\": \"uint8\",\n        \"num_unique_values\": 2,\n        \"samples\": [\n          1,\n          0\n        ],\n        \"semantic_type\": \"\",\n        \"description\": \"\"\n      }\n    }\n  ]\n}"
            }
          },
          "metadata": {},
          "execution_count": 54
        }
      ]
    },
    {
      "cell_type": "code",
      "source": [
        "X_scaled"
      ],
      "metadata": {
        "colab": {
          "base_uri": "https://localhost:8080/"
        },
        "id": "vJlEa3smaGM7",
        "outputId": "4c847783-ce8b-44c9-b2e8-f2f22ee97ba0"
      },
      "execution_count": 55,
      "outputs": [
        {
          "output_type": "execute_result",
          "data": {
            "text/plain": [
              "array([[ 0.05296858, -1.39942757, -0.5261451 , ...,  0.        ,\n",
              "         1.        ,  0.        ],\n",
              "       [ 0.02305731,  0.71457789, -0.5261451 , ...,  0.        ,\n",
              "         0.        ,  1.        ],\n",
              "       [ 0.10373612,  0.71457789,  0.47997099, ...,  0.        ,\n",
              "         0.        ,  1.        ],\n",
              "       ...,\n",
              "       [ 0.25422663, -1.39942757, -0.5261451 , ...,  0.        ,\n",
              "         0.        ,  1.        ],\n",
              "       [-0.93551828,  0.71457789, -0.5261451 , ...,  0.        ,\n",
              "         0.        ,  1.        ],\n",
              "       [ 1.21998078,  0.71457789, -0.5261451 , ...,  0.        ,\n",
              "         0.        ,  1.        ]])"
            ]
          },
          "metadata": {},
          "execution_count": 55
        }
      ]
    },
    {
      "cell_type": "code",
      "source": [
        "# split data\n",
        "X_train, X_test, y_train, y_test = train_test_split(X_scaled, y, test_size=0.2, random_state=21)"
      ],
      "metadata": {
        "id": "Y8b1xZs_Wty1"
      },
      "execution_count": 56,
      "outputs": []
    },
    {
      "cell_type": "code",
      "source": [
        "# 1. Build a linear kernel SVM\n",
        "import matplotlib.pyplot as plt\n",
        "from sklearn.svm import SVC\n",
        "from sklearn.metrics import classification_report\n",
        "from sklearn.metrics import accuracy_score\n",
        "\n",
        "# C is the SVM regularization parameter\n",
        "C = 0.1  # able to change\n",
        "# Create an Instance of SVM and Fit out the data.\n",
        "# Data is not scaled so as to be able to plot the support vectors\n",
        "svm = SVC(kernel ='linear')\n",
        "svm.fit(X_train,y_train.idxmax(axis=1).values)\n",
        "y_true = y_test.idxmax(axis=1).values\n",
        "y_pred = svm.predict(X_test)\n",
        "print(classification_report(y_true, y_pred))\n",
        "# Evaluate the accuracy\n",
        "accuracy = accuracy_score(y_true, y_pred)\n",
        "print(f\"Accuracy: {accuracy}\")"
      ],
      "metadata": {
        "colab": {
          "base_uri": "https://localhost:8080/"
        },
        "id": "mAg1Z6gxSCcT",
        "outputId": "4c0e0eb3-2509-43d6-e8fb-2053a83978f4"
      },
      "execution_count": 57,
      "outputs": [
        {
          "output_type": "stream",
          "name": "stdout",
          "text": [
            "                           precision    recall  f1-score   support\n",
            "\n",
            "dzgroup_ARF/MOSF w/Sepsis       0.55      0.83      0.66       333\n",
            "              dzgroup_CHF       0.38      0.38      0.38        96\n",
            "             dzgroup_COPD       0.37      0.30      0.33        83\n",
            "        dzgroup_Cirrhosis       0.00      0.00      0.00        49\n",
            "     dzgroup_Colon Cancer       0.50      0.06      0.10        18\n",
            "             dzgroup_Coma       0.73      0.53      0.62        77\n",
            "      dzgroup_Lung Cancer       0.26      0.29      0.27        42\n",
            "     dzgroup_MOSF w/Malig       0.00      0.00      0.00        70\n",
            "\n",
            "                 accuracy                           0.51       768\n",
            "                macro avg       0.35      0.30      0.29       768\n",
            "             weighted avg       0.43      0.51      0.45       768\n",
            "\n",
            "Accuracy: 0.5091145833333334\n"
          ]
        },
        {
          "output_type": "stream",
          "name": "stderr",
          "text": [
            "/usr/local/lib/python3.10/dist-packages/sklearn/metrics/_classification.py:1344: UndefinedMetricWarning: Precision and F-score are ill-defined and being set to 0.0 in labels with no predicted samples. Use `zero_division` parameter to control this behavior.\n",
            "  _warn_prf(average, modifier, msg_start, len(result))\n",
            "/usr/local/lib/python3.10/dist-packages/sklearn/metrics/_classification.py:1344: UndefinedMetricWarning: Precision and F-score are ill-defined and being set to 0.0 in labels with no predicted samples. Use `zero_division` parameter to control this behavior.\n",
            "  _warn_prf(average, modifier, msg_start, len(result))\n",
            "/usr/local/lib/python3.10/dist-packages/sklearn/metrics/_classification.py:1344: UndefinedMetricWarning: Precision and F-score are ill-defined and being set to 0.0 in labels with no predicted samples. Use `zero_division` parameter to control this behavior.\n",
            "  _warn_prf(average, modifier, msg_start, len(result))\n"
          ]
        }
      ]
    },
    {
      "cell_type": "markdown",
      "source": [
        "## Try to find optimiaze parameters\n"
      ],
      "metadata": {
        "id": "VfDp0n70i1w4"
      }
    },
    {
      "cell_type": "code",
      "source": [
        "# find the beter parameters\n",
        "# test for best model\n",
        "from sklearn.model_selection import GridSearchCV\n",
        "\n",
        "# Define the hyperparameter grid\n",
        "param_grid = {'C': [0.1, 1, 10], 'gamma': [0.01, 0.1, 1], 'kernel': ['linear', 'rbf', 'poly']}\n",
        "# Create an SVM classifier\n",
        "svm_classifier = SVC()\n",
        "# Create the GridSearchCV object\n",
        "grid_search = GridSearchCV(svm_classifier, param_grid, cv=3, scoring='accuracy')\n",
        "# Fit the model with different hyperparameter combinations\n",
        "grid_search.fit(X_train,y_train.idxmax(axis=1).values)\n",
        "# Get the best hyperparameters\n",
        "best_params = grid_search.best_params_\n",
        "# Get the best model\n",
        "best_model = grid_search.best_estimator_\n",
        "# Evaluate the best model on the test set\n",
        "accuracy = best_model.score(X_test, y_test.idxmax(axis=1).values)\n",
        "print(f\"Best Hyperparameters: {best_params}\")\n",
        "print(f\"Accuracy on Test Set: {accuracy}\")"
      ],
      "metadata": {
        "colab": {
          "base_uri": "https://localhost:8080/"
        },
        "id": "RXdJvNt0Yr9T",
        "outputId": "da88f8ca-ec05-433b-942e-2a75563f71d3"
      },
      "execution_count": 59,
      "outputs": [
        {
          "output_type": "stream",
          "name": "stdout",
          "text": [
            "Best Hyperparameters: {'C': 10, 'gamma': 0.01, 'kernel': 'rbf'}\n",
            "Accuracy on Test Set: 0.53515625\n"
          ]
        }
      ]
    },
    {
      "cell_type": "markdown",
      "source": [
        "## OverSamplying with scaled data\n",
        "\n",
        "### SMOTE\n"
      ],
      "metadata": {
        "id": "vN47UktLccph"
      }
    },
    {
      "cell_type": "code",
      "source": [
        "import numpy as np\n",
        "from imblearn.over_sampling import SMOTE\n",
        "from sklearn.datasets import make_classification\n",
        "from sklearn.model_selection import train_test_split\n",
        "\n",
        "# Apply SMOTE to oversample the minority class\n",
        "smote = SMOTE(random_state=21)\n",
        "X_train_resampled, y_train_resampled = smote.fit_resample(X_train, y_train.idxmax(axis=1).values)\n",
        "# After oversampling\n",
        "unique_classes_resampled, class_counts_resampled = np.unique(y_train_resampled, return_counts=True)\n",
        "print(f\"Class distribution after oversampling: {dict(zip(unique_classes_resampled, class_counts_resampled))}\")\n",
        "for class_label, count in zip(unique_classes_resampled, class_counts_resampled):\n",
        "    print(f\"Frequency of Class {class_label}: {count} instances\")"
      ],
      "metadata": {
        "colab": {
          "base_uri": "https://localhost:8080/"
        },
        "id": "4FtH4h7zbjqu",
        "outputId": "33f17024-3f19-400d-c802-9dc1f10e701c"
      },
      "execution_count": 67,
      "outputs": [
        {
          "output_type": "stream",
          "name": "stdout",
          "text": [
            "Class distribution after oversampling: {'dzgroup_ARF/MOSF w/Sepsis': 1392, 'dzgroup_CHF': 1392, 'dzgroup_COPD': 1392, 'dzgroup_Cirrhosis': 1392, 'dzgroup_Colon Cancer': 1392, 'dzgroup_Coma': 1392, 'dzgroup_Lung Cancer': 1392, 'dzgroup_MOSF w/Malig': 1392}\n",
            "Frequency of Class dzgroup_ARF/MOSF w/Sepsis: 1392 instances\n",
            "Frequency of Class dzgroup_CHF: 1392 instances\n",
            "Frequency of Class dzgroup_COPD: 1392 instances\n",
            "Frequency of Class dzgroup_Cirrhosis: 1392 instances\n",
            "Frequency of Class dzgroup_Colon Cancer: 1392 instances\n",
            "Frequency of Class dzgroup_Coma: 1392 instances\n",
            "Frequency of Class dzgroup_Lung Cancer: 1392 instances\n",
            "Frequency of Class dzgroup_MOSF w/Malig: 1392 instances\n"
          ]
        }
      ]
    },
    {
      "cell_type": "markdown",
      "source": [
        "### RandomOverSampler"
      ],
      "metadata": {
        "id": "Qd6Ljpj2jRj6"
      }
    },
    {
      "cell_type": "code",
      "source": [
        "import numpy as np\n",
        "from imblearn.over_sampling import RandomOverSampler\n",
        "from sklearn.datasets import make_classification\n",
        "from sklearn.model_selection import train_test_split\n",
        "\n",
        "rs = RandomOverSampler(random_state=11)\n",
        "X_train_resampled, y_train_resampled = rs.fit_resample(X_train, y_train.idxmax(axis=1).values)\n",
        "# After oversampling\n",
        "unique_classes_resampled, class_counts_resampled = np.unique(y_train_resampled, return_counts=True)\n",
        "print(f\"Class distribution after oversampling: {dict(zip(unique_classes_resampled, class_counts_resampled))}\")\n",
        "for class_label, count in zip(unique_classes_resampled, class_counts_resampled):\n",
        "    print(f\"Frequency of Class {class_label}: {count} instances\")\n"
      ],
      "metadata": {
        "colab": {
          "base_uri": "https://localhost:8080/"
        },
        "id": "WPqWFpdofMPT",
        "outputId": "1563247f-51d5-40e1-adc2-6962612b835c"
      },
      "execution_count": 77,
      "outputs": [
        {
          "output_type": "stream",
          "name": "stdout",
          "text": [
            "Class distribution after oversampling: {'dzgroup_ARF/MOSF w/Sepsis': 1392, 'dzgroup_CHF': 1392, 'dzgroup_COPD': 1392, 'dzgroup_Cirrhosis': 1392, 'dzgroup_Colon Cancer': 1392, 'dzgroup_Coma': 1392, 'dzgroup_Lung Cancer': 1392, 'dzgroup_MOSF w/Malig': 1392}\n",
            "Frequency of Class dzgroup_ARF/MOSF w/Sepsis: 1392 instances\n",
            "Frequency of Class dzgroup_CHF: 1392 instances\n",
            "Frequency of Class dzgroup_COPD: 1392 instances\n",
            "Frequency of Class dzgroup_Cirrhosis: 1392 instances\n",
            "Frequency of Class dzgroup_Colon Cancer: 1392 instances\n",
            "Frequency of Class dzgroup_Coma: 1392 instances\n",
            "Frequency of Class dzgroup_Lung Cancer: 1392 instances\n",
            "Frequency of Class dzgroup_MOSF w/Malig: 1392 instances\n"
          ]
        }
      ]
    },
    {
      "cell_type": "markdown",
      "source": [
        "### Evaluation"
      ],
      "metadata": {
        "id": "Lg-A6EAdjTPe"
      }
    },
    {
      "cell_type": "code",
      "source": [
        "svm_classifier = SVC(kernel='rbf', C = 10, gamma = 0.1)\n",
        "svm_classifier.fit(X_train_resampled,y_train_resampled)\n",
        "y_true = y_test.idxmax(axis=1).values\n",
        "y_pred = svm_classifier.predict(X_test)\n",
        "print(classification_report(y_true, y_pred))\n",
        "# Evaluate the accuracy\n",
        "accuracy = accuracy_score(y_true, y_pred)\n",
        "print(f\"Accuracy: {accuracy}\")"
      ],
      "metadata": {
        "colab": {
          "base_uri": "https://localhost:8080/"
        },
        "id": "iR-TFtH1ddvn",
        "outputId": "94132ebd-4c9c-4590-a52e-abcede663046"
      },
      "execution_count": 78,
      "outputs": [
        {
          "output_type": "stream",
          "name": "stdout",
          "text": [
            "                           precision    recall  f1-score   support\n",
            "\n",
            "dzgroup_ARF/MOSF w/Sepsis       0.61      0.75      0.67       333\n",
            "              dzgroup_CHF       0.48      0.43      0.45        96\n",
            "             dzgroup_COPD       0.32      0.29      0.30        83\n",
            "        dzgroup_Cirrhosis       0.50      0.37      0.42        49\n",
            "     dzgroup_Colon Cancer       0.06      0.06      0.06        18\n",
            "             dzgroup_Coma       0.56      0.40      0.47        77\n",
            "      dzgroup_Lung Cancer       0.20      0.17      0.18        42\n",
            "     dzgroup_MOSF w/Malig       0.36      0.27      0.31        70\n",
            "\n",
            "                 accuracy                           0.51       768\n",
            "                macro avg       0.39      0.34      0.36       768\n",
            "             weighted avg       0.49      0.51      0.49       768\n",
            "\n",
            "Accuracy: 0.5091145833333334\n"
          ]
        }
      ]
    }
  ]
}