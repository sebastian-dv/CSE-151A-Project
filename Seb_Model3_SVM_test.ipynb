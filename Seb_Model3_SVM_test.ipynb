{
  "nbformat": 4,
  "nbformat_minor": 0,
  "metadata": {
    "colab": {
      "provenance": [],
      "include_colab_link": true
    },
    "kernelspec": {
      "name": "python3",
      "display_name": "Python 3"
    },
    "language_info": {
      "name": "python"
    }
  },
  "cells": [
    {
      "cell_type": "markdown",
      "metadata": {
        "id": "view-in-github",
        "colab_type": "text"
      },
      "source": [
        "<a href=\"https://colab.research.google.com/github/sebastian-dv/CSE-151A-Project/blob/main/Seb_Model3_SVM_test.ipynb\" target=\"_parent\"><img src=\"https://colab.research.google.com/assets/colab-badge.svg\" alt=\"Open In Colab\"/></a>"
      ]
    },
    {
      "cell_type": "markdown",
      "source": [
        "# CSE 151A Group Project\n",
        "Names\n",
        "Pranav Prabu\n",
        "Sebastian Diaz\n",
        "Jou-Chih Chang\n",
        "Juan Yin\n",
        "Irving Zhao\n",
        "Xianzhe Guo\n",
        "Tiankuo Li"
      ],
      "metadata": {
        "id": "soEf0JA-Q6IK"
      }
    },
    {
      "cell_type": "code",
      "source": [
        "import pandas as pd\n",
        "import numpy as np\n",
        "import matplotlib.pyplot as plt\n",
        "import seaborn as sns\n",
        "from sklearn import datasets\n",
        "from sklearn.model_selection import cross_val_score, train_test_split\n",
        "from sklearn.linear_model import LinearRegression\n",
        "from sklearn.metrics import mean_squared_error\n",
        "from sklearn.preprocessing import OneHotEncoder\n",
        "from sklearn.preprocessing import MinMaxScaler\n",
        "from sklearn.linear_model import LogisticRegression\n",
        "from sklearn.metrics import classification_report"
      ],
      "metadata": {
        "id": "5EXHrF2bQ37R"
      },
      "execution_count": 1,
      "outputs": []
    },
    {
      "cell_type": "code",
      "source": [
        "df = pd.read_csv('https://archive.ics.uci.edu/static/public/880/data.csv')\n",
        "df = df[['age','sex','death','dzgroup','scoma','race','sps','aps','diabetes','dementia','meanbp','wblc','hrt','resp','temp','pafi','alb','bili','crea','sod','ph']]"
      ],
      "metadata": {
        "id": "0QDirYuKQ_4y"
      },
      "execution_count": 136,
      "outputs": []
    },
    {
      "cell_type": "code",
      "source": [
        "df.head()"
      ],
      "metadata": {
        "colab": {
          "base_uri": "https://localhost:8080/",
          "height": 229
        },
        "id": "xegMX7lbznKv",
        "outputId": "1ca4eaf5-6581-4c9e-f03c-f6dd8abfd904"
      },
      "execution_count": 34,
      "outputs": [
        {
          "output_type": "execute_result",
          "data": {
            "text/plain": [
              "        age     sex  death            dzgroup  scoma   race        sps   aps  \\\n",
              "0  62.84998    male      0        Lung Cancer    0.0  other  33.898438  20.0   \n",
              "1  60.33899  female      1          Cirrhosis   44.0  white  52.695312  74.0   \n",
              "2  52.74698  female      1          Cirrhosis    0.0  white  20.500000  45.0   \n",
              "3  42.38498  female      1        Lung Cancer    0.0  white  20.097656  19.0   \n",
              "4  79.88495  female      0  ARF/MOSF w/Sepsis   26.0  white  23.500000  30.0   \n",
              "\n",
              "   diabetes  dementia  ...       wblc    hrt  resp      temp       pafi  \\\n",
              "0         0         0  ...   6.000000   69.0  22.0  36.00000  388.00000   \n",
              "1         0         0  ...  17.097656  112.0  34.0  34.59375   98.00000   \n",
              "2         0         0  ...   8.500000   88.0  28.0  37.39844  231.65625   \n",
              "3         0         0  ...   9.099609   88.0  32.0  35.00000        NaN   \n",
              "4         0         0  ...  13.500000  112.0  20.0  37.89844  173.31250   \n",
              "\n",
              "        alb      bili      crea    sod        ph  \n",
              "0  1.799805  0.199982  1.199951  141.0  7.459961  \n",
              "1       NaN       NaN  5.500000  132.0  7.250000  \n",
              "2       NaN  2.199707  2.000000  134.0  7.459961  \n",
              "3       NaN       NaN  0.799927  139.0       NaN  \n",
              "4       NaN       NaN  0.799927  143.0  7.509766  \n",
              "\n",
              "[5 rows x 21 columns]"
            ],
            "text/html": [
              "\n",
              "  <div id=\"df-7ed8d36e-89e5-41e2-93f8-db1f5d5e041f\" class=\"colab-df-container\">\n",
              "    <div>\n",
              "<style scoped>\n",
              "    .dataframe tbody tr th:only-of-type {\n",
              "        vertical-align: middle;\n",
              "    }\n",
              "\n",
              "    .dataframe tbody tr th {\n",
              "        vertical-align: top;\n",
              "    }\n",
              "\n",
              "    .dataframe thead th {\n",
              "        text-align: right;\n",
              "    }\n",
              "</style>\n",
              "<table border=\"1\" class=\"dataframe\">\n",
              "  <thead>\n",
              "    <tr style=\"text-align: right;\">\n",
              "      <th></th>\n",
              "      <th>age</th>\n",
              "      <th>sex</th>\n",
              "      <th>death</th>\n",
              "      <th>dzgroup</th>\n",
              "      <th>scoma</th>\n",
              "      <th>race</th>\n",
              "      <th>sps</th>\n",
              "      <th>aps</th>\n",
              "      <th>diabetes</th>\n",
              "      <th>dementia</th>\n",
              "      <th>...</th>\n",
              "      <th>wblc</th>\n",
              "      <th>hrt</th>\n",
              "      <th>resp</th>\n",
              "      <th>temp</th>\n",
              "      <th>pafi</th>\n",
              "      <th>alb</th>\n",
              "      <th>bili</th>\n",
              "      <th>crea</th>\n",
              "      <th>sod</th>\n",
              "      <th>ph</th>\n",
              "    </tr>\n",
              "  </thead>\n",
              "  <tbody>\n",
              "    <tr>\n",
              "      <th>0</th>\n",
              "      <td>62.84998</td>\n",
              "      <td>male</td>\n",
              "      <td>0</td>\n",
              "      <td>Lung Cancer</td>\n",
              "      <td>0.0</td>\n",
              "      <td>other</td>\n",
              "      <td>33.898438</td>\n",
              "      <td>20.0</td>\n",
              "      <td>0</td>\n",
              "      <td>0</td>\n",
              "      <td>...</td>\n",
              "      <td>6.000000</td>\n",
              "      <td>69.0</td>\n",
              "      <td>22.0</td>\n",
              "      <td>36.00000</td>\n",
              "      <td>388.00000</td>\n",
              "      <td>1.799805</td>\n",
              "      <td>0.199982</td>\n",
              "      <td>1.199951</td>\n",
              "      <td>141.0</td>\n",
              "      <td>7.459961</td>\n",
              "    </tr>\n",
              "    <tr>\n",
              "      <th>1</th>\n",
              "      <td>60.33899</td>\n",
              "      <td>female</td>\n",
              "      <td>1</td>\n",
              "      <td>Cirrhosis</td>\n",
              "      <td>44.0</td>\n",
              "      <td>white</td>\n",
              "      <td>52.695312</td>\n",
              "      <td>74.0</td>\n",
              "      <td>0</td>\n",
              "      <td>0</td>\n",
              "      <td>...</td>\n",
              "      <td>17.097656</td>\n",
              "      <td>112.0</td>\n",
              "      <td>34.0</td>\n",
              "      <td>34.59375</td>\n",
              "      <td>98.00000</td>\n",
              "      <td>NaN</td>\n",
              "      <td>NaN</td>\n",
              "      <td>5.500000</td>\n",
              "      <td>132.0</td>\n",
              "      <td>7.250000</td>\n",
              "    </tr>\n",
              "    <tr>\n",
              "      <th>2</th>\n",
              "      <td>52.74698</td>\n",
              "      <td>female</td>\n",
              "      <td>1</td>\n",
              "      <td>Cirrhosis</td>\n",
              "      <td>0.0</td>\n",
              "      <td>white</td>\n",
              "      <td>20.500000</td>\n",
              "      <td>45.0</td>\n",
              "      <td>0</td>\n",
              "      <td>0</td>\n",
              "      <td>...</td>\n",
              "      <td>8.500000</td>\n",
              "      <td>88.0</td>\n",
              "      <td>28.0</td>\n",
              "      <td>37.39844</td>\n",
              "      <td>231.65625</td>\n",
              "      <td>NaN</td>\n",
              "      <td>2.199707</td>\n",
              "      <td>2.000000</td>\n",
              "      <td>134.0</td>\n",
              "      <td>7.459961</td>\n",
              "    </tr>\n",
              "    <tr>\n",
              "      <th>3</th>\n",
              "      <td>42.38498</td>\n",
              "      <td>female</td>\n",
              "      <td>1</td>\n",
              "      <td>Lung Cancer</td>\n",
              "      <td>0.0</td>\n",
              "      <td>white</td>\n",
              "      <td>20.097656</td>\n",
              "      <td>19.0</td>\n",
              "      <td>0</td>\n",
              "      <td>0</td>\n",
              "      <td>...</td>\n",
              "      <td>9.099609</td>\n",
              "      <td>88.0</td>\n",
              "      <td>32.0</td>\n",
              "      <td>35.00000</td>\n",
              "      <td>NaN</td>\n",
              "      <td>NaN</td>\n",
              "      <td>NaN</td>\n",
              "      <td>0.799927</td>\n",
              "      <td>139.0</td>\n",
              "      <td>NaN</td>\n",
              "    </tr>\n",
              "    <tr>\n",
              "      <th>4</th>\n",
              "      <td>79.88495</td>\n",
              "      <td>female</td>\n",
              "      <td>0</td>\n",
              "      <td>ARF/MOSF w/Sepsis</td>\n",
              "      <td>26.0</td>\n",
              "      <td>white</td>\n",
              "      <td>23.500000</td>\n",
              "      <td>30.0</td>\n",
              "      <td>0</td>\n",
              "      <td>0</td>\n",
              "      <td>...</td>\n",
              "      <td>13.500000</td>\n",
              "      <td>112.0</td>\n",
              "      <td>20.0</td>\n",
              "      <td>37.89844</td>\n",
              "      <td>173.31250</td>\n",
              "      <td>NaN</td>\n",
              "      <td>NaN</td>\n",
              "      <td>0.799927</td>\n",
              "      <td>143.0</td>\n",
              "      <td>7.509766</td>\n",
              "    </tr>\n",
              "  </tbody>\n",
              "</table>\n",
              "<p>5 rows × 21 columns</p>\n",
              "</div>\n",
              "    <div class=\"colab-df-buttons\">\n",
              "\n",
              "  <div class=\"colab-df-container\">\n",
              "    <button class=\"colab-df-convert\" onclick=\"convertToInteractive('df-7ed8d36e-89e5-41e2-93f8-db1f5d5e041f')\"\n",
              "            title=\"Convert this dataframe to an interactive table.\"\n",
              "            style=\"display:none;\">\n",
              "\n",
              "  <svg xmlns=\"http://www.w3.org/2000/svg\" height=\"24px\" viewBox=\"0 -960 960 960\">\n",
              "    <path d=\"M120-120v-720h720v720H120Zm60-500h600v-160H180v160Zm220 220h160v-160H400v160Zm0 220h160v-160H400v160ZM180-400h160v-160H180v160Zm440 0h160v-160H620v160ZM180-180h160v-160H180v160Zm440 0h160v-160H620v160Z\"/>\n",
              "  </svg>\n",
              "    </button>\n",
              "\n",
              "  <style>\n",
              "    .colab-df-container {\n",
              "      display:flex;\n",
              "      gap: 12px;\n",
              "    }\n",
              "\n",
              "    .colab-df-convert {\n",
              "      background-color: #E8F0FE;\n",
              "      border: none;\n",
              "      border-radius: 50%;\n",
              "      cursor: pointer;\n",
              "      display: none;\n",
              "      fill: #1967D2;\n",
              "      height: 32px;\n",
              "      padding: 0 0 0 0;\n",
              "      width: 32px;\n",
              "    }\n",
              "\n",
              "    .colab-df-convert:hover {\n",
              "      background-color: #E2EBFA;\n",
              "      box-shadow: 0px 1px 2px rgba(60, 64, 67, 0.3), 0px 1px 3px 1px rgba(60, 64, 67, 0.15);\n",
              "      fill: #174EA6;\n",
              "    }\n",
              "\n",
              "    .colab-df-buttons div {\n",
              "      margin-bottom: 4px;\n",
              "    }\n",
              "\n",
              "    [theme=dark] .colab-df-convert {\n",
              "      background-color: #3B4455;\n",
              "      fill: #D2E3FC;\n",
              "    }\n",
              "\n",
              "    [theme=dark] .colab-df-convert:hover {\n",
              "      background-color: #434B5C;\n",
              "      box-shadow: 0px 1px 3px 1px rgba(0, 0, 0, 0.15);\n",
              "      filter: drop-shadow(0px 1px 2px rgba(0, 0, 0, 0.3));\n",
              "      fill: #FFFFFF;\n",
              "    }\n",
              "  </style>\n",
              "\n",
              "    <script>\n",
              "      const buttonEl =\n",
              "        document.querySelector('#df-7ed8d36e-89e5-41e2-93f8-db1f5d5e041f button.colab-df-convert');\n",
              "      buttonEl.style.display =\n",
              "        google.colab.kernel.accessAllowed ? 'block' : 'none';\n",
              "\n",
              "      async function convertToInteractive(key) {\n",
              "        const element = document.querySelector('#df-7ed8d36e-89e5-41e2-93f8-db1f5d5e041f');\n",
              "        const dataTable =\n",
              "          await google.colab.kernel.invokeFunction('convertToInteractive',\n",
              "                                                    [key], {});\n",
              "        if (!dataTable) return;\n",
              "\n",
              "        const docLinkHtml = 'Like what you see? Visit the ' +\n",
              "          '<a target=\"_blank\" href=https://colab.research.google.com/notebooks/data_table.ipynb>data table notebook</a>'\n",
              "          + ' to learn more about interactive tables.';\n",
              "        element.innerHTML = '';\n",
              "        dataTable['output_type'] = 'display_data';\n",
              "        await google.colab.output.renderOutput(dataTable, element);\n",
              "        const docLink = document.createElement('div');\n",
              "        docLink.innerHTML = docLinkHtml;\n",
              "        element.appendChild(docLink);\n",
              "      }\n",
              "    </script>\n",
              "  </div>\n",
              "\n",
              "\n",
              "<div id=\"df-b7f0a097-bee4-4b5e-b0ce-8fad598d92b7\">\n",
              "  <button class=\"colab-df-quickchart\" onclick=\"quickchart('df-b7f0a097-bee4-4b5e-b0ce-8fad598d92b7')\"\n",
              "            title=\"Suggest charts\"\n",
              "            style=\"display:none;\">\n",
              "\n",
              "<svg xmlns=\"http://www.w3.org/2000/svg\" height=\"24px\"viewBox=\"0 0 24 24\"\n",
              "     width=\"24px\">\n",
              "    <g>\n",
              "        <path d=\"M19 3H5c-1.1 0-2 .9-2 2v14c0 1.1.9 2 2 2h14c1.1 0 2-.9 2-2V5c0-1.1-.9-2-2-2zM9 17H7v-7h2v7zm4 0h-2V7h2v10zm4 0h-2v-4h2v4z\"/>\n",
              "    </g>\n",
              "</svg>\n",
              "  </button>\n",
              "\n",
              "<style>\n",
              "  .colab-df-quickchart {\n",
              "      --bg-color: #E8F0FE;\n",
              "      --fill-color: #1967D2;\n",
              "      --hover-bg-color: #E2EBFA;\n",
              "      --hover-fill-color: #174EA6;\n",
              "      --disabled-fill-color: #AAA;\n",
              "      --disabled-bg-color: #DDD;\n",
              "  }\n",
              "\n",
              "  [theme=dark] .colab-df-quickchart {\n",
              "      --bg-color: #3B4455;\n",
              "      --fill-color: #D2E3FC;\n",
              "      --hover-bg-color: #434B5C;\n",
              "      --hover-fill-color: #FFFFFF;\n",
              "      --disabled-bg-color: #3B4455;\n",
              "      --disabled-fill-color: #666;\n",
              "  }\n",
              "\n",
              "  .colab-df-quickchart {\n",
              "    background-color: var(--bg-color);\n",
              "    border: none;\n",
              "    border-radius: 50%;\n",
              "    cursor: pointer;\n",
              "    display: none;\n",
              "    fill: var(--fill-color);\n",
              "    height: 32px;\n",
              "    padding: 0;\n",
              "    width: 32px;\n",
              "  }\n",
              "\n",
              "  .colab-df-quickchart:hover {\n",
              "    background-color: var(--hover-bg-color);\n",
              "    box-shadow: 0 1px 2px rgba(60, 64, 67, 0.3), 0 1px 3px 1px rgba(60, 64, 67, 0.15);\n",
              "    fill: var(--button-hover-fill-color);\n",
              "  }\n",
              "\n",
              "  .colab-df-quickchart-complete:disabled,\n",
              "  .colab-df-quickchart-complete:disabled:hover {\n",
              "    background-color: var(--disabled-bg-color);\n",
              "    fill: var(--disabled-fill-color);\n",
              "    box-shadow: none;\n",
              "  }\n",
              "\n",
              "  .colab-df-spinner {\n",
              "    border: 2px solid var(--fill-color);\n",
              "    border-color: transparent;\n",
              "    border-bottom-color: var(--fill-color);\n",
              "    animation:\n",
              "      spin 1s steps(1) infinite;\n",
              "  }\n",
              "\n",
              "  @keyframes spin {\n",
              "    0% {\n",
              "      border-color: transparent;\n",
              "      border-bottom-color: var(--fill-color);\n",
              "      border-left-color: var(--fill-color);\n",
              "    }\n",
              "    20% {\n",
              "      border-color: transparent;\n",
              "      border-left-color: var(--fill-color);\n",
              "      border-top-color: var(--fill-color);\n",
              "    }\n",
              "    30% {\n",
              "      border-color: transparent;\n",
              "      border-left-color: var(--fill-color);\n",
              "      border-top-color: var(--fill-color);\n",
              "      border-right-color: var(--fill-color);\n",
              "    }\n",
              "    40% {\n",
              "      border-color: transparent;\n",
              "      border-right-color: var(--fill-color);\n",
              "      border-top-color: var(--fill-color);\n",
              "    }\n",
              "    60% {\n",
              "      border-color: transparent;\n",
              "      border-right-color: var(--fill-color);\n",
              "    }\n",
              "    80% {\n",
              "      border-color: transparent;\n",
              "      border-right-color: var(--fill-color);\n",
              "      border-bottom-color: var(--fill-color);\n",
              "    }\n",
              "    90% {\n",
              "      border-color: transparent;\n",
              "      border-bottom-color: var(--fill-color);\n",
              "    }\n",
              "  }\n",
              "</style>\n",
              "\n",
              "  <script>\n",
              "    async function quickchart(key) {\n",
              "      const quickchartButtonEl =\n",
              "        document.querySelector('#' + key + ' button');\n",
              "      quickchartButtonEl.disabled = true;  // To prevent multiple clicks.\n",
              "      quickchartButtonEl.classList.add('colab-df-spinner');\n",
              "      try {\n",
              "        const charts = await google.colab.kernel.invokeFunction(\n",
              "            'suggestCharts', [key], {});\n",
              "      } catch (error) {\n",
              "        console.error('Error during call to suggestCharts:', error);\n",
              "      }\n",
              "      quickchartButtonEl.classList.remove('colab-df-spinner');\n",
              "      quickchartButtonEl.classList.add('colab-df-quickchart-complete');\n",
              "    }\n",
              "    (() => {\n",
              "      let quickchartButtonEl =\n",
              "        document.querySelector('#df-b7f0a097-bee4-4b5e-b0ce-8fad598d92b7 button');\n",
              "      quickchartButtonEl.style.display =\n",
              "        google.colab.kernel.accessAllowed ? 'block' : 'none';\n",
              "    })();\n",
              "  </script>\n",
              "</div>\n",
              "    </div>\n",
              "  </div>\n"
            ],
            "application/vnd.google.colaboratory.intrinsic+json": {
              "type": "dataframe",
              "variable_name": "df"
            }
          },
          "metadata": {},
          "execution_count": 34
        }
      ]
    },
    {
      "cell_type": "markdown",
      "source": [
        "## Preprocessing"
      ],
      "metadata": {
        "id": "PWOk2iPB4wLU"
      }
    },
    {
      "cell_type": "code",
      "execution_count": 137,
      "metadata": {
        "id": "4vrDbhM7Qhkb"
      },
      "outputs": [],
      "source": [
        "from sklearn.preprocessing import StandardScaler\n",
        "\n",
        "# droping nan values\n",
        "df = df.dropna(axis = 0, how = 'any')\n",
        "\n",
        "# scaling\n",
        "scaler = StandardScaler()\n",
        "categorical = ['sex', 'dzgroup', 'race', 'death', 'diabetes', 'dementia']\n",
        "df_cat = df[categorical]\n",
        "df_num = df.drop(categorical, axis = 1)\n",
        "df_num = pd.DataFrame(scaler.fit_transform(df_num), columns = df_num.columns)\n",
        "\n",
        "df_num.reset_index(drop = True, inplace = True)\n",
        "df_cat.reset_index(drop = True, inplace = True)\n",
        "\n",
        "df = pd.concat([df_num, df_cat], axis = 1)\n",
        "target = df['dzgroup']\n",
        "\n",
        "# one hot encoding race\n",
        "ohe = pd.get_dummies(df[['race']])\n",
        "df = df.drop(['race'], axis = 1)\n",
        "df = pd.concat([df, ohe], axis = 1)\n",
        "\n",
        "# encoding sex\n",
        "df['sex'].replace('female', 0, inplace=True)\n",
        "df['sex'].replace('male', 1, inplace=True)\n",
        "\n",
        "# copying pre-ohe dzgroup\n",
        "df_pre_ohe = df.copy()\n",
        "\n",
        "# one hot encoding dzgroup\n",
        "ohe = pd.get_dummies(df[['dzgroup']])\n",
        "df = df.drop(['dzgroup'], axis = 1)\n",
        "\n",
        "X = df.copy()\n",
        "y = ohe.copy()\n",
        "df = pd.concat([df, ohe], axis = 1)"
      ]
    },
    {
      "cell_type": "code",
      "source": [
        "# split data\n",
        "X_train, X_test, y_train, y_test = train_test_split(X, y, test_size=0.2, random_state=21)"
      ],
      "metadata": {
        "id": "Y8b1xZs_Wty1"
      },
      "execution_count": 101,
      "outputs": []
    },
    {
      "cell_type": "code",
      "source": [
        "# 1. Build a linear kernel SVM\n",
        "import matplotlib.pyplot as plt\n",
        "from sklearn.svm import SVC\n",
        "from sklearn.metrics import classification_report\n",
        "from sklearn.metrics import accuracy_score\n",
        "\n",
        "# C is the SVM regularization parameter\n",
        "C = 0.1  # able to change\n",
        "\n",
        "# Create an Instance of SVM and Fit out the data.\n",
        "# Data is not scaled so as to be able to plot the support vectors\n",
        "svm = SVC(kernel ='linear')\n",
        "svm.fit(X_train,y_train.idxmax(axis=1).values)\n",
        "y_true = y_test.idxmax(axis=1).values\n",
        "y_pred = svm.predict(X_test)\n",
        "print(classification_report(y_true, y_pred))\n",
        "# Evaluate the accuracy\n",
        "accuracy = accuracy_score(y_true, y_pred)\n",
        "print(f\"Accuracy: {accuracy}\")"
      ],
      "metadata": {
        "colab": {
          "base_uri": "https://localhost:8080/"
        },
        "id": "mAg1Z6gxSCcT",
        "outputId": "78e9c0a3-efc1-4204-f711-d5a78a99c0bc"
      },
      "execution_count": 102,
      "outputs": [
        {
          "output_type": "stream",
          "name": "stdout",
          "text": [
            "                           precision    recall  f1-score   support\n",
            "\n",
            "dzgroup_ARF/MOSF w/Sepsis       0.56      0.89      0.69       340\n",
            "              dzgroup_CHF       0.45      0.36      0.40        95\n",
            "             dzgroup_COPD       0.42      0.30      0.35        93\n",
            "        dzgroup_Cirrhosis       0.00      0.00      0.00        52\n",
            "     dzgroup_Colon Cancer       0.00      0.00      0.00        14\n",
            "             dzgroup_Coma       0.73      0.53      0.62        62\n",
            "      dzgroup_Lung Cancer       0.44      0.47      0.45        43\n",
            "     dzgroup_MOSF w/Malig       0.00      0.00      0.00        66\n",
            "\n",
            "                 accuracy                           0.54       765\n",
            "                macro avg       0.33      0.32      0.31       765\n",
            "             weighted avg       0.44      0.54      0.47       765\n",
            "\n",
            "Accuracy: 0.5437908496732026\n"
          ]
        },
        {
          "output_type": "stream",
          "name": "stderr",
          "text": [
            "/usr/local/lib/python3.10/dist-packages/sklearn/metrics/_classification.py:1344: UndefinedMetricWarning: Precision and F-score are ill-defined and being set to 0.0 in labels with no predicted samples. Use `zero_division` parameter to control this behavior.\n",
            "  _warn_prf(average, modifier, msg_start, len(result))\n",
            "/usr/local/lib/python3.10/dist-packages/sklearn/metrics/_classification.py:1344: UndefinedMetricWarning: Precision and F-score are ill-defined and being set to 0.0 in labels with no predicted samples. Use `zero_division` parameter to control this behavior.\n",
            "  _warn_prf(average, modifier, msg_start, len(result))\n",
            "/usr/local/lib/python3.10/dist-packages/sklearn/metrics/_classification.py:1344: UndefinedMetricWarning: Precision and F-score are ill-defined and being set to 0.0 in labels with no predicted samples. Use `zero_division` parameter to control this behavior.\n",
            "  _warn_prf(average, modifier, msg_start, len(result))\n"
          ]
        }
      ]
    },
    {
      "cell_type": "markdown",
      "source": [
        "## Hyperparameter Tuning\n"
      ],
      "metadata": {
        "id": "VfDp0n70i1w4"
      }
    },
    {
      "cell_type": "code",
      "source": [
        "# find the beter parameters\n",
        "# test for best model\n",
        "from sklearn.model_selection import GridSearchCV\n",
        "\n",
        "# Define the hyperparameter grid\n",
        "param_grid = {'C': [0.1, 1, 10], 'gamma': [0.01, 0.1, 1], 'kernel': ['linear', 'rbf', 'poly', 'sigmoid']}\n",
        "\n",
        "# Create an SVM classifier\n",
        "svm_classifier = SVC()\n",
        "\n",
        "# Create the GridSearchCV object\n",
        "grid_search = GridSearchCV(svm_classifier, param_grid, cv=3, scoring='accuracy')\n",
        "\n",
        "# Fit the model with different hyperparameter combinations\n",
        "grid_search.fit(X_train,y_train.idxmax(axis=1).values)\n",
        "\n",
        "# Get the best hyperparameters\n",
        "best_params = grid_search.best_params_\n",
        "\n",
        "# Get the best model\n",
        "best_model = grid_search.best_estimator_\n",
        "\n",
        "# Evaluate the best model on the test set\n",
        "accuracy = best_model.score(X_test, y_test.idxmax(axis=1).values)\n",
        "print(f\"Best Hyperparameters: {best_params}\")\n",
        "print(f\"Accuracy on Test Set: {accuracy}\")"
      ],
      "metadata": {
        "colab": {
          "base_uri": "https://localhost:8080/"
        },
        "id": "RXdJvNt0Yr9T",
        "outputId": "5ace8330-aad5-48b2-d3ff-0c9e02fb3964"
      },
      "execution_count": 103,
      "outputs": [
        {
          "output_type": "stream",
          "name": "stdout",
          "text": [
            "Best Hyperparameters: {'C': 10, 'gamma': 0.01, 'kernel': 'rbf'}\n",
            "Accuracy on Test Set: 0.5568627450980392\n"
          ]
        }
      ]
    },
    {
      "cell_type": "markdown",
      "source": [
        "## Oversampling Data\n"
      ],
      "metadata": {
        "id": "vN47UktLccph"
      }
    },
    {
      "cell_type": "markdown",
      "source": [
        "### RandomOverSampler"
      ],
      "metadata": {
        "id": "Qd6Ljpj2jRj6"
      }
    },
    {
      "cell_type": "code",
      "source": [
        "X2 = df_pre_ohe.drop('dzgroup', axis = 1)\n",
        "y2 = df_pre_ohe['dzgroup']\n",
        "\n",
        "X2_train, X2_test, y2_train, y2_test = train_test_split(X2, y2, test_size=0.2, random_state=21)"
      ],
      "metadata": {
        "id": "k1A3GFnJ8qI0"
      },
      "execution_count": 155,
      "outputs": []
    },
    {
      "cell_type": "code",
      "source": [
        "import numpy as np\n",
        "from imblearn.over_sampling import RandomOverSampler\n",
        "from sklearn.datasets import make_classification\n",
        "from sklearn.model_selection import train_test_split\n",
        "\n",
        "rs = RandomOverSampler(random_state=11)\n",
        "X2_train_res, y2_train_res = rs.fit_resample(X2_train, y2_train)\n",
        "\n",
        "# Results\n",
        "print(\"Before Oversampling: \\n\", y2_train.value_counts(), \"\\n\")\n",
        "print(\"After Oversampling: \\n\", y2_train_res.value_counts())"
      ],
      "metadata": {
        "colab": {
          "base_uri": "https://localhost:8080/"
        },
        "id": "WPqWFpdofMPT",
        "outputId": "06529d67-66fa-4ca7-c22d-5ccca88ea304"
      },
      "execution_count": 156,
      "outputs": [
        {
          "output_type": "stream",
          "name": "stdout",
          "text": [
            "Before Oversampling: \n",
            " ARF/MOSF w/Sepsis    1377\n",
            "CHF                   377\n",
            "COPD                  353\n",
            "MOSF w/Malig          269\n",
            "Coma                  202\n",
            "Lung Cancer           202\n",
            "Cirrhosis             195\n",
            "Colon Cancer           84\n",
            "Name: dzgroup, dtype: int64 \n",
            "\n",
            "After Oversampling: \n",
            " COPD                 1377\n",
            "ARF/MOSF w/Sepsis    1377\n",
            "Coma                 1377\n",
            "CHF                  1377\n",
            "MOSF w/Malig         1377\n",
            "Lung Cancer          1377\n",
            "Cirrhosis            1377\n",
            "Colon Cancer         1377\n",
            "Name: dzgroup, dtype: int64\n"
          ]
        }
      ]
    },
    {
      "cell_type": "markdown",
      "source": [
        "### Evaluation"
      ],
      "metadata": {
        "id": "Lg-A6EAdjTPe"
      }
    },
    {
      "cell_type": "code",
      "source": [
        "# ohe\n",
        "y2_test = pd.get_dummies(y2_test)\n",
        "y2_train_res = pd.get_dummies(y2_train_res)"
      ],
      "metadata": {
        "id": "OU-9z_7v7lfy"
      },
      "execution_count": 157,
      "outputs": []
    },
    {
      "cell_type": "code",
      "source": [
        "svm_classifier = SVC(kernel='rbf', C = 10, gamma = 0.1)\n",
        "svm_classifier.fit(X2_train_res, y2_train_res.idxmax(axis = 1).values)\n",
        "y2_true = y2_test.idxmax(axis=1).values\n",
        "y2_pred = svm_classifier.predict(X2_test)\n",
        "print(classification_report(y2_true, y2_pred))\n",
        "\n",
        "# Evaluate the accuracy\n",
        "accuracy = accuracy_score(y2_true, y2_pred)\n",
        "print(f\"Accuracy: {accuracy}\")"
      ],
      "metadata": {
        "colab": {
          "base_uri": "https://localhost:8080/"
        },
        "id": "iR-TFtH1ddvn",
        "outputId": "9b99f64a-0777-4bd7-dc51-f82b612040dd"
      },
      "execution_count": 160,
      "outputs": [
        {
          "output_type": "stream",
          "name": "stdout",
          "text": [
            "                   precision    recall  f1-score   support\n",
            "\n",
            "ARF/MOSF w/Sepsis       0.61      0.77      0.68       340\n",
            "              CHF       0.42      0.37      0.39        95\n",
            "             COPD       0.41      0.35      0.38        93\n",
            "        Cirrhosis       0.33      0.19      0.24        52\n",
            "     Colon Cancer       0.07      0.07      0.07        14\n",
            "             Coma       0.71      0.55      0.62        62\n",
            "      Lung Cancer       0.38      0.28      0.32        43\n",
            "     MOSF w/Malig       0.30      0.20      0.24        66\n",
            "\n",
            "         accuracy                           0.52       765\n",
            "        macro avg       0.40      0.35      0.37       765\n",
            "     weighted avg       0.50      0.52      0.50       765\n",
            "\n",
            "Accuracy: 0.5241830065359477\n"
          ]
        }
      ]
    },
    {
      "cell_type": "code",
      "source": [
        "# find the beter parameters\n",
        "# test for best model\n",
        "from sklearn.model_selection import GridSearchCV\n",
        "\n",
        "# Define the hyperparameter grid\n",
        "param_grid = {'C': [0.1, 1, 10], 'gamma': [0.01, 0.1, 1], 'kernel': ['linear', 'rbf', 'poly', 'sigmoid']}\n",
        "\n",
        "# Create an SVM classifier\n",
        "svm_classifier = SVC()\n",
        "\n",
        "# Create the GridSearchCV object\n",
        "grid_search = GridSearchCV(svm_classifier, param_grid, cv=3, scoring='accuracy')\n",
        "\n",
        "# Fit the model with different hyperparameter combinations\n",
        "grid_search.fit(X2_train_res,y2_train_res.idxmax(axis=1).values)\n",
        "\n",
        "# Get the best hyperparameters\n",
        "best_params = grid_search.best_params_\n",
        "\n",
        "# Get the best model\n",
        "best_model = grid_search.best_estimator_"
      ],
      "metadata": {
        "id": "v5XhuF89x-XO"
      },
      "execution_count": null,
      "outputs": []
    },
    {
      "cell_type": "code",
      "source": [
        "# Evaluate the best model on the test set\n",
        "accuracy = best_model.score(X2_test, y2_test.idxmax(axis=1).values)\n",
        "print(f\"Best Hyperparameters: {best_params}\")\n",
        "print(f\"Accuracy on Test Set: {accuracy}\")"
      ],
      "metadata": {
        "id": "keMWtBStDxdj",
        "outputId": "dc105659-9f4c-4659-8952-c225f128d05a",
        "colab": {
          "base_uri": "https://localhost:8080/"
        }
      },
      "execution_count": 165,
      "outputs": [
        {
          "output_type": "stream",
          "name": "stdout",
          "text": [
            "Best Hyperparameters: {'C': 1, 'gamma': 1, 'kernel': 'rbf'}\n",
            "Accuracy on Test Set: 0.45098039215686275\n"
          ]
        }
      ]
    }
  ]
}